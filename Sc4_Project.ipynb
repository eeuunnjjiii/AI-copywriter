{
  "nbformat": 4,
  "nbformat_minor": 0,
  "metadata": {
    "colab": {
      "name": "Sc4_Project_base-2.ipynb",
      "provenance": [],
      "collapsed_sections": [
        "5ce7gOg_5NGb",
        "xlpqEmvM0HST",
        "Jg0wpxs6FdU-"
      ]
    },
    "kernelspec": {
      "name": "python3",
      "display_name": "Python 3"
    },
    "language_info": {
      "name": "python"
    },
    "accelerator": "GPU"
  },
  "cells": [
    {
      "cell_type": "markdown",
      "metadata": {
        "id": "Gv6efP3VP4fp"
      },
      "source": [
        "# Sc4 Project - Deep Learning"
      ]
    },
    {
      "cell_type": "markdown",
      "metadata": {
        "id": "wBZB4NEJQd-l"
      },
      "source": [
        "# 1. 주제 선정\n",
        "### 👉🏻 바쁜 자영업자를 위한 광고 문안(a.k.a. 카피) 텍스트 생성기 만들기\n",
        "- 음식 메뉴명 입력 시, 적합한 카피 생성\n",
        "\n",
        "> 예시) \n",
        "- 맛있는 김치찌개\n",
        "- 개운하고 깔끔한 김치찌개 / 쫄깃한 항정살을 듬뿍 넣은 김치찌개\n",
        "\n",
        "### 👉🏻 광고 문안으로 베스트셀러 상품 예측하기"
      ]
    },
    {
      "cell_type": "markdown",
      "metadata": {
        "id": "ksDguFBWXANi"
      },
      "source": [
        "# 2. 데이터 선정\n",
        "### - 마켓컬리 데이터를 이용\n"
      ]
    },
    {
      "cell_type": "markdown",
      "metadata": {
        "id": "4cozlEGq8sE9"
      },
      "source": [
        "## 데이터 준비\n",
        "- 제목 카피\n",
        "- 컨텐츠 카피\n",
        "- 각 카테고리별 인기순위 30 상품 라벨링"
      ]
    },
    {
      "cell_type": "code",
      "metadata": {
        "id": "ALaxbabrVxNI"
      },
      "source": [
        "import os\n",
        "import pandas as pd\n",
        "import re\n",
        "import numpy as np\n",
        "import matplotlib.pyplot as plt\n",
        "from collections import Counter\n",
        "import seaborn as sns\n",
        "\n",
        "import tensorflow as tf\n",
        "from tensorflow import keras\n",
        "\n",
        "from string import punctuation\n",
        "from tensorflow.keras.preprocessing.text import Tokenizer\n",
        "from tensorflow.keras.preprocessing.sequence import pad_sequences\n",
        "from tensorflow.keras.utils import to_categorical\n",
        "from tensorflow.keras.models import Sequential\n",
        "from tensorflow.keras.layers import Embedding, Dense, LSTM\n",
        "from tensorflow.keras.callbacks import EarlyStopping, ModelCheckpoint\n",
        "\n",
        "tf.random.set_seed(42)\n",
        "np.random.seed(42)"
      ],
      "execution_count": null,
      "outputs": []
    },
    {
      "cell_type": "code",
      "metadata": {
        "colab": {
          "base_uri": "https://localhost:8080/",
          "height": 221
        },
        "id": "PxksW4aMxxbZ",
        "outputId": "cb90e1c4-3e8e-4f88-8d9a-212bb98e49b3"
      },
      "source": [
        "data = pd.read_csv('kurly.csv', index_col=0).drop('index', axis=1)\n",
        "print('전체 데이터 수 :{}'.format(len(data['title'])))\n",
        "data.head()"
      ],
      "execution_count": null,
      "outputs": [
        {
          "output_type": "stream",
          "text": [
            "전체 데이터 수 :15669\n"
          ],
          "name": "stdout"
        },
        {
          "output_type": "execute_result",
          "data": {
            "text/html": [
              "<div>\n",
              "<style scoped>\n",
              "    .dataframe tbody tr th:only-of-type {\n",
              "        vertical-align: middle;\n",
              "    }\n",
              "\n",
              "    .dataframe tbody tr th {\n",
              "        vertical-align: top;\n",
              "    }\n",
              "\n",
              "    .dataframe thead th {\n",
              "        text-align: right;\n",
              "    }\n",
              "</style>\n",
              "<table border=\"1\" class=\"dataframe\">\n",
              "  <thead>\n",
              "    <tr style=\"text-align: right;\">\n",
              "      <th></th>\n",
              "      <th>title</th>\n",
              "      <th>contents</th>\n",
              "    </tr>\n",
              "  </thead>\n",
              "  <tbody>\n",
              "    <tr>\n",
              "      <th>0</th>\n",
              "      <td>\\n합리적 가격으로 만나는 국내산 애호박\\n애호박\\n</td>\n",
              "      <td>어느 요리에든 어울리는, 만능 채소 일순위로 손꼽히는 애호박을 합리적인 가격으로 만...</td>\n",
              "    </tr>\n",
              "    <tr>\n",
              "      <th>1</th>\n",
              "      <td>\\n원하는 대로 섞어 만드는 하루치 건강\\n무농약 간편 샐러드 6종\\n</td>\n",
              "      <td>짙은 녹색의 잎채소는 식이섬유부터 미네랄, 철분, 비타민, 엽산 등 각종 영양분이 ...</td>\n",
              "    </tr>\n",
              "    <tr>\n",
              "      <th>2</th>\n",
              "      <td>\\n무농약 콩으로 기른 장인의 나물\\n[김구원선생] \\n국내산 무농약 콩나물\\n</td>\n",
              "      <td>4대 째 두부 장인의 전통을 이어온 브랜드, 김구원선생의 콩나물을 소개할게요. 햇빛...</td>\n",
              "    </tr>\n",
              "    <tr>\n",
              "      <th>3</th>\n",
              "      <td>\\n청량하고 아삭한 채소\\n다다기오이\\n</td>\n",
              "      <td>마디마다 열매가 다닥다닥 열린다 하여 붙여진 이름, 다다기오이. 꼭지로 갈수록 점차...</td>\n",
              "    </tr>\n",
              "    <tr>\n",
              "      <th>4</th>\n",
              "      <td>\\n맛과 식감, 영양마저 뛰어난\\n참타리 버섯\\n</td>\n",
              "      <td>'참타리버섯' 하면 조금 낯설게 느껴질 수 있겠지만, 우리에게 친숙한 느타리 버섯의...</td>\n",
              "    </tr>\n",
              "  </tbody>\n",
              "</table>\n",
              "</div>"
            ],
            "text/plain": [
              "                                          title                                           contents\n",
              "0                 \\n합리적 가격으로 만나는 국내산 애호박\\n애호박\\n  어느 요리에든 어울리는, 만능 채소 일순위로 손꼽히는 애호박을 합리적인 가격으로 만...\n",
              "1       \\n원하는 대로 섞어 만드는 하루치 건강\\n무농약 간편 샐러드 6종\\n  짙은 녹색의 잎채소는 식이섬유부터 미네랄, 철분, 비타민, 엽산 등 각종 영양분이 ...\n",
              "2  \\n무농약 콩으로 기른 장인의 나물\\n[김구원선생] \\n국내산 무농약 콩나물\\n  4대 째 두부 장인의 전통을 이어온 브랜드, 김구원선생의 콩나물을 소개할게요. 햇빛...\n",
              "3                        \\n청량하고 아삭한 채소\\n다다기오이\\n  마디마다 열매가 다닥다닥 열린다 하여 붙여진 이름, 다다기오이. 꼭지로 갈수록 점차...\n",
              "4                   \\n맛과 식감, 영양마저 뛰어난\\n참타리 버섯\\n  '참타리버섯' 하면 조금 낯설게 느껴질 수 있겠지만, 우리에게 친숙한 느타리 버섯의..."
            ]
          },
          "metadata": {
            "tags": []
          },
          "execution_count": 2
        }
      ]
    },
    {
      "cell_type": "code",
      "metadata": {
        "id": "WJFLGWCRQEaA",
        "colab": {
          "base_uri": "https://localhost:8080/",
          "height": 221
        },
        "outputId": "850831a3-5cc8-4e73-e465-bcf1e3aaf48e"
      },
      "source": [
        "best = pd.read_csv('kurly_best.csv', index_col=0)\n",
        "print('베스트 데이터 수 :{}'.format(len(best['title'])))\n",
        "best.head()"
      ],
      "execution_count": null,
      "outputs": [
        {
          "output_type": "stream",
          "text": [
            "베스트 데이터 수 :509\n"
          ],
          "name": "stdout"
        },
        {
          "output_type": "execute_result",
          "data": {
            "text/html": [
              "<div>\n",
              "<style scoped>\n",
              "    .dataframe tbody tr th:only-of-type {\n",
              "        vertical-align: middle;\n",
              "    }\n",
              "\n",
              "    .dataframe tbody tr th {\n",
              "        vertical-align: top;\n",
              "    }\n",
              "\n",
              "    .dataframe thead th {\n",
              "        text-align: right;\n",
              "    }\n",
              "</style>\n",
              "<table border=\"1\" class=\"dataframe\">\n",
              "  <thead>\n",
              "    <tr style=\"text-align: right;\">\n",
              "      <th></th>\n",
              "      <th>title</th>\n",
              "      <th>contents</th>\n",
              "      <th>label</th>\n",
              "    </tr>\n",
              "  </thead>\n",
              "  <tbody>\n",
              "    <tr>\n",
              "      <th>0</th>\n",
              "      <td>\\n합리적 가격으로 만나는 국내산 애호박\\n애호박\\n</td>\n",
              "      <td>어느 요리에든 어울리는, 만능 채소 일순위로 손꼽히는 애호박을 합리적인 가격으로 만...</td>\n",
              "      <td>1</td>\n",
              "    </tr>\n",
              "    <tr>\n",
              "      <th>1</th>\n",
              "      <td>\\n원하는 대로 섞어 만드는 하루치 건강\\n무농약 간편 샐러드 6종\\n</td>\n",
              "      <td>짙은 녹색의 잎채소는 식이섬유부터 미네랄, 철분, 비타민, 엽산 등 각종 영양분이 ...</td>\n",
              "      <td>1</td>\n",
              "    </tr>\n",
              "    <tr>\n",
              "      <th>2</th>\n",
              "      <td>\\n무농약 콩으로 기른 장인의 나물\\n[김구원선생] \\n국내산 무농약 콩나물\\n</td>\n",
              "      <td>4대 째 두부 장인의 전통을 이어온 브랜드, 김구원선생의 콩나물을 소개할게요. 햇빛...</td>\n",
              "      <td>1</td>\n",
              "    </tr>\n",
              "    <tr>\n",
              "      <th>3</th>\n",
              "      <td>\\n청량하고 아삭한 채소\\n다다기오이\\n</td>\n",
              "      <td>마디마다 열매가 다닥다닥 열린다 하여 붙여진 이름, 다다기오이. 꼭지로 갈수록 점차...</td>\n",
              "      <td>1</td>\n",
              "    </tr>\n",
              "    <tr>\n",
              "      <th>4</th>\n",
              "      <td>\\n맛과 식감, 영양마저 뛰어난\\n참타리 버섯\\n</td>\n",
              "      <td>'참타리버섯' 하면 조금 낯설게 느껴질 수 있겠지만, 우리에게 친숙한 느타리 버섯의...</td>\n",
              "      <td>1</td>\n",
              "    </tr>\n",
              "  </tbody>\n",
              "</table>\n",
              "</div>"
            ],
            "text/plain": [
              "                                          title  ... label\n",
              "0                 \\n합리적 가격으로 만나는 국내산 애호박\\n애호박\\n  ...     1\n",
              "1       \\n원하는 대로 섞어 만드는 하루치 건강\\n무농약 간편 샐러드 6종\\n  ...     1\n",
              "2  \\n무농약 콩으로 기른 장인의 나물\\n[김구원선생] \\n국내산 무농약 콩나물\\n  ...     1\n",
              "3                        \\n청량하고 아삭한 채소\\n다다기오이\\n  ...     1\n",
              "4                   \\n맛과 식감, 영양마저 뛰어난\\n참타리 버섯\\n  ...     1\n",
              "\n",
              "[5 rows x 3 columns]"
            ]
          },
          "metadata": {
            "tags": []
          },
          "execution_count": 3
        }
      ]
    },
    {
      "cell_type": "markdown",
      "metadata": {
        "id": "4gsvo1n1RDbN"
      },
      "source": [
        "# 전처리\n",
        "- '\\n', '- 종' 등 텍스트 수정\n",
        "- 브랜드명 삭제"
      ]
    },
    {
      "cell_type": "code",
      "metadata": {
        "colab": {
          "base_uri": "https://localhost:8080/",
          "height": 204
        },
        "id": "OX_ZLx66RJY4",
        "outputId": "ad533694-84e7-49b9-c195-99c2bff4a993"
      },
      "source": [
        "#best data + data\n",
        "df = data.merge(best, on=['title', 'contents'], how='left')\n",
        "\n",
        "#best data = 1, no best data = 0\n",
        "df = df.fillna(0)\n",
        "\n",
        "#중복값 제거\n",
        "df = df.drop_duplicates()\n",
        "\n",
        "df.tail()"
      ],
      "execution_count": null,
      "outputs": [
        {
          "output_type": "execute_result",
          "data": {
            "text/html": [
              "<div>\n",
              "<style scoped>\n",
              "    .dataframe tbody tr th:only-of-type {\n",
              "        vertical-align: middle;\n",
              "    }\n",
              "\n",
              "    .dataframe tbody tr th {\n",
              "        vertical-align: top;\n",
              "    }\n",
              "\n",
              "    .dataframe thead th {\n",
              "        text-align: right;\n",
              "    }\n",
              "</style>\n",
              "<table border=\"1\" class=\"dataframe\">\n",
              "  <thead>\n",
              "    <tr style=\"text-align: right;\">\n",
              "      <th></th>\n",
              "      <th>title</th>\n",
              "      <th>contents</th>\n",
              "      <th>label</th>\n",
              "    </tr>\n",
              "  </thead>\n",
              "  <tbody>\n",
              "    <tr>\n",
              "      <th>15757</th>\n",
              "      <td>\\n밋밋한 국물 맛이 확 깊어지는\\n[선물세트]\\n해통령 맛국물거리 세트\\n</td>\n",
              "      <td>가공하지 않은 순수한 원물이 그대로 쏙, 티백 안에 담겼어요. 천연 조미료 시장의 ...</td>\n",
              "      <td>0.0</td>\n",
              "    </tr>\n",
              "    <tr>\n",
              "      <th>15758</th>\n",
              "      <td>\\n담백하고 고소한 프리미엄 피스타치오\\n[원더풀] 피스타치오 무염&amp;가염\\n</td>\n",
              "      <td>피스타치오는 옅은 갈색의 껍질을 갈라 먹는 재미가 쏠쏠한 견과류예요. 짙은 초록빛의...</td>\n",
              "      <td>0.0</td>\n",
              "    </tr>\n",
              "    <tr>\n",
              "      <th>15759</th>\n",
              "      <td>\\n진한 고소함을 품은 프리미엄 아몬드\\n[원더풀] 아몬드 무염&amp;가염\\n</td>\n",
              "      <td>우리에게 익숙한 아몬드는 바삭하고 오독한 식감과 고소함이 번져오는 맛으로 오감을 만...</td>\n",
              "      <td>0.0</td>\n",
              "    </tr>\n",
              "    <tr>\n",
              "      <th>15760</th>\n",
              "      <td>\\n새콤달콤 과일의 풍미가 가득 담긴\\n[갈바니나] 유기농 과일 탄산수 6종 (박스)\\n</td>\n",
              "      <td>이탈리아를 대표하는 미네랄 워터 브랜드, 갈바니나의 유기농 과일 탄산수예요. 한 입...</td>\n",
              "      <td>0.0</td>\n",
              "    </tr>\n",
              "    <tr>\n",
              "      <th>15761</th>\n",
              "      <td>\\n근사한 브런치도 간편하게\\n[정미경키친]\\n달걀 샌드위치 스프레드\\n</td>\n",
              "      <td>바쁜 아침 시간, 식사 준비는 정말 힘에 부치지요. 하지만 정미경키친의 샌드위치 스...</td>\n",
              "      <td>0.0</td>\n",
              "    </tr>\n",
              "  </tbody>\n",
              "</table>\n",
              "</div>"
            ],
            "text/plain": [
              "                                                   title  ... label\n",
              "15757         \\n밋밋한 국물 맛이 확 깊어지는\\n[선물세트]\\n해통령 맛국물거리 세트\\n  ...   0.0\n",
              "15758         \\n담백하고 고소한 프리미엄 피스타치오\\n[원더풀] 피스타치오 무염&가염\\n  ...   0.0\n",
              "15759           \\n진한 고소함을 품은 프리미엄 아몬드\\n[원더풀] 아몬드 무염&가염\\n  ...   0.0\n",
              "15760  \\n새콤달콤 과일의 풍미가 가득 담긴\\n[갈바니나] 유기농 과일 탄산수 6종 (박스)\\n  ...   0.0\n",
              "15761           \\n근사한 브런치도 간편하게\\n[정미경키친]\\n달걀 샌드위치 스프레드\\n  ...   0.0\n",
              "\n",
              "[5 rows x 3 columns]"
            ]
          },
          "metadata": {
            "tags": []
          },
          "execution_count": 4
        }
      ]
    },
    {
      "cell_type": "code",
      "metadata": {
        "colab": {
          "base_uri": "https://localhost:8080/",
          "height": 204
        },
        "id": "giIEKTrPyCP1",
        "outputId": "2b6c4ecb-cf58-4a96-daa5-68af0f1629f3"
      },
      "source": [
        "#\\n 수정\n",
        "titles = df['title']\n",
        "titles_=titles.str.replace('\\n', ' ')\n",
        "df['title']=titles_\n",
        "df.head()"
      ],
      "execution_count": null,
      "outputs": [
        {
          "output_type": "execute_result",
          "data": {
            "text/html": [
              "<div>\n",
              "<style scoped>\n",
              "    .dataframe tbody tr th:only-of-type {\n",
              "        vertical-align: middle;\n",
              "    }\n",
              "\n",
              "    .dataframe tbody tr th {\n",
              "        vertical-align: top;\n",
              "    }\n",
              "\n",
              "    .dataframe thead th {\n",
              "        text-align: right;\n",
              "    }\n",
              "</style>\n",
              "<table border=\"1\" class=\"dataframe\">\n",
              "  <thead>\n",
              "    <tr style=\"text-align: right;\">\n",
              "      <th></th>\n",
              "      <th>title</th>\n",
              "      <th>contents</th>\n",
              "      <th>label</th>\n",
              "    </tr>\n",
              "  </thead>\n",
              "  <tbody>\n",
              "    <tr>\n",
              "      <th>0</th>\n",
              "      <td>합리적 가격으로 만나는 국내산 애호박 애호박</td>\n",
              "      <td>어느 요리에든 어울리는, 만능 채소 일순위로 손꼽히는 애호박을 합리적인 가격으로 만...</td>\n",
              "      <td>1.0</td>\n",
              "    </tr>\n",
              "    <tr>\n",
              "      <th>1</th>\n",
              "      <td>원하는 대로 섞어 만드는 하루치 건강 무농약 간편 샐러드 6종</td>\n",
              "      <td>짙은 녹색의 잎채소는 식이섬유부터 미네랄, 철분, 비타민, 엽산 등 각종 영양분이 ...</td>\n",
              "      <td>1.0</td>\n",
              "    </tr>\n",
              "    <tr>\n",
              "      <th>3</th>\n",
              "      <td>무농약 콩으로 기른 장인의 나물 [김구원선생]  국내산 무농약 콩나물</td>\n",
              "      <td>4대 째 두부 장인의 전통을 이어온 브랜드, 김구원선생의 콩나물을 소개할게요. 햇빛...</td>\n",
              "      <td>1.0</td>\n",
              "    </tr>\n",
              "    <tr>\n",
              "      <th>4</th>\n",
              "      <td>청량하고 아삭한 채소 다다기오이</td>\n",
              "      <td>마디마다 열매가 다닥다닥 열린다 하여 붙여진 이름, 다다기오이. 꼭지로 갈수록 점차...</td>\n",
              "      <td>1.0</td>\n",
              "    </tr>\n",
              "    <tr>\n",
              "      <th>5</th>\n",
              "      <td>맛과 식감, 영양마저 뛰어난 참타리 버섯</td>\n",
              "      <td>'참타리버섯' 하면 조금 낯설게 느껴질 수 있겠지만, 우리에게 친숙한 느타리 버섯의...</td>\n",
              "      <td>1.0</td>\n",
              "    </tr>\n",
              "  </tbody>\n",
              "</table>\n",
              "</div>"
            ],
            "text/plain": [
              "                                      title  ... label\n",
              "0                 합리적 가격으로 만나는 국내산 애호박 애호박   ...   1.0\n",
              "1       원하는 대로 섞어 만드는 하루치 건강 무농약 간편 샐러드 6종   ...   1.0\n",
              "3   무농약 콩으로 기른 장인의 나물 [김구원선생]  국내산 무농약 콩나물   ...   1.0\n",
              "4                        청량하고 아삭한 채소 다다기오이   ...   1.0\n",
              "5                   맛과 식감, 영양마저 뛰어난 참타리 버섯   ...   1.0\n",
              "\n",
              "[5 rows x 3 columns]"
            ]
          },
          "metadata": {
            "tags": []
          },
          "execution_count": 5
        }
      ]
    },
    {
      "cell_type": "code",
      "metadata": {
        "id": "rZcVIdD0yCfx"
      },
      "source": [
        "titles = []\n",
        "titles.extend(list(df.title.values))\n",
        "contents = []\n",
        "contents.extend(list(df.contents.values))"
      ],
      "execution_count": null,
      "outputs": []
    },
    {
      "cell_type": "code",
      "metadata": {
        "id": "ktjzJKrHyEjk"
      },
      "source": [
        "#브랜드명 삭제\n",
        "\n",
        "for i in range(len(titles)):\n",
        "  titles[i]=re.sub(r'\\[[^)]*\\]', '', titles[i])"
      ],
      "execution_count": null,
      "outputs": []
    },
    {
      "cell_type": "code",
      "metadata": {
        "id": "hPEv4TrZyHJk",
        "colab": {
          "base_uri": "https://localhost:8080/",
          "height": 204
        },
        "outputId": "489d1e2a-dc3b-4a0f-df41-7da87cf97ebf"
      },
      "source": [
        "#n종 삭제\n",
        "for j in range(len(titles)):\n",
        "  for i in range(1,10):\n",
        "    try:\n",
        "      titles[j]=titles[j].replace(str(i)+'종','')\n",
        "    except:\n",
        "      pass\n",
        "\n",
        "df['title'] = titles\n",
        "df.tail()"
      ],
      "execution_count": null,
      "outputs": [
        {
          "output_type": "execute_result",
          "data": {
            "text/html": [
              "<div>\n",
              "<style scoped>\n",
              "    .dataframe tbody tr th:only-of-type {\n",
              "        vertical-align: middle;\n",
              "    }\n",
              "\n",
              "    .dataframe tbody tr th {\n",
              "        vertical-align: top;\n",
              "    }\n",
              "\n",
              "    .dataframe thead th {\n",
              "        text-align: right;\n",
              "    }\n",
              "</style>\n",
              "<table border=\"1\" class=\"dataframe\">\n",
              "  <thead>\n",
              "    <tr style=\"text-align: right;\">\n",
              "      <th></th>\n",
              "      <th>title</th>\n",
              "      <th>contents</th>\n",
              "      <th>label</th>\n",
              "    </tr>\n",
              "  </thead>\n",
              "  <tbody>\n",
              "    <tr>\n",
              "      <th>15757</th>\n",
              "      <td>밋밋한 국물 맛이 확 깊어지는  해통령 맛국물거리 세트</td>\n",
              "      <td>가공하지 않은 순수한 원물이 그대로 쏙, 티백 안에 담겼어요. 천연 조미료 시장의 ...</td>\n",
              "      <td>0.0</td>\n",
              "    </tr>\n",
              "    <tr>\n",
              "      <th>15758</th>\n",
              "      <td>담백하고 고소한 프리미엄 피스타치오  피스타치오 무염&amp;가염</td>\n",
              "      <td>피스타치오는 옅은 갈색의 껍질을 갈라 먹는 재미가 쏠쏠한 견과류예요. 짙은 초록빛의...</td>\n",
              "      <td>0.0</td>\n",
              "    </tr>\n",
              "    <tr>\n",
              "      <th>15759</th>\n",
              "      <td>진한 고소함을 품은 프리미엄 아몬드  아몬드 무염&amp;가염</td>\n",
              "      <td>우리에게 익숙한 아몬드는 바삭하고 오독한 식감과 고소함이 번져오는 맛으로 오감을 만...</td>\n",
              "      <td>0.0</td>\n",
              "    </tr>\n",
              "    <tr>\n",
              "      <th>15760</th>\n",
              "      <td>새콤달콤 과일의 풍미가 가득 담긴  유기농 과일 탄산수  (박스)</td>\n",
              "      <td>이탈리아를 대표하는 미네랄 워터 브랜드, 갈바니나의 유기농 과일 탄산수예요. 한 입...</td>\n",
              "      <td>0.0</td>\n",
              "    </tr>\n",
              "    <tr>\n",
              "      <th>15761</th>\n",
              "      <td>근사한 브런치도 간편하게  달걀 샌드위치 스프레드</td>\n",
              "      <td>바쁜 아침 시간, 식사 준비는 정말 힘에 부치지요. 하지만 정미경키친의 샌드위치 스...</td>\n",
              "      <td>0.0</td>\n",
              "    </tr>\n",
              "  </tbody>\n",
              "</table>\n",
              "</div>"
            ],
            "text/plain": [
              "                                        title  ... label\n",
              "15757         밋밋한 국물 맛이 확 깊어지는  해통령 맛국물거리 세트   ...   0.0\n",
              "15758       담백하고 고소한 프리미엄 피스타치오  피스타치오 무염&가염   ...   0.0\n",
              "15759         진한 고소함을 품은 프리미엄 아몬드  아몬드 무염&가염   ...   0.0\n",
              "15760   새콤달콤 과일의 풍미가 가득 담긴  유기농 과일 탄산수  (박스)   ...   0.0\n",
              "15761            근사한 브런치도 간편하게  달걀 샌드위치 스프레드   ...   0.0\n",
              "\n",
              "[5 rows x 3 columns]"
            ]
          },
          "metadata": {
            "tags": []
          },
          "execution_count": 8
        }
      ]
    },
    {
      "cell_type": "markdown",
      "metadata": {
        "id": "M5JmQpjpBPG7"
      },
      "source": [
        "# EDA"
      ]
    },
    {
      "cell_type": "markdown",
      "metadata": {
        "id": "phYN1fk6BST0"
      },
      "source": [
        "## 단어 빈도 기준"
      ]
    },
    {
      "cell_type": "markdown",
      "metadata": {
        "id": "xnp0OMEMV7dN"
      },
      "source": [
        "#### 한글 시각화 폰트 설치"
      ]
    },
    {
      "cell_type": "code",
      "metadata": {
        "colab": {
          "base_uri": "https://localhost:8080/"
        },
        "id": "cRkNVtkddcyu",
        "outputId": "caf16fa2-19fe-401c-c9c2-75721f93aa67"
      },
      "source": [
        "!apt-get install fonts-nanum*\n",
        "!apt-get install fontconfig"
      ],
      "execution_count": null,
      "outputs": [
        {
          "output_type": "stream",
          "text": [
            "Reading package lists... Done\n",
            "Building dependency tree       \n",
            "Reading state information... Done\n",
            "Note, selecting 'fonts-nanum-eco' for glob 'fonts-nanum*'\n",
            "Note, selecting 'fonts-nanum' for glob 'fonts-nanum*'\n",
            "Note, selecting 'fonts-nanum-gothic-light' for glob 'fonts-nanum*'\n",
            "Note, selecting 'fonts-nanum-coding' for glob 'fonts-nanum*'\n",
            "Note, selecting 'fonts-nanum-extra' for glob 'fonts-nanum*'\n",
            "fonts-nanum is already the newest version (20170925-1).\n",
            "fonts-nanum-coding is already the newest version (2.5-1).\n",
            "fonts-nanum-eco is already the newest version (1.000-6).\n",
            "fonts-nanum-extra is already the newest version (20170925-1).\n",
            "0 upgraded, 0 newly installed, 0 to remove and 39 not upgraded.\n",
            "Reading package lists... Done\n",
            "Building dependency tree       \n",
            "Reading state information... Done\n",
            "fontconfig is already the newest version (2.12.6-0ubuntu2).\n",
            "0 upgraded, 0 newly installed, 0 to remove and 39 not upgraded.\n"
          ],
          "name": "stdout"
        }
      ]
    },
    {
      "cell_type": "code",
      "metadata": {
        "colab": {
          "base_uri": "https://localhost:8080/"
        },
        "id": "FJqzlgVTdlpg",
        "outputId": "aa18803a-de8b-4ee7-f51a-5eeca3144937"
      },
      "source": [
        "import matplotlib.font_manager as fm\n",
        "path = '/usr/share/fonts/truetype/nanum/NanumGothicEco.ttf'\n",
        "font_name = fm.FontProperties(fname=path, size=10).get_name()\n",
        "print(font_name)\n",
        "plt.rc('font', family=font_name)\n",
        "fm._rebuild()"
      ],
      "execution_count": null,
      "outputs": [
        {
          "output_type": "stream",
          "text": [
            "NanumGothic Eco\n"
          ],
          "name": "stdout"
        }
      ]
    },
    {
      "cell_type": "markdown",
      "metadata": {
        "id": "dNc57Z488ugK"
      },
      "source": [
        "### 형태소 분석 _ 명사, 동사, 형용사"
      ]
    },
    {
      "cell_type": "code",
      "metadata": {
        "colab": {
          "base_uri": "https://localhost:8080/"
        },
        "id": "IR6cvJGpyLYH",
        "outputId": "26ed61d2-ecdf-4024-fd05-2636c8584772"
      },
      "source": [
        "!pip install konlpy"
      ],
      "execution_count": null,
      "outputs": [
        {
          "output_type": "stream",
          "text": [
            "Requirement already satisfied: konlpy in /usr/local/lib/python3.7/dist-packages (0.5.2)\n",
            "Requirement already satisfied: JPype1>=0.7.0 in /usr/local/lib/python3.7/dist-packages (from konlpy) (1.3.0)\n",
            "Requirement already satisfied: lxml>=4.1.0 in /usr/local/lib/python3.7/dist-packages (from konlpy) (4.2.6)\n",
            "Requirement already satisfied: tweepy>=3.7.0 in /usr/local/lib/python3.7/dist-packages (from konlpy) (3.10.0)\n",
            "Requirement already satisfied: colorama in /usr/local/lib/python3.7/dist-packages (from konlpy) (0.4.4)\n",
            "Requirement already satisfied: beautifulsoup4==4.6.0 in /usr/local/lib/python3.7/dist-packages (from konlpy) (4.6.0)\n",
            "Requirement already satisfied: numpy>=1.6 in /usr/local/lib/python3.7/dist-packages (from konlpy) (1.19.5)\n",
            "Requirement already satisfied: typing-extensions; python_version < \"3.8\" in /usr/local/lib/python3.7/dist-packages (from JPype1>=0.7.0->konlpy) (3.7.4.3)\n",
            "Requirement already satisfied: six>=1.10.0 in /usr/local/lib/python3.7/dist-packages (from tweepy>=3.7.0->konlpy) (1.15.0)\n",
            "Requirement already satisfied: requests[socks]>=2.11.1 in /usr/local/lib/python3.7/dist-packages (from tweepy>=3.7.0->konlpy) (2.23.0)\n",
            "Requirement already satisfied: requests-oauthlib>=0.7.0 in /usr/local/lib/python3.7/dist-packages (from tweepy>=3.7.0->konlpy) (1.3.0)\n",
            "Requirement already satisfied: urllib3!=1.25.0,!=1.25.1,<1.26,>=1.21.1 in /usr/local/lib/python3.7/dist-packages (from requests[socks]>=2.11.1->tweepy>=3.7.0->konlpy) (1.24.3)\n",
            "Requirement already satisfied: certifi>=2017.4.17 in /usr/local/lib/python3.7/dist-packages (from requests[socks]>=2.11.1->tweepy>=3.7.0->konlpy) (2021.5.30)\n",
            "Requirement already satisfied: chardet<4,>=3.0.2 in /usr/local/lib/python3.7/dist-packages (from requests[socks]>=2.11.1->tweepy>=3.7.0->konlpy) (3.0.4)\n",
            "Requirement already satisfied: idna<3,>=2.5 in /usr/local/lib/python3.7/dist-packages (from requests[socks]>=2.11.1->tweepy>=3.7.0->konlpy) (2.10)\n",
            "Requirement already satisfied: PySocks!=1.5.7,>=1.5.6; extra == \"socks\" in /usr/local/lib/python3.7/dist-packages (from requests[socks]>=2.11.1->tweepy>=3.7.0->konlpy) (1.7.1)\n",
            "Requirement already satisfied: oauthlib>=3.0.0 in /usr/local/lib/python3.7/dist-packages (from requests-oauthlib>=0.7.0->tweepy>=3.7.0->konlpy) (3.1.1)\n"
          ],
          "name": "stdout"
        }
      ]
    },
    {
      "cell_type": "code",
      "metadata": {
        "id": "0GJY14JiyNZ1"
      },
      "source": [
        "from konlpy.tag import Okt  \n",
        "okt=Okt()"
      ],
      "execution_count": null,
      "outputs": []
    },
    {
      "cell_type": "code",
      "metadata": {
        "id": "Z_E1zxJUDH6u"
      },
      "source": [
        "# 불용어, 특수문자 제거 후 토큰화 하는 함수\n",
        "def text_stem(text,stopwords, okt):\n",
        "    \n",
        "    txt = re.sub('[^가-힣a-z]', ' ', text)\n",
        "    token = okt.pos(txt, stem=True)\n",
        "    clean_words=[]\n",
        "    for word in token:\n",
        "      if word[0] not in stopwords and word[1] in ['Noun', 'Verb', 'Adjective'] and word[0] not in clean_words:\n",
        "        clean_words.append(word[0])\n",
        "        \n",
        "    return clean_words"
      ],
      "execution_count": null,
      "outputs": []
    },
    {
      "cell_type": "code",
      "metadata": {
        "id": "jjBuIAvr7u-d",
        "colab": {
          "base_uri": "https://localhost:8080/"
        },
        "outputId": "22b516be-ddb6-4644-c100-e6b0f1db9e57"
      },
      "source": [
        "# '한국어불용어100'으로 불용어 지정\n",
        "stop = pd.read_csv('stopwords.txt', sep='\\t', header=None)\n",
        "stopwords = stop[0].to_list()\n",
        "print(stopwords)"
      ],
      "execution_count": null,
      "outputs": [
        {
          "output_type": "stream",
          "text": [
            "['이', '있', '하', '것', '들', '그', '되', '수', '이', '보', '않', '없', '나', '사람', '주', '아니', '등', '같', '우리', '때', '년', '가', '한', '지', '대하', '오', '말', '일', '그렇', '위하', '때문', '그것', '두', '말하', '알', '그러나', '받', '못하', '일', '그런', '또', '문제', '더', '사회', '많', '그리고', '좋', '크', '따르', '중', '나오', '가지', '씨', '시키', '만들', '지금', '생각하', '그러', '속', '하나', '집', '살', '모르', '적', '월', '데', '자신', '안', '어떤', '내', '내', '경우', '명', '생각', '시간', '그녀', '다시', '이런', '앞', '보이', '번', '나', '다른', '어떻', '여자', '개', '전', '들', '사실', '이렇', '점', '싶', '말', '정도', '좀', '원', '잘', '통하', '소리', '놓']\n"
          ],
          "name": "stdout"
        }
      ]
    },
    {
      "cell_type": "code",
      "metadata": {
        "colab": {
          "base_uri": "https://localhost:8080/"
        },
        "id": "2IxTRxhGLIrz",
        "outputId": "ee59ec10-fa46-4869-f85a-4631182b794e"
      },
      "source": [
        "text_stem(titles[0], stopwords, okt)"
      ],
      "execution_count": null,
      "outputs": [
        {
          "output_type": "execute_result",
          "data": {
            "text/plain": [
              "['합리', '가격', '만나다', '국내', '산', '애호박']"
            ]
          },
          "metadata": {
            "tags": []
          },
          "execution_count": 15
        }
      ]
    },
    {
      "cell_type": "code",
      "metadata": {
        "id": "BZFhA6gaLIR0"
      },
      "source": [
        "# title과 contents에 적용\n",
        "title_token = []\n",
        "for i in range(len(titles)):\n",
        "  title_token.append(text_stem(titles[i],stopwords,okt))\n",
        "\n",
        "contents_token = []\n",
        "for i in range(len(contents)):\n",
        "  contents_token.append(text_stem(contents[i],stopwords,okt))"
      ],
      "execution_count": null,
      "outputs": []
    },
    {
      "cell_type": "code",
      "metadata": {
        "colab": {
          "base_uri": "https://localhost:8080/"
        },
        "id": "vGS48UVkLVra",
        "outputId": "1aee3390-967e-49ea-9c5e-487e2d9a8bfb"
      },
      "source": [
        "print(titles[0])\n",
        "print(title_token[0],'\\n')\n",
        "print(contents[0])\n",
        "print(contents_token[0])"
      ],
      "execution_count": null,
      "outputs": [
        {
          "output_type": "stream",
          "text": [
            " 합리적 가격으로 만나는 국내산 애호박 애호박 \n",
            "['합리', '가격', '만나다', '국내', '산', '애호박'] \n",
            "\n",
            "어느 요리에든 어울리는, 만능 채소 일순위로 손꼽히는 애호박을 합리적인 가격으로 만나보세요. 전국의 품질 좋은 농산물이 모여드는 가락시장에서 공수했답니다. 맛 좋고 품질 뛰어난 국내산 애호박이죠. 선명한 연둣빛 과피 속으로는 부드러운 식감과 본연의 단 내음이 신선하게 살아 있어요. 식이섬유, 칼륨, 비타민 등 각종 영양이 풍부한 것은 물론이고요. 맛과 영양을 보장하는 애호박으로 애호박전, 애호박 찌개, 애호박 무침, 애호박 수프 등의 요리를 다채롭게 즐겨보세요. 1개입씩 준비했으니, 그때그때 원하는 만큼씩 담아 가세요.\n",
            "['요리', '어울리다', '만능', '채소', '위로', '손꼽다', '애호박', '합리', '가격', '만나다', '보다', '전국', '품질', '좋다', '농산물', '모여들다', '가락시장', '공수', '하다', '맛', '뛰어나다', '국내', '산', '선명하다', '연둣빛', '과피', '부드럽다', '식감', '본연', '단', '음', '신선하다', '있다', '식이섬유', '칼륨', '비타민', '각종', '영양', '풍부하다', '고요', '보장', '찌개', '무치다', '수프', '다채롭', '즐기다', '개입', '준비', '그때', '원하다', '담다', '가세']\n"
          ],
          "name": "stdout"
        }
      ]
    },
    {
      "cell_type": "code",
      "metadata": {
        "colab": {
          "base_uri": "https://localhost:8080/",
          "height": 289
        },
        "id": "uLszMY6L2slm",
        "outputId": "e3910b62-b301-4393-d26f-034f672eda52"
      },
      "source": [
        "df['stem_title'] = title_token\n",
        "df['stem_contents'] = contents_token\n",
        "df.head()"
      ],
      "execution_count": null,
      "outputs": [
        {
          "output_type": "execute_result",
          "data": {
            "text/html": [
              "<div>\n",
              "<style scoped>\n",
              "    .dataframe tbody tr th:only-of-type {\n",
              "        vertical-align: middle;\n",
              "    }\n",
              "\n",
              "    .dataframe tbody tr th {\n",
              "        vertical-align: top;\n",
              "    }\n",
              "\n",
              "    .dataframe thead th {\n",
              "        text-align: right;\n",
              "    }\n",
              "</style>\n",
              "<table border=\"1\" class=\"dataframe\">\n",
              "  <thead>\n",
              "    <tr style=\"text-align: right;\">\n",
              "      <th></th>\n",
              "      <th>title</th>\n",
              "      <th>contents</th>\n",
              "      <th>label</th>\n",
              "      <th>stem_title</th>\n",
              "      <th>stem_contents</th>\n",
              "    </tr>\n",
              "  </thead>\n",
              "  <tbody>\n",
              "    <tr>\n",
              "      <th>0</th>\n",
              "      <td>합리적 가격으로 만나는 국내산 애호박 애호박</td>\n",
              "      <td>어느 요리에든 어울리는, 만능 채소 일순위로 손꼽히는 애호박을 합리적인 가격으로 만...</td>\n",
              "      <td>1.0</td>\n",
              "      <td>[합리, 가격, 만나다, 국내, 산, 애호박]</td>\n",
              "      <td>[요리, 어울리다, 만능, 채소, 위로, 손꼽다, 애호박, 합리, 가격, 만나다, ...</td>\n",
              "    </tr>\n",
              "    <tr>\n",
              "      <th>1</th>\n",
              "      <td>원하는 대로 섞어 만드는 하루치 건강 무농약 간편 샐러드</td>\n",
              "      <td>짙은 녹색의 잎채소는 식이섬유부터 미네랄, 철분, 비타민, 엽산 등 각종 영양분이 ...</td>\n",
              "      <td>1.0</td>\n",
              "      <td>[원하다, 대로, 섞다, 만들다, 하루, 치, 건강, 무, 농약, 간편, 샐러드]</td>\n",
              "      <td>[짙다, 녹색, 잎채소, 식이섬유, 미네랄, 철분, 비타민, 엽산, 각종, 영양분,...</td>\n",
              "    </tr>\n",
              "    <tr>\n",
              "      <th>3</th>\n",
              "      <td>무농약 콩으로 기른 장인의 나물   국내산 무농약 콩나물</td>\n",
              "      <td>4대 째 두부 장인의 전통을 이어온 브랜드, 김구원선생의 콩나물을 소개할게요. 햇빛...</td>\n",
              "      <td>1.0</td>\n",
              "      <td>[무, 농약, 콩, 기르다, 장인, 나물, 국내, 산, 콩나물]</td>\n",
              "      <td>[대다, 째다, 두부, 장인, 전통, 이다, 온, 브랜드, 김구, 선생, 콩나물, ...</td>\n",
              "    </tr>\n",
              "    <tr>\n",
              "      <th>4</th>\n",
              "      <td>청량하고 아삭한 채소 다다기오이</td>\n",
              "      <td>마디마다 열매가 다닥다닥 열린다 하여 붙여진 이름, 다다기오이. 꼭지로 갈수록 점차...</td>\n",
              "      <td>1.0</td>\n",
              "      <td>[청량하다, 삭, 채소, 다다, 오이]</td>\n",
              "      <td>[마디, 열매, 린다, 하다, 붙이다, 이름, 다다, 오이, 꼭지, 갈수록, 점차,...</td>\n",
              "    </tr>\n",
              "    <tr>\n",
              "      <th>5</th>\n",
              "      <td>맛과 식감, 영양마저 뛰어난 참타리 버섯</td>\n",
              "      <td>'참타리버섯' 하면 조금 낯설게 느껴질 수 있겠지만, 우리에게 친숙한 느타리 버섯의...</td>\n",
              "      <td>1.0</td>\n",
              "      <td>[맛, 식감, 영양, 뛰어나다, 차다, 타다, 버섯]</td>\n",
              "      <td>[차다, 타다, 버섯, 하다, 조금, 낯설다, 느껴지다, 있다, 친숙하다, 느타리,...</td>\n",
              "    </tr>\n",
              "  </tbody>\n",
              "</table>\n",
              "</div>"
            ],
            "text/plain": [
              "                                title  ...                                      stem_contents\n",
              "0           합리적 가격으로 만나는 국내산 애호박 애호박   ...  [요리, 어울리다, 만능, 채소, 위로, 손꼽다, 애호박, 합리, 가격, 만나다, ...\n",
              "1   원하는 대로 섞어 만드는 하루치 건강 무농약 간편 샐러드    ...  [짙다, 녹색, 잎채소, 식이섬유, 미네랄, 철분, 비타민, 엽산, 각종, 영양분,...\n",
              "3    무농약 콩으로 기른 장인의 나물   국내산 무농약 콩나물   ...  [대다, 째다, 두부, 장인, 전통, 이다, 온, 브랜드, 김구, 선생, 콩나물, ...\n",
              "4                  청량하고 아삭한 채소 다다기오이   ...  [마디, 열매, 린다, 하다, 붙이다, 이름, 다다, 오이, 꼭지, 갈수록, 점차,...\n",
              "5             맛과 식감, 영양마저 뛰어난 참타리 버섯   ...  [차다, 타다, 버섯, 하다, 조금, 낯설다, 느껴지다, 있다, 친숙하다, 느타리,...\n",
              "\n",
              "[5 rows x 5 columns]"
            ]
          },
          "metadata": {
            "tags": []
          },
          "execution_count": 18
        }
      ]
    },
    {
      "cell_type": "markdown",
      "metadata": {
        "id": "ym1IJ8B8bseQ"
      },
      "source": [
        "#### 단어 카운트"
      ]
    },
    {
      "cell_type": "code",
      "metadata": {
        "id": "ILZOeg_sfLWc"
      },
      "source": [
        "def word_count(docs):\n",
        "    \"\"\" 토큰화된 문서들을 입력받아 토큰을 카운트 하고 관련된 속성을 가진 데이터프레임을 리턴합니다.\n",
        "    Args:\n",
        "        docs (series or list): 토큰화된 문서가 들어있는 list\n",
        "    Returns:\n",
        "        list: Dataframe\n",
        "    \"\"\"\n",
        "    # 전체 코퍼스에서 단어 빈도 카운트\n",
        "    word_counts = Counter()\n",
        "\n",
        "    # 단어가 존재하는 문서의 빈도 카운트, 단어가 한 번 이상 존재하면 +1\n",
        "    word_in_docs = Counter()\n",
        "\n",
        "    # 전체 문서의 갯수\n",
        "    total_docs = len(docs)\n",
        "\n",
        "    for doc in docs:\n",
        "        word_counts.update(doc)\n",
        "        word_in_docs.update(set(doc))\n",
        "\n",
        "    temp = zip(word_counts.keys(), word_counts.values())\n",
        "\n",
        "    wc = pd.DataFrame(temp, columns = ['word', 'count'])\n",
        "\n",
        "    # 단어의 순위\n",
        "    # method='first': 같은 값의 경우 먼저나온 요소를 우선\n",
        "    wc['rank'] = wc['count'].rank(method='first', ascending=False)\n",
        "    total = wc['count'].sum()\n",
        "\n",
        "    # 코퍼스 내 단어의 비율\n",
        "    wc['percent'] = wc['count'].apply(lambda x: x / total)\n",
        "\n",
        "    wc = wc.sort_values(by='rank')\n",
        "\n",
        "    # 누적 비율\n",
        "    # cumsum() : cumulative sum\n",
        "    wc['cul_percent'] = wc['percent'].cumsum()\n",
        "\n",
        "    temp2 = zip(word_in_docs.keys(), word_in_docs.values())\n",
        "    ac = pd.DataFrame(temp2, columns=['word', 'word_in_docs'])\n",
        "    wc = ac.merge(wc, on='word')\n",
        "    \n",
        "    # 전체 문서 중 존재하는 비율\n",
        "    wc['word_in_docs_percent'] = wc['word_in_docs'].apply(lambda x: x / total_docs)\n",
        "\n",
        "    return wc.sort_values(by='rank')"
      ],
      "execution_count": null,
      "outputs": []
    },
    {
      "cell_type": "code",
      "metadata": {
        "colab": {
          "base_uri": "https://localhost:8080/",
          "height": 514
        },
        "id": "0y7sZqVZfLRP",
        "outputId": "7160df0d-0892-4fba-a06a-14384bb2a9b4"
      },
      "source": [
        "# title 카운트\n",
        "title_wc = word_count(df['stem_title'])\n",
        "title_wc.head(15)"
      ],
      "execution_count": null,
      "outputs": [
        {
          "output_type": "execute_result",
          "data": {
            "text/html": [
              "<div>\n",
              "<style scoped>\n",
              "    .dataframe tbody tr th:only-of-type {\n",
              "        vertical-align: middle;\n",
              "    }\n",
              "\n",
              "    .dataframe tbody tr th {\n",
              "        vertical-align: top;\n",
              "    }\n",
              "\n",
              "    .dataframe thead th {\n",
              "        text-align: right;\n",
              "    }\n",
              "</style>\n",
              "<table border=\"1\" class=\"dataframe\">\n",
              "  <thead>\n",
              "    <tr style=\"text-align: right;\">\n",
              "      <th></th>\n",
              "      <th>word</th>\n",
              "      <th>word_in_docs</th>\n",
              "      <th>count</th>\n",
              "      <th>rank</th>\n",
              "      <th>percent</th>\n",
              "      <th>cul_percent</th>\n",
              "      <th>word_in_docs_percent</th>\n",
              "    </tr>\n",
              "  </thead>\n",
              "  <tbody>\n",
              "    <tr>\n",
              "      <th>39</th>\n",
              "      <td>하다</td>\n",
              "      <td>1598</td>\n",
              "      <td>1598</td>\n",
              "      <td>1.0</td>\n",
              "      <td>0.017446</td>\n",
              "      <td>0.017446</td>\n",
              "      <td>0.128292</td>\n",
              "    </tr>\n",
              "    <tr>\n",
              "      <th>55</th>\n",
              "      <td>즐기다</td>\n",
              "      <td>965</td>\n",
              "      <td>965</td>\n",
              "      <td>2.0</td>\n",
              "      <td>0.010536</td>\n",
              "      <td>0.027982</td>\n",
              "      <td>0.077473</td>\n",
              "    </tr>\n",
              "    <tr>\n",
              "      <th>27</th>\n",
              "      <td>맛</td>\n",
              "      <td>888</td>\n",
              "      <td>888</td>\n",
              "      <td>3.0</td>\n",
              "      <td>0.009695</td>\n",
              "      <td>0.037677</td>\n",
              "      <td>0.071291</td>\n",
              "    </tr>\n",
              "    <tr>\n",
              "      <th>148</th>\n",
              "      <td>부드럽다</td>\n",
              "      <td>641</td>\n",
              "      <td>641</td>\n",
              "      <td>4.0</td>\n",
              "      <td>0.006998</td>\n",
              "      <td>0.044675</td>\n",
              "      <td>0.051461</td>\n",
              "    </tr>\n",
              "    <tr>\n",
              "      <th>248</th>\n",
              "      <td>위</td>\n",
              "      <td>589</td>\n",
              "      <td>589</td>\n",
              "      <td>5.0</td>\n",
              "      <td>0.006430</td>\n",
              "      <td>0.051105</td>\n",
              "      <td>0.047286</td>\n",
              "    </tr>\n",
              "    <tr>\n",
              "      <th>40</th>\n",
              "      <td>고소하다</td>\n",
              "      <td>560</td>\n",
              "      <td>560</td>\n",
              "      <td>6.0</td>\n",
              "      <td>0.006114</td>\n",
              "      <td>0.057219</td>\n",
              "      <td>0.044958</td>\n",
              "    </tr>\n",
              "    <tr>\n",
              "      <th>95</th>\n",
              "      <td>달콤하다</td>\n",
              "      <td>521</td>\n",
              "      <td>521</td>\n",
              "      <td>7.0</td>\n",
              "      <td>0.005688</td>\n",
              "      <td>0.062907</td>\n",
              "      <td>0.041827</td>\n",
              "    </tr>\n",
              "    <tr>\n",
              "      <th>107</th>\n",
              "      <td>간편하다</td>\n",
              "      <td>507</td>\n",
              "      <td>507</td>\n",
              "      <td>8.0</td>\n",
              "      <td>0.005535</td>\n",
              "      <td>0.068443</td>\n",
              "      <td>0.040703</td>\n",
              "    </tr>\n",
              "    <tr>\n",
              "      <th>68</th>\n",
              "      <td>향</td>\n",
              "      <td>487</td>\n",
              "      <td>487</td>\n",
              "      <td>9.0</td>\n",
              "      <td>0.005317</td>\n",
              "      <td>0.073759</td>\n",
              "      <td>0.039098</td>\n",
              "    </tr>\n",
              "    <tr>\n",
              "      <th>186</th>\n",
              "      <td>밉다</td>\n",
              "      <td>466</td>\n",
              "      <td>466</td>\n",
              "      <td>10.0</td>\n",
              "      <td>0.005088</td>\n",
              "      <td>0.078847</td>\n",
              "      <td>0.037412</td>\n",
              "    </tr>\n",
              "    <tr>\n",
              "      <th>8</th>\n",
              "      <td>만들다</td>\n",
              "      <td>458</td>\n",
              "      <td>458</td>\n",
              "      <td>11.0</td>\n",
              "      <td>0.005000</td>\n",
              "      <td>0.083847</td>\n",
              "      <td>0.036769</td>\n",
              "    </tr>\n",
              "    <tr>\n",
              "      <th>256</th>\n",
              "      <td>세트</td>\n",
              "      <td>440</td>\n",
              "      <td>440</td>\n",
              "      <td>12.0</td>\n",
              "      <td>0.004804</td>\n",
              "      <td>0.088651</td>\n",
              "      <td>0.035324</td>\n",
              "    </tr>\n",
              "    <tr>\n",
              "      <th>171</th>\n",
              "      <td>유기농</td>\n",
              "      <td>432</td>\n",
              "      <td>432</td>\n",
              "      <td>13.0</td>\n",
              "      <td>0.004716</td>\n",
              "      <td>0.093368</td>\n",
              "      <td>0.034682</td>\n",
              "    </tr>\n",
              "    <tr>\n",
              "      <th>319</th>\n",
              "      <td>담다</td>\n",
              "      <td>430</td>\n",
              "      <td>430</td>\n",
              "      <td>14.0</td>\n",
              "      <td>0.004695</td>\n",
              "      <td>0.098062</td>\n",
              "      <td>0.034522</td>\n",
              "    </tr>\n",
              "    <tr>\n",
              "      <th>293</th>\n",
              "      <td>더하다</td>\n",
              "      <td>339</td>\n",
              "      <td>339</td>\n",
              "      <td>15.0</td>\n",
              "      <td>0.003701</td>\n",
              "      <td>0.101763</td>\n",
              "      <td>0.027216</td>\n",
              "    </tr>\n",
              "  </tbody>\n",
              "</table>\n",
              "</div>"
            ],
            "text/plain": [
              "     word  word_in_docs  count  ...   percent  cul_percent  word_in_docs_percent\n",
              "39     하다          1598   1598  ...  0.017446     0.017446              0.128292\n",
              "55    즐기다           965    965  ...  0.010536     0.027982              0.077473\n",
              "27      맛           888    888  ...  0.009695     0.037677              0.071291\n",
              "148  부드럽다           641    641  ...  0.006998     0.044675              0.051461\n",
              "248     위           589    589  ...  0.006430     0.051105              0.047286\n",
              "40   고소하다           560    560  ...  0.006114     0.057219              0.044958\n",
              "95   달콤하다           521    521  ...  0.005688     0.062907              0.041827\n",
              "107  간편하다           507    507  ...  0.005535     0.068443              0.040703\n",
              "68      향           487    487  ...  0.005317     0.073759              0.039098\n",
              "186    밉다           466    466  ...  0.005088     0.078847              0.037412\n",
              "8     만들다           458    458  ...  0.005000     0.083847              0.036769\n",
              "256    세트           440    440  ...  0.004804     0.088651              0.035324\n",
              "171   유기농           432    432  ...  0.004716     0.093368              0.034682\n",
              "319    담다           430    430  ...  0.004695     0.098062              0.034522\n",
              "293   더하다           339    339  ...  0.003701     0.101763              0.027216\n",
              "\n",
              "[15 rows x 7 columns]"
            ]
          },
          "metadata": {
            "tags": []
          },
          "execution_count": 20
        }
      ]
    },
    {
      "cell_type": "code",
      "metadata": {
        "colab": {
          "base_uri": "https://localhost:8080/",
          "height": 514
        },
        "id": "g5JIU3zsuVex",
        "outputId": "f6f56f64-c8fe-4c24-e638-a5208dd29f6c"
      },
      "source": [
        "# contents 카운트\n",
        "contents_wc = word_count(df['stem_contents'])\n",
        "contents_wc.head(15)"
      ],
      "execution_count": null,
      "outputs": [
        {
          "output_type": "execute_result",
          "data": {
            "text/html": [
              "<div>\n",
              "<style scoped>\n",
              "    .dataframe tbody tr th:only-of-type {\n",
              "        vertical-align: middle;\n",
              "    }\n",
              "\n",
              "    .dataframe tbody tr th {\n",
              "        vertical-align: top;\n",
              "    }\n",
              "\n",
              "    .dataframe thead th {\n",
              "        text-align: right;\n",
              "    }\n",
              "</style>\n",
              "<table border=\"1\" class=\"dataframe\">\n",
              "  <thead>\n",
              "    <tr style=\"text-align: right;\">\n",
              "      <th></th>\n",
              "      <th>word</th>\n",
              "      <th>word_in_docs</th>\n",
              "      <th>count</th>\n",
              "      <th>rank</th>\n",
              "      <th>percent</th>\n",
              "      <th>cul_percent</th>\n",
              "      <th>word_in_docs_percent</th>\n",
              "    </tr>\n",
              "  </thead>\n",
              "  <tbody>\n",
              "    <tr>\n",
              "      <th>31</th>\n",
              "      <td>하다</td>\n",
              "      <td>12063</td>\n",
              "      <td>12063</td>\n",
              "      <td>1.0</td>\n",
              "      <td>0.017811</td>\n",
              "      <td>0.017811</td>\n",
              "      <td>0.968449</td>\n",
              "    </tr>\n",
              "    <tr>\n",
              "      <th>2</th>\n",
              "      <td>있다</td>\n",
              "      <td>9365</td>\n",
              "      <td>9365</td>\n",
              "      <td>2.0</td>\n",
              "      <td>0.013827</td>\n",
              "      <td>0.031638</td>\n",
              "      <td>0.751846</td>\n",
              "    </tr>\n",
              "    <tr>\n",
              "      <th>16</th>\n",
              "      <td>보다</td>\n",
              "      <td>7864</td>\n",
              "      <td>7864</td>\n",
              "      <td>3.0</td>\n",
              "      <td>0.011611</td>\n",
              "      <td>0.043248</td>\n",
              "      <td>0.631342</td>\n",
              "    </tr>\n",
              "    <tr>\n",
              "      <th>36</th>\n",
              "      <td>좋다</td>\n",
              "      <td>4898</td>\n",
              "      <td>4898</td>\n",
              "      <td>4.0</td>\n",
              "      <td>0.007232</td>\n",
              "      <td>0.050480</td>\n",
              "      <td>0.393224</td>\n",
              "    </tr>\n",
              "    <tr>\n",
              "      <th>85</th>\n",
              "      <td>거</td>\n",
              "      <td>4871</td>\n",
              "      <td>4871</td>\n",
              "      <td>5.0</td>\n",
              "      <td>0.007192</td>\n",
              "      <td>0.057672</td>\n",
              "      <td>0.391057</td>\n",
              "    </tr>\n",
              "    <tr>\n",
              "      <th>42</th>\n",
              "      <td>맛</td>\n",
              "      <td>4719</td>\n",
              "      <td>4719</td>\n",
              "      <td>6.0</td>\n",
              "      <td>0.006967</td>\n",
              "      <td>0.064639</td>\n",
              "      <td>0.378854</td>\n",
              "    </tr>\n",
              "    <tr>\n",
              "      <th>0</th>\n",
              "      <td>즐기다</td>\n",
              "      <td>4715</td>\n",
              "      <td>4715</td>\n",
              "      <td>7.0</td>\n",
              "      <td>0.006961</td>\n",
              "      <td>0.071601</td>\n",
              "      <td>0.378532</td>\n",
              "    </tr>\n",
              "    <tr>\n",
              "      <th>176</th>\n",
              "      <td>만들다</td>\n",
              "      <td>4389</td>\n",
              "      <td>4389</td>\n",
              "      <td>8.0</td>\n",
              "      <td>0.006480</td>\n",
              "      <td>0.078081</td>\n",
              "      <td>0.352360</td>\n",
              "    </tr>\n",
              "    <tr>\n",
              "      <th>69</th>\n",
              "      <td>않다</td>\n",
              "      <td>4014</td>\n",
              "      <td>4014</td>\n",
              "      <td>9.0</td>\n",
              "      <td>0.005926</td>\n",
              "      <td>0.084007</td>\n",
              "      <td>0.322254</td>\n",
              "    </tr>\n",
              "    <tr>\n",
              "      <th>204</th>\n",
              "      <td>사용</td>\n",
              "      <td>3954</td>\n",
              "      <td>3954</td>\n",
              "      <td>10.0</td>\n",
              "      <td>0.005838</td>\n",
              "      <td>0.089845</td>\n",
              "      <td>0.317437</td>\n",
              "    </tr>\n",
              "    <tr>\n",
              "      <th>114</th>\n",
              "      <td>되다</td>\n",
              "      <td>3941</td>\n",
              "      <td>3941</td>\n",
              "      <td>11.0</td>\n",
              "      <td>0.005819</td>\n",
              "      <td>0.095664</td>\n",
              "      <td>0.316394</td>\n",
              "    </tr>\n",
              "    <tr>\n",
              "      <th>100</th>\n",
              "      <td>소개</td>\n",
              "      <td>3742</td>\n",
              "      <td>3742</td>\n",
              "      <td>12.0</td>\n",
              "      <td>0.005525</td>\n",
              "      <td>0.101189</td>\n",
              "      <td>0.300417</td>\n",
              "    </tr>\n",
              "    <tr>\n",
              "      <th>1</th>\n",
              "      <td>담다</td>\n",
              "      <td>3619</td>\n",
              "      <td>3619</td>\n",
              "      <td>13.0</td>\n",
              "      <td>0.005343</td>\n",
              "      <td>0.106532</td>\n",
              "      <td>0.290543</td>\n",
              "    </tr>\n",
              "    <tr>\n",
              "      <th>15</th>\n",
              "      <td>준비</td>\n",
              "      <td>3418</td>\n",
              "      <td>3418</td>\n",
              "      <td>14.0</td>\n",
              "      <td>0.005047</td>\n",
              "      <td>0.111579</td>\n",
              "      <td>0.274406</td>\n",
              "    </tr>\n",
              "    <tr>\n",
              "      <th>113</th>\n",
              "      <td>제품</td>\n",
              "      <td>3318</td>\n",
              "      <td>3318</td>\n",
              "      <td>15.0</td>\n",
              "      <td>0.004899</td>\n",
              "      <td>0.116478</td>\n",
              "      <td>0.266378</td>\n",
              "    </tr>\n",
              "  </tbody>\n",
              "</table>\n",
              "</div>"
            ],
            "text/plain": [
              "    word  word_in_docs  count  ...   percent  cul_percent  word_in_docs_percent\n",
              "31    하다         12063  12063  ...  0.017811     0.017811              0.968449\n",
              "2     있다          9365   9365  ...  0.013827     0.031638              0.751846\n",
              "16    보다          7864   7864  ...  0.011611     0.043248              0.631342\n",
              "36    좋다          4898   4898  ...  0.007232     0.050480              0.393224\n",
              "85     거          4871   4871  ...  0.007192     0.057672              0.391057\n",
              "42     맛          4719   4719  ...  0.006967     0.064639              0.378854\n",
              "0    즐기다          4715   4715  ...  0.006961     0.071601              0.378532\n",
              "176  만들다          4389   4389  ...  0.006480     0.078081              0.352360\n",
              "69    않다          4014   4014  ...  0.005926     0.084007              0.322254\n",
              "204   사용          3954   3954  ...  0.005838     0.089845              0.317437\n",
              "114   되다          3941   3941  ...  0.005819     0.095664              0.316394\n",
              "100   소개          3742   3742  ...  0.005525     0.101189              0.300417\n",
              "1     담다          3619   3619  ...  0.005343     0.106532              0.290543\n",
              "15    준비          3418   3418  ...  0.005047     0.111579              0.274406\n",
              "113   제품          3318   3318  ...  0.004899     0.116478              0.266378\n",
              "\n",
              "[15 rows x 7 columns]"
            ]
          },
          "metadata": {
            "tags": []
          },
          "execution_count": 21
        }
      ]
    },
    {
      "cell_type": "code",
      "metadata": {
        "colab": {
          "base_uri": "https://localhost:8080/"
        },
        "id": "NEKaGBWDm-zE",
        "outputId": "648226e8-6963-4661-8245-05120ca2246c"
      },
      "source": [
        "!pip install squarify"
      ],
      "execution_count": null,
      "outputs": [
        {
          "output_type": "stream",
          "text": [
            "Requirement already satisfied: squarify in /usr/local/lib/python3.7/dist-packages (0.4.3)\n"
          ],
          "name": "stdout"
        }
      ]
    },
    {
      "cell_type": "code",
      "metadata": {
        "colab": {
          "base_uri": "https://localhost:8080/",
          "height": 481
        },
        "id": "_R6nkDFVlyw6",
        "outputId": "43f3c6d9-5b4d-4c35-b61c-0ef3317b1407"
      },
      "source": [
        "# 시각화\n",
        "import squarify\n",
        "%config InlineBackend.figure_format='retina'\n",
        "\n",
        "wc_top20 = title_wc[title_wc['rank'] <= 20]\n",
        "wc_contents_top20 = contents_wc[contents_wc['rank'] <= 20]\n",
        "\n",
        "fig, axes = plt.subplots(1, 2, figsize=(20, 8))\n",
        "axes[0].set_title('Title')\n",
        "squarify.plot(sizes=wc_top20['percent'], label=wc_top20['word'], alpha=0.6, ax=axes[0], text_kwargs={'fontsize':14})\n",
        "axes[0].axis('off')\n",
        "\n",
        "axes[1].set_title('Contents')\n",
        "squarify.plot(sizes=wc_contents_top20['percent'], label=wc_contents_top20['word'], alpha=0.6, ax=axes[1], text_kwargs={'fontsize':14})\n",
        "axes[1].axis('off')\n",
        "\n",
        "plt.show()"
      ],
      "execution_count": null,
      "outputs": [
        {
          "output_type": "display_data",
          "data": {
            "image/png": "[encoded data removed]",
            "text/plain": [
              "<Figure size 1440x576 with 2 Axes>"
            ]
          },
          "metadata": {
            "tags": [],
            "image/png": {
              "width": 1130,
              "height": 464
            },
            "needs_background": "light"
          }
        }
      ]
    },
    {
      "cell_type": "markdown",
      "metadata": {
        "id": "X9kaq7wna0sK"
      },
      "source": [
        "### 형용사 토큰화"
      ]
    },
    {
      "cell_type": "code",
      "metadata": {
        "id": "74WIw_c3NHT6"
      },
      "source": [
        "# 불용어, 특수문자 제거 후 토큰화 하는 함수\n",
        "def text_adj(text):\n",
        "    \n",
        "    txt = re.sub('[^가-힣a-z]', ' ', text)\n",
        "    token = okt.pos(txt, stem=True)\n",
        "    adj=[]\n",
        "    for word in token:\n",
        "      if word[1] in ['Adjective']:\n",
        "        adj.append(word[0])\n",
        "        \n",
        "    return adj"
      ],
      "execution_count": null,
      "outputs": []
    },
    {
      "cell_type": "code",
      "metadata": {
        "id": "FswQ87asO0Ir"
      },
      "source": [
        "# title과 contents에 적용\n",
        "title_adj = []\n",
        "for i in range(len(titles)):\n",
        "  title_adj.append(text_adj(titles[i]))\n",
        "\n",
        "contents_adj = []\n",
        "for i in range(len(contents)):\n",
        "  contents_adj.append(text_adj(contents[i]))"
      ],
      "execution_count": null,
      "outputs": []
    },
    {
      "cell_type": "code",
      "metadata": {
        "colab": {
          "base_uri": "https://localhost:8080/",
          "height": 391
        },
        "id": "u574k0loZcK5",
        "outputId": "b209d3fb-d828-4740-afff-b961fff11510"
      },
      "source": [
        "df['adj_title'] = title_adj\n",
        "df['adj_contents'] = contents_adj\n",
        "df.head()"
      ],
      "execution_count": null,
      "outputs": [
        {
          "output_type": "execute_result",
          "data": {
            "text/html": [
              "<div>\n",
              "<style scoped>\n",
              "    .dataframe tbody tr th:only-of-type {\n",
              "        vertical-align: middle;\n",
              "    }\n",
              "\n",
              "    .dataframe tbody tr th {\n",
              "        vertical-align: top;\n",
              "    }\n",
              "\n",
              "    .dataframe thead th {\n",
              "        text-align: right;\n",
              "    }\n",
              "</style>\n",
              "<table border=\"1\" class=\"dataframe\">\n",
              "  <thead>\n",
              "    <tr style=\"text-align: right;\">\n",
              "      <th></th>\n",
              "      <th>title</th>\n",
              "      <th>contents</th>\n",
              "      <th>label</th>\n",
              "      <th>stem_title</th>\n",
              "      <th>stem_contents</th>\n",
              "      <th>adj_title</th>\n",
              "      <th>adj_contents</th>\n",
              "    </tr>\n",
              "  </thead>\n",
              "  <tbody>\n",
              "    <tr>\n",
              "      <th>0</th>\n",
              "      <td>합리적 가격으로 만나는 국내산 애호박 애호박</td>\n",
              "      <td>어느 요리에든 어울리는, 만능 채소 일순위로 손꼽히는 애호박을 합리적인 가격으로 만...</td>\n",
              "      <td>1.0</td>\n",
              "      <td>[합리, 가격, 만나다, 국내, 산, 애호박]</td>\n",
              "      <td>[요리, 어울리다, 만능, 채소, 위로, 손꼽다, 애호박, 합리, 가격, 만나다, ...</td>\n",
              "      <td>[]</td>\n",
              "      <td>[좋다, 좋다, 뛰어나다, 선명하다, 부드럽다, 신선하다, 있다, 풍부하다, 원하다]</td>\n",
              "    </tr>\n",
              "    <tr>\n",
              "      <th>1</th>\n",
              "      <td>원하는 대로 섞어 만드는 하루치 건강 무농약 간편 샐러드</td>\n",
              "      <td>짙은 녹색의 잎채소는 식이섬유부터 미네랄, 철분, 비타민, 엽산 등 각종 영양분이 ...</td>\n",
              "      <td>1.0</td>\n",
              "      <td>[원하다, 대로, 섞다, 만들다, 하루, 치, 건강, 무, 농약, 간편, 샐러드]</td>\n",
              "      <td>[짙다, 녹색, 잎채소, 식이섬유, 미네랄, 철분, 비타민, 엽산, 각종, 영양분,...</td>\n",
              "      <td>[원하다]</td>\n",
              "      <td>[짙다, 풍부하다, 간편하다, 있다]</td>\n",
              "    </tr>\n",
              "    <tr>\n",
              "      <th>3</th>\n",
              "      <td>무농약 콩으로 기른 장인의 나물   국내산 무농약 콩나물</td>\n",
              "      <td>4대 째 두부 장인의 전통을 이어온 브랜드, 김구원선생의 콩나물을 소개할게요. 햇빛...</td>\n",
              "      <td>1.0</td>\n",
              "      <td>[무, 농약, 콩, 기르다, 장인, 나물, 국내, 산, 콩나물]</td>\n",
              "      <td>[대다, 째다, 두부, 장인, 전통, 이다, 온, 브랜드, 김구, 선생, 콩나물, ...</td>\n",
              "      <td>[]</td>\n",
              "      <td>[중요하다, 안전하다, 필요하다, 손쉽다, 있다]</td>\n",
              "    </tr>\n",
              "    <tr>\n",
              "      <th>4</th>\n",
              "      <td>청량하고 아삭한 채소 다다기오이</td>\n",
              "      <td>마디마다 열매가 다닥다닥 열린다 하여 붙여진 이름, 다다기오이. 꼭지로 갈수록 점차...</td>\n",
              "      <td>1.0</td>\n",
              "      <td>[청량하다, 삭, 채소, 다다, 오이]</td>\n",
              "      <td>[마디, 열매, 린다, 하다, 붙이다, 이름, 다다, 오이, 꼭지, 갈수록, 점차,...</td>\n",
              "      <td>[청량하다]</td>\n",
              "      <td>[뛰어나다, 있다, 우수하다, 다양하다, 좋다, 없다, 알뜰하다, 싱그럽다]</td>\n",
              "    </tr>\n",
              "    <tr>\n",
              "      <th>5</th>\n",
              "      <td>맛과 식감, 영양마저 뛰어난 참타리 버섯</td>\n",
              "      <td>'참타리버섯' 하면 조금 낯설게 느껴질 수 있겠지만, 우리에게 친숙한 느타리 버섯의...</td>\n",
              "      <td>1.0</td>\n",
              "      <td>[맛, 식감, 영양, 뛰어나다, 차다, 타다, 버섯]</td>\n",
              "      <td>[차다, 타다, 버섯, 하다, 조금, 낯설다, 느껴지다, 있다, 친숙하다, 느타리,...</td>\n",
              "      <td>[뛰어나다]</td>\n",
              "      <td>[낯설다, 있다, 친숙하다, 없다, 아니다, 다양하다, 없다, 뛰어나다, 편안하다,...</td>\n",
              "    </tr>\n",
              "  </tbody>\n",
              "</table>\n",
              "</div>"
            ],
            "text/plain": [
              "                                title  ...                                       adj_contents\n",
              "0           합리적 가격으로 만나는 국내산 애호박 애호박   ...    [좋다, 좋다, 뛰어나다, 선명하다, 부드럽다, 신선하다, 있다, 풍부하다, 원하다]\n",
              "1   원하는 대로 섞어 만드는 하루치 건강 무농약 간편 샐러드    ...                               [짙다, 풍부하다, 간편하다, 있다]\n",
              "3    무농약 콩으로 기른 장인의 나물   국내산 무농약 콩나물   ...                        [중요하다, 안전하다, 필요하다, 손쉽다, 있다]\n",
              "4                  청량하고 아삭한 채소 다다기오이   ...         [뛰어나다, 있다, 우수하다, 다양하다, 좋다, 없다, 알뜰하다, 싱그럽다]\n",
              "5             맛과 식감, 영양마저 뛰어난 참타리 버섯   ...  [낯설다, 있다, 친숙하다, 없다, 아니다, 다양하다, 없다, 뛰어나다, 편안하다,...\n",
              "\n",
              "[5 rows x 7 columns]"
            ]
          },
          "metadata": {
            "tags": []
          },
          "execution_count": 26
        }
      ]
    },
    {
      "cell_type": "code",
      "metadata": {
        "colab": {
          "base_uri": "https://localhost:8080/",
          "height": 204
        },
        "id": "I97W4BX1b0yj",
        "outputId": "16de5b48-1888-4f19-fbbd-6850fced11a7"
      },
      "source": [
        "word_count(df['adj_title']).head()"
      ],
      "execution_count": null,
      "outputs": [
        {
          "output_type": "execute_result",
          "data": {
            "text/html": [
              "<div>\n",
              "<style scoped>\n",
              "    .dataframe tbody tr th:only-of-type {\n",
              "        vertical-align: middle;\n",
              "    }\n",
              "\n",
              "    .dataframe tbody tr th {\n",
              "        vertical-align: top;\n",
              "    }\n",
              "\n",
              "    .dataframe thead th {\n",
              "        text-align: right;\n",
              "    }\n",
              "</style>\n",
              "<table border=\"1\" class=\"dataframe\">\n",
              "  <thead>\n",
              "    <tr style=\"text-align: right;\">\n",
              "      <th></th>\n",
              "      <th>word</th>\n",
              "      <th>word_in_docs</th>\n",
              "      <th>count</th>\n",
              "      <th>rank</th>\n",
              "      <th>percent</th>\n",
              "      <th>cul_percent</th>\n",
              "      <th>word_in_docs_percent</th>\n",
              "    </tr>\n",
              "  </thead>\n",
              "  <tbody>\n",
              "    <tr>\n",
              "      <th>25</th>\n",
              "      <td>부드럽다</td>\n",
              "      <td>641</td>\n",
              "      <td>649</td>\n",
              "      <td>1.0</td>\n",
              "      <td>0.061128</td>\n",
              "      <td>0.061128</td>\n",
              "      <td>0.051461</td>\n",
              "    </tr>\n",
              "    <tr>\n",
              "      <th>3</th>\n",
              "      <td>고소하다</td>\n",
              "      <td>560</td>\n",
              "      <td>565</td>\n",
              "      <td>2.0</td>\n",
              "      <td>0.053217</td>\n",
              "      <td>0.114345</td>\n",
              "      <td>0.044958</td>\n",
              "    </tr>\n",
              "    <tr>\n",
              "      <th>16</th>\n",
              "      <td>달콤하다</td>\n",
              "      <td>521</td>\n",
              "      <td>524</td>\n",
              "      <td>3.0</td>\n",
              "      <td>0.049355</td>\n",
              "      <td>0.163700</td>\n",
              "      <td>0.041827</td>\n",
              "    </tr>\n",
              "    <tr>\n",
              "      <th>20</th>\n",
              "      <td>간편하다</td>\n",
              "      <td>507</td>\n",
              "      <td>508</td>\n",
              "      <td>4.0</td>\n",
              "      <td>0.047848</td>\n",
              "      <td>0.211548</td>\n",
              "      <td>0.040703</td>\n",
              "    </tr>\n",
              "    <tr>\n",
              "      <th>29</th>\n",
              "      <td>밉다</td>\n",
              "      <td>466</td>\n",
              "      <td>473</td>\n",
              "      <td>5.0</td>\n",
              "      <td>0.044551</td>\n",
              "      <td>0.256099</td>\n",
              "      <td>0.037412</td>\n",
              "    </tr>\n",
              "  </tbody>\n",
              "</table>\n",
              "</div>"
            ],
            "text/plain": [
              "    word  word_in_docs  count  ...   percent  cul_percent  word_in_docs_percent\n",
              "25  부드럽다           641    649  ...  0.061128     0.061128              0.051461\n",
              "3   고소하다           560    565  ...  0.053217     0.114345              0.044958\n",
              "16  달콤하다           521    524  ...  0.049355     0.163700              0.041827\n",
              "20  간편하다           507    508  ...  0.047848     0.211548              0.040703\n",
              "29    밉다           466    473  ...  0.044551     0.256099              0.037412\n",
              "\n",
              "[5 rows x 7 columns]"
            ]
          },
          "metadata": {
            "tags": []
          },
          "execution_count": 27
        }
      ]
    },
    {
      "cell_type": "code",
      "metadata": {
        "colab": {
          "base_uri": "https://localhost:8080/",
          "height": 204
        },
        "id": "QcVbGqAXhAK7",
        "outputId": "bfeb9370-e2ea-4282-bd94-b40056fc0d15"
      },
      "source": [
        "word_count(df['adj_contents']).head()"
      ],
      "execution_count": null,
      "outputs": [
        {
          "output_type": "execute_result",
          "data": {
            "text/html": [
              "<div>\n",
              "<style scoped>\n",
              "    .dataframe tbody tr th:only-of-type {\n",
              "        vertical-align: middle;\n",
              "    }\n",
              "\n",
              "    .dataframe tbody tr th {\n",
              "        vertical-align: top;\n",
              "    }\n",
              "\n",
              "    .dataframe thead th {\n",
              "        text-align: right;\n",
              "    }\n",
              "</style>\n",
              "<table border=\"1\" class=\"dataframe\">\n",
              "  <thead>\n",
              "    <tr style=\"text-align: right;\">\n",
              "      <th></th>\n",
              "      <th>word</th>\n",
              "      <th>word_in_docs</th>\n",
              "      <th>count</th>\n",
              "      <th>rank</th>\n",
              "      <th>percent</th>\n",
              "      <th>cul_percent</th>\n",
              "      <th>word_in_docs_percent</th>\n",
              "    </tr>\n",
              "  </thead>\n",
              "  <tbody>\n",
              "    <tr>\n",
              "      <th>1</th>\n",
              "      <td>있다</td>\n",
              "      <td>9365</td>\n",
              "      <td>17107</td>\n",
              "      <td>1.0</td>\n",
              "      <td>0.154538</td>\n",
              "      <td>0.154538</td>\n",
              "      <td>0.751846</td>\n",
              "    </tr>\n",
              "    <tr>\n",
              "      <th>6</th>\n",
              "      <td>좋다</td>\n",
              "      <td>4898</td>\n",
              "      <td>6333</td>\n",
              "      <td>2.0</td>\n",
              "      <td>0.057210</td>\n",
              "      <td>0.211747</td>\n",
              "      <td>0.393224</td>\n",
              "    </tr>\n",
              "    <tr>\n",
              "      <th>15</th>\n",
              "      <td>없다</td>\n",
              "      <td>2868</td>\n",
              "      <td>3295</td>\n",
              "      <td>3.0</td>\n",
              "      <td>0.029766</td>\n",
              "      <td>0.241513</td>\n",
              "      <td>0.230250</td>\n",
              "    </tr>\n",
              "    <tr>\n",
              "      <th>3</th>\n",
              "      <td>부드럽다</td>\n",
              "      <td>2805</td>\n",
              "      <td>3051</td>\n",
              "      <td>4.0</td>\n",
              "      <td>0.027561</td>\n",
              "      <td>0.269074</td>\n",
              "      <td>0.225193</td>\n",
              "    </tr>\n",
              "    <tr>\n",
              "      <th>9</th>\n",
              "      <td>간편하다</td>\n",
              "      <td>2620</td>\n",
              "      <td>2776</td>\n",
              "      <td>5.0</td>\n",
              "      <td>0.025077</td>\n",
              "      <td>0.294152</td>\n",
              "      <td>0.210340</td>\n",
              "    </tr>\n",
              "  </tbody>\n",
              "</table>\n",
              "</div>"
            ],
            "text/plain": [
              "    word  word_in_docs  count  ...   percent  cul_percent  word_in_docs_percent\n",
              "1     있다          9365  17107  ...  0.154538     0.154538              0.751846\n",
              "6     좋다          4898   6333  ...  0.057210     0.211747              0.393224\n",
              "15    없다          2868   3295  ...  0.029766     0.241513              0.230250\n",
              "3   부드럽다          2805   3051  ...  0.027561     0.269074              0.225193\n",
              "9   간편하다          2620   2776  ...  0.025077     0.294152              0.210340\n",
              "\n",
              "[5 rows x 7 columns]"
            ]
          },
          "metadata": {
            "tags": []
          },
          "execution_count": 28
        }
      ]
    },
    {
      "cell_type": "markdown",
      "metadata": {
        "id": "5VxL8tT5hGgx"
      },
      "source": [
        "#### word cloud"
      ]
    },
    {
      "cell_type": "code",
      "metadata": {
        "colab": {
          "base_uri": "https://localhost:8080/"
        },
        "id": "oKpP1vQshEy4",
        "outputId": "cf2a6677-b1b1-40e0-8759-d0e3b65d650d"
      },
      "source": [
        "!pip install konlpy wordcloud"
      ],
      "execution_count": null,
      "outputs": [
        {
          "output_type": "stream",
          "text": [
            "Requirement already satisfied: konlpy in /usr/local/lib/python3.7/dist-packages (0.5.2)\n",
            "Requirement already satisfied: wordcloud in /usr/local/lib/python3.7/dist-packages (1.5.0)\n",
            "Requirement already satisfied: tweepy>=3.7.0 in /usr/local/lib/python3.7/dist-packages (from konlpy) (3.10.0)\n",
            "Requirement already satisfied: colorama in /usr/local/lib/python3.7/dist-packages (from konlpy) (0.4.4)\n",
            "Requirement already satisfied: lxml>=4.1.0 in /usr/local/lib/python3.7/dist-packages (from konlpy) (4.2.6)\n",
            "Requirement already satisfied: beautifulsoup4==4.6.0 in /usr/local/lib/python3.7/dist-packages (from konlpy) (4.6.0)\n",
            "Requirement already satisfied: JPype1>=0.7.0 in /usr/local/lib/python3.7/dist-packages (from konlpy) (1.3.0)\n",
            "Requirement already satisfied: numpy>=1.6 in /usr/local/lib/python3.7/dist-packages (from konlpy) (1.19.5)\n",
            "Requirement already satisfied: pillow in /usr/local/lib/python3.7/dist-packages (from wordcloud) (7.1.2)\n",
            "Requirement already satisfied: requests[socks]>=2.11.1 in /usr/local/lib/python3.7/dist-packages (from tweepy>=3.7.0->konlpy) (2.23.0)\n",
            "Requirement already satisfied: six>=1.10.0 in /usr/local/lib/python3.7/dist-packages (from tweepy>=3.7.0->konlpy) (1.15.0)\n",
            "Requirement already satisfied: requests-oauthlib>=0.7.0 in /usr/local/lib/python3.7/dist-packages (from tweepy>=3.7.0->konlpy) (1.3.0)\n",
            "Requirement already satisfied: typing-extensions; python_version < \"3.8\" in /usr/local/lib/python3.7/dist-packages (from JPype1>=0.7.0->konlpy) (3.7.4.3)\n",
            "Requirement already satisfied: urllib3!=1.25.0,!=1.25.1,<1.26,>=1.21.1 in /usr/local/lib/python3.7/dist-packages (from requests[socks]>=2.11.1->tweepy>=3.7.0->konlpy) (1.24.3)\n",
            "Requirement already satisfied: chardet<4,>=3.0.2 in /usr/local/lib/python3.7/dist-packages (from requests[socks]>=2.11.1->tweepy>=3.7.0->konlpy) (3.0.4)\n",
            "Requirement already satisfied: certifi>=2017.4.17 in /usr/local/lib/python3.7/dist-packages (from requests[socks]>=2.11.1->tweepy>=3.7.0->konlpy) (2021.5.30)\n",
            "Requirement already satisfied: idna<3,>=2.5 in /usr/local/lib/python3.7/dist-packages (from requests[socks]>=2.11.1->tweepy>=3.7.0->konlpy) (2.10)\n",
            "Requirement already satisfied: PySocks!=1.5.7,>=1.5.6; extra == \"socks\" in /usr/local/lib/python3.7/dist-packages (from requests[socks]>=2.11.1->tweepy>=3.7.0->konlpy) (1.7.1)\n",
            "Requirement already satisfied: oauthlib>=3.0.0 in /usr/local/lib/python3.7/dist-packages (from requests-oauthlib>=0.7.0->tweepy>=3.7.0->konlpy) (3.1.1)\n"
          ],
          "name": "stdout"
        }
      ]
    },
    {
      "cell_type": "code",
      "metadata": {
        "colab": {
          "base_uri": "https://localhost:8080/"
        },
        "id": "cJ6RaRmXiPnu",
        "outputId": "42a38d85-0792-4679-9386-49bd6198eb4b"
      },
      "source": [
        "from collections import Counter\n",
        "\n",
        "# Counter 객체는 리스트요소의 값과 요소의 갯수를 카운트 하여 저장하고 있습니다.\n",
        "# 카운터 객체는 .update 메소드로 계속 업데이트 가능합니다.\n",
        "word_counts = Counter()\n",
        "\n",
        "# 토큰화된 각 리뷰 리스트를 카운터 객체에 업데이트 합니다. \n",
        "df['adj_title'].apply(lambda x: word_counts.update(x))\n",
        "\n",
        "# 가장 많이 존재하는 단어 순으로 10개를 나열합니다\n",
        "word_counts.most_common(5)"
      ],
      "execution_count": null,
      "outputs": [
        {
          "output_type": "execute_result",
          "data": {
            "text/plain": [
              "[('부드럽다', 649), ('고소하다', 565), ('달콤하다', 524), ('간편하다', 508), ('밉다', 473)]"
            ]
          },
          "metadata": {
            "tags": []
          },
          "execution_count": 30
        }
      ]
    },
    {
      "cell_type": "code",
      "metadata": {
        "colab": {
          "base_uri": "https://localhost:8080/",
          "height": 366
        },
        "id": "cM2k9oNnhkJL",
        "outputId": "f476023d-35db-4a4b-bc7a-f0d60a65ee50"
      },
      "source": [
        "from wordcloud import WordCloud\n",
        "%config InlineBackend.figure_format='retina'\n",
        "\n",
        "data = word_counts.most_common(100)\n",
        "\n",
        "path = '/usr/share/fonts/truetype/nanum/NanumGothicEco.ttf'\n",
        "wc = WordCloud(font_path=path, relative_scaling=0.2, background_color='#FFFFFF').generate_from_frequencies(dict(data))\n",
        "\n",
        "plt.figure(figsize=(12,8))\n",
        "plt.imshow(wc)\n",
        "plt.axis('off')\n",
        "plt.show()"
      ],
      "execution_count": null,
      "outputs": [
        {
          "output_type": "display_data",
          "data": {
            "image/png": "[encoded data removed]",
            "text/plain": [
              "<Figure size 864x576 with 1 Axes>"
            ]
          },
          "metadata": {
            "tags": [],
            "image/png": {
              "width": 683,
              "height": 349
            },
            "needs_background": "light"
          }
        }
      ]
    },
    {
      "cell_type": "code",
      "metadata": {
        "colab": {
          "base_uri": "https://localhost:8080/"
        },
        "id": "YEpSM_52j2Nk",
        "outputId": "0433bc4b-c34c-4f0d-dc5d-50755fbb12a2"
      },
      "source": [
        "contents_counts = Counter()\n",
        "\n",
        "# 토큰화된 각 리뷰 리스트를 카운터 객체에 업데이트 합니다. \n",
        "df['adj_contents'].apply(lambda x: contents_counts.update(x))\n",
        "\n",
        "# 가장 많이 존재하는 단어 순으로 10개를 나열합니다\n",
        "contents_counts.most_common(5)"
      ],
      "execution_count": null,
      "outputs": [
        {
          "output_type": "execute_result",
          "data": {
            "text/plain": [
              "[('있다', 17107), ('좋다', 6333), ('없다', 3295), ('부드럽다', 3051), ('간편하다', 2776)]"
            ]
          },
          "metadata": {
            "tags": []
          },
          "execution_count": 32
        }
      ]
    },
    {
      "cell_type": "code",
      "metadata": {
        "colab": {
          "base_uri": "https://localhost:8080/",
          "height": 366
        },
        "id": "bvvlAqg8jscP",
        "outputId": "f827bf51-b967-40b1-f293-bcf807e6f8fe"
      },
      "source": [
        "data = contents_counts.most_common(100)\n",
        "\n",
        "path = '/usr/share/fonts/truetype/nanum/NanumGothicEco.ttf'\n",
        "wc = WordCloud(font_path=path, relative_scaling=0.2, background_color='#FFFFFF').generate_from_frequencies(dict(data))\n",
        "\n",
        "plt.figure(figsize=(12,8))\n",
        "plt.imshow(wc)\n",
        "plt.axis('off')\n",
        "plt.show()"
      ],
      "execution_count": null,
      "outputs": [
        {
          "output_type": "display_data",
          "data": {
            "image/png": "[encoded data removed]",
            "text/plain": [
              "<Figure size 864x576 with 1 Axes>"
            ]
          },
          "metadata": {
            "tags": [],
            "image/png": {
              "width": 683,
              "height": 349
            },
            "needs_background": "light"
          }
        }
      ]
    },
    {
      "cell_type": "markdown",
      "metadata": {
        "id": "IAbVK4JRcjqv"
      },
      "source": [
        "- 제목 카피에는 '부드럽다, 고소하다, 간편하다, 달콤하다'와 같은 메뉴의 특징을 축약한 형용사가 주로 사용됨\n",
        "- 컨텐츠 카피에는 '있다. 좋다. 없다. 더하다.' 와 같은 동사형 형용사가 주로 사용됨"
      ]
    },
    {
      "cell_type": "markdown",
      "metadata": {
        "id": "-RU5XC13naod"
      },
      "source": [
        "## 길이 기준"
      ]
    },
    {
      "cell_type": "code",
      "metadata": {
        "colab": {
          "base_uri": "https://localhost:8080/",
          "height": 460
        },
        "id": "KrNbEuyfaOhc",
        "outputId": "0fbce7cb-9d8b-4def-cd9d-a5ffbed3bc9a"
      },
      "source": [
        "max_text = max(len(l) for l in title_token)\n",
        "mean_text = sum(map(len, title_token)) / len(title_token)\n",
        "print('Title 최대 길이 : {}'.format(max_text)) \n",
        "print('Title 평균 길이 : {} \\n'.format(mean_text)) \n",
        "\n",
        "plt.figure(figsize=(8,6))\n",
        "plt.hist([len(s) for s in title_token], color='slateblue') \n",
        "plt.xlabel('length of Data') \n",
        "plt.ylabel('number of Data') \n",
        "plt.title('Tokenized Title', fontdict={'fontsize':20})\n",
        "plt.axvline(x=mean_text, color='w', linestyle='--', linewidth=3)\n",
        "plt.show()"
      ],
      "execution_count": null,
      "outputs": [
        {
          "output_type": "stream",
          "text": [
            "Title 최대 길이 : 16\n",
            "Title 평균 길이 : 7.353484264611432 \n",
            "\n"
          ],
          "name": "stdout"
        },
        {
          "output_type": "display_data",
          "data": {
            "image/png": "[encoded data removed]",
            "text/plain": [
              "<Figure size 576x432 with 1 Axes>"
            ]
          },
          "metadata": {
            "tags": [],
            "image/png": {
              "width": 505,
              "height": 392
            },
            "needs_background": "light"
          }
        }
      ]
    },
    {
      "cell_type": "code",
      "metadata": {
        "colab": {
          "base_uri": "https://localhost:8080/",
          "height": 460
        },
        "id": "d8AYJzgrdsN5",
        "outputId": "08d2a20f-8ce5-4ab7-ba16-8f08d52b707e"
      },
      "source": [
        "max_text = max(len(l) for l in contents_token)\n",
        "mean_text = sum(map(len, contents_token)) / len(contents_token)\n",
        "print('Contents 최대 길이 : {}'.format(max_text)) \n",
        "print('Contents 평균 길이 : {} \\n'.format(mean_text)) \n",
        "\n",
        "plt.figure(figsize=(8,6))\n",
        "plt.hist([len(s) for s in contents_token], color='mediumpurple') \n",
        "plt.xlabel('length of Data') \n",
        "plt.ylabel('number of Data') \n",
        "plt.title('Tokenized Contents', fontdict={'fontsize':20})\n",
        "plt.axvline(x=mean_text, color='w', linestyle='--', linewidth=3)\n",
        "plt.show()"
      ],
      "execution_count": null,
      "outputs": [
        {
          "output_type": "stream",
          "text": [
            "Contents 최대 길이 : 125\n",
            "Contents 평균 길이 : 54.37516056518947 \n",
            "\n"
          ],
          "name": "stdout"
        },
        {
          "output_type": "display_data",
          "data": {
            "image/png": "[encoded data removed]",
            "text/plain": [
              "<Figure size 576x432 with 1 Axes>"
            ]
          },
          "metadata": {
            "tags": [],
            "image/png": {
              "width": 505,
              "height": 392
            },
            "needs_background": "light"
          }
        }
      ]
    },
    {
      "cell_type": "markdown",
      "metadata": {
        "id": "GtmWRBra5XKm"
      },
      "source": [
        "# 토큰화"
      ]
    },
    {
      "cell_type": "code",
      "metadata": {
        "colab": {
          "base_uri": "https://localhost:8080/"
        },
        "id": "_RPOtcy5ygYj",
        "outputId": "994eb8e5-af66-4cb2-c57d-ad0de2a5dac1"
      },
      "source": [
        "tokenizer = Tokenizer()\n",
        "tokenizer.fit_on_texts(title_token)\n",
        "vocab_size = len(title_token)+1\n",
        "vocab_size"
      ],
      "execution_count": null,
      "outputs": [
        {
          "output_type": "execute_result",
          "data": {
            "text/plain": [
              "12457"
            ]
          },
          "metadata": {
            "tags": []
          },
          "execution_count": 37
        }
      ]
    },
    {
      "cell_type": "code",
      "metadata": {
        "colab": {
          "base_uri": "https://localhost:8080/"
        },
        "id": "Vcegm7g-yiym",
        "outputId": "f03298a7-9876-4d16-cf3b-05ab4ddb537e"
      },
      "source": [
        "sequences = list()\n",
        "\n",
        "for line in title_token: \n",
        "    encoded = tokenizer.texts_to_sequences([line])[0]\n",
        "    for i in range(1, len(encoded)):\n",
        "        sequence = encoded[:i+1]\n",
        "        sequences.append(sequence)\n",
        "\n",
        "sequences[:6]"
      ],
      "execution_count": null,
      "outputs": [
        {
          "output_type": "execute_result",
          "data": {
            "text/plain": [
              "[[1513, 1919],\n",
              " [1513, 1919, 117],\n",
              " [1513, 1919, 117, 118],\n",
              " [1513, 1919, 117, 118, 29],\n",
              " [1513, 1919, 117, 118, 29, 1421],\n",
              " [1269, 3384]]"
            ]
          },
          "metadata": {
            "tags": []
          },
          "execution_count": 38
        }
      ]
    },
    {
      "cell_type": "code",
      "metadata": {
        "id": "T2c7ldqwyq0Y"
      },
      "source": [
        "index_to_word={}\n",
        "for key, value in tokenizer.word_index.items(): \n",
        "    index_to_word[value] = key"
      ],
      "execution_count": null,
      "outputs": []
    },
    {
      "cell_type": "code",
      "metadata": {
        "id": "IWZ3UoRwytVF"
      },
      "source": [
        "sequences = pad_sequences(sequences, maxlen=max_text, padding='pre')\n",
        "sequences = np.array(sequences)\n",
        "X = sequences[:,:-1]\n",
        "y = sequences[:,-1]"
      ],
      "execution_count": null,
      "outputs": []
    },
    {
      "cell_type": "code",
      "metadata": {
        "id": "5ql4RsAMyvXI"
      },
      "source": [
        "y = to_categorical(y, num_classes=vocab_size)"
      ],
      "execution_count": null,
      "outputs": []
    },
    {
      "cell_type": "markdown",
      "metadata": {
        "id": "owIxgAhC8yXa"
      },
      "source": [
        "# 모델 생성"
      ]
    },
    {
      "cell_type": "code",
      "metadata": {
        "colab": {
          "base_uri": "https://localhost:8080/"
        },
        "id": "g3O3AnZ62THF",
        "outputId": "c3c99a80-708d-46e0-d77a-554338bb8cde"
      },
      "source": [
        "!pip install pyyaml h5py"
      ],
      "execution_count": null,
      "outputs": [
        {
          "output_type": "stream",
          "text": [
            "Requirement already satisfied: pyyaml in /usr/local/lib/python3.7/dist-packages (3.13)\n",
            "Requirement already satisfied: h5py in /usr/local/lib/python3.7/dist-packages (3.1.0)\n",
            "Requirement already satisfied: cached-property; python_version < \"3.8\" in /usr/local/lib/python3.7/dist-packages (from h5py) (1.5.2)\n",
            "Requirement already satisfied: numpy>=1.14.5; python_version == \"3.7\" in /usr/local/lib/python3.7/dist-packages (from h5py) (1.19.5)\n"
          ],
          "name": "stdout"
        }
      ]
    },
    {
      "cell_type": "code",
      "metadata": {
        "id": "iJ1-ruMJ2cuP"
      },
      "source": [
        "checkpoint_path = \"training_1/cp.ckpt\"\n",
        "checkpoint_dir = os.path.dirname(checkpoint_path)\n",
        "\n",
        "# callback, earlysotpping\n",
        "es = EarlyStopping(monitor='val_loss', mode='min', verbose=1, patience=4)\n",
        "mc = ModelCheckpoint('best_model.h5', monitor='val_acc', mode='max', verbose=1, save_best_only=True)"
      ],
      "execution_count": null,
      "outputs": []
    },
    {
      "cell_type": "markdown",
      "metadata": {
        "id": "bi7b2ehS9Mm8"
      },
      "source": [
        "## epochs=10, acc=0.4"
      ]
    },
    {
      "cell_type": "code",
      "metadata": {
        "colab": {
          "base_uri": "https://localhost:8080/"
        },
        "id": "NsAm4M0aGjdQ",
        "outputId": "d487f3c7-ff00-46ef-cde4-999c97468b0e"
      },
      "source": [
        "model = Sequential()\n",
        "model.add(Embedding(vocab_size, 128, input_length=max_text-1))\n",
        "# y데이터를 분리하였으므로 이제 X데이터의 길이는 기존 데이터의 길이 - 1\n",
        "model.add(LSTM(128))\n",
        "model.add(Dense(vocab_size, activation='softmax'))\n",
        "model.compile(loss='categorical_crossentropy', optimizer='adam', metrics=['accuracy'])\n",
        "history=model.fit(X, y, batch_size=32, epochs=10, callbacks=[es, mc])"
      ],
      "execution_count": null,
      "outputs": [
        {
          "output_type": "stream",
          "text": [
            "Epoch 1/10\n",
            "2474/2474 [==============================] - 87s 34ms/step - loss: 7.7086 - accuracy: 0.0266\n",
            "WARNING:tensorflow:Early stopping conditioned on metric `val_loss` which is not available. Available metrics are: loss,accuracy\n",
            "WARNING:tensorflow:Can save best model only with val_acc available, skipping.\n",
            "Epoch 2/10\n",
            "2474/2474 [==============================] - 85s 34ms/step - loss: 6.8707 - accuracy: 0.0567\n",
            "WARNING:tensorflow:Early stopping conditioned on metric `val_loss` which is not available. Available metrics are: loss,accuracy\n",
            "WARNING:tensorflow:Can save best model only with val_acc available, skipping.\n",
            "Epoch 3/10\n",
            "2474/2474 [==============================] - 85s 34ms/step - loss: 6.2098 - accuracy: 0.1002\n",
            "WARNING:tensorflow:Early stopping conditioned on metric `val_loss` which is not available. Available metrics are: loss,accuracy\n",
            "WARNING:tensorflow:Can save best model only with val_acc available, skipping.\n",
            "Epoch 4/10\n",
            "2474/2474 [==============================] - 85s 34ms/step - loss: 5.6128 - accuracy: 0.1400\n",
            "WARNING:tensorflow:Early stopping conditioned on metric `val_loss` which is not available. Available metrics are: loss,accuracy\n",
            "WARNING:tensorflow:Can save best model only with val_acc available, skipping.\n",
            "Epoch 5/10\n",
            "2474/2474 [==============================] - 84s 34ms/step - loss: 5.0805 - accuracy: 0.1796\n",
            "WARNING:tensorflow:Early stopping conditioned on metric `val_loss` which is not available. Available metrics are: loss,accuracy\n",
            "WARNING:tensorflow:Can save best model only with val_acc available, skipping.\n",
            "Epoch 6/10\n",
            "2474/2474 [==============================] - 84s 34ms/step - loss: 4.6049 - accuracy: 0.2208\n",
            "WARNING:tensorflow:Early stopping conditioned on metric `val_loss` which is not available. Available metrics are: loss,accuracy\n",
            "WARNING:tensorflow:Can save best model only with val_acc available, skipping.\n",
            "Epoch 7/10\n",
            "2474/2474 [==============================] - 84s 34ms/step - loss: 4.1705 - accuracy: 0.2676\n",
            "WARNING:tensorflow:Early stopping conditioned on metric `val_loss` which is not available. Available metrics are: loss,accuracy\n",
            "WARNING:tensorflow:Can save best model only with val_acc available, skipping.\n",
            "Epoch 8/10\n",
            "2474/2474 [==============================] - 84s 34ms/step - loss: 3.7757 - accuracy: 0.3180\n",
            "WARNING:tensorflow:Early stopping conditioned on metric `val_loss` which is not available. Available metrics are: loss,accuracy\n",
            "WARNING:tensorflow:Can save best model only with val_acc available, skipping.\n",
            "Epoch 9/10\n",
            "2474/2474 [==============================] - 84s 34ms/step - loss: 3.4221 - accuracy: 0.3687\n",
            "WARNING:tensorflow:Early stopping conditioned on metric `val_loss` which is not available. Available metrics are: loss,accuracy\n",
            "WARNING:tensorflow:Can save best model only with val_acc available, skipping.\n",
            "Epoch 10/10\n",
            "2474/2474 [==============================] - 84s 34ms/step - loss: 3.1073 - accuracy: 0.4162\n",
            "WARNING:tensorflow:Early stopping conditioned on metric `val_loss` which is not available. Available metrics are: loss,accuracy\n",
            "WARNING:tensorflow:Can save best model only with val_acc available, skipping.\n"
          ],
          "name": "stdout"
        }
      ]
    },
    {
      "cell_type": "code",
      "metadata": {
        "id": "FEjrOY5RydXN"
      },
      "source": [
        "def sentence_generation(model, t, current_word, n): # 모델, 토크나이저, 현재 단어, 반복할 횟수\n",
        "    init_word = current_word # 처음 들어온 단어도 마지막에 같이 출력하기위해 저장\n",
        "    sentence = ''\n",
        "    for _ in range(n): # n번 반복\n",
        "        encoded = t.texts_to_sequences([current_word])[0] # 현재 단어에 대한 정수 인코딩\n",
        "        encoded = pad_sequences([encoded], maxlen=23, padding='pre') # 데이터에 대한 패딩\n",
        "        result = model.predict_classes(encoded, verbose=0)\n",
        "    # 입력한 X(현재 단어)에 대해서 y를 예측하고 y(예측한 단어)를 result에 저장.\n",
        "        for word, index in t.word_index.items(): \n",
        "            if index == result: # 만약 예측한 단어와 인덱스와 동일한 단어가 있다면\n",
        "                break # 해당 단어가 예측 단어이므로 break\n",
        "        current_word = current_word + ' '  + word # 현재 단어 + ' ' + 예측 단어를 현재 단어로 변경\n",
        "        sentence = sentence + ' ' + word # 예측 단어를 문장에 저장\n",
        "    # for문이므로 이 행동을 다시 반복\n",
        "    sentence = init_word + ' ' + sentence\n",
        "    return sentence"
      ],
      "execution_count": null,
      "outputs": []
    },
    {
      "cell_type": "code",
      "metadata": {
        "id": "X3_osGFVlRRM"
      },
      "source": [
        "model.save('model_3rd_10.h5')"
      ],
      "execution_count": null,
      "outputs": []
    },
    {
      "cell_type": "code",
      "metadata": {
        "colab": {
          "base_uri": "https://localhost:8080/"
        },
        "id": "DHzE1EusNuFH",
        "outputId": "b3c316fc-f3b6-4f15-c2d1-d96437416d03"
      },
      "source": [
        "print(sentence_generation(model, tokenizer, '샐러드', 6))\n",
        "print(sentence_generation(model, tokenizer, '김치찌개', 6))\n",
        "print(sentence_generation(model, tokenizer, '떡볶이', 6))"
      ],
      "execution_count": null,
      "outputs": [
        {
          "output_type": "stream",
          "text": [
            "WARNING:tensorflow:Model was constructed with shape (None, 124) for input KerasTensor(type_spec=TensorSpec(shape=(None, 124), dtype=tf.float32, name='embedding_1_input'), name='embedding_1_input', description=\"created by layer 'embedding_1_input'\"), but it was called on an input with incompatible shape (None, 23).\n"
          ],
          "name": "stdout"
        },
        {
          "output_type": "stream",
          "text": [
            "/usr/local/lib/python3.7/dist-packages/tensorflow/python/keras/engine/sequential.py:455: UserWarning: `model.predict_classes()` is deprecated and will be removed after 2021-01-01. Please use instead:* `np.argmax(model.predict(x), axis=-1)`,   if your model does multi-class classification   (e.g. if it uses a `softmax` last-layer activation).* `(model.predict(x) > 0.5).astype(\"int32\")`,   if your model does binary classification   (e.g. if it uses a `sigmoid` last-layer activation).\n",
            "  warnings.warn('`model.predict_classes()` is deprecated and '\n"
          ],
          "name": "stderr"
        },
        {
          "output_type": "stream",
          "text": [
            "샐러드  토핑 하다 즐기다 입 샐러드 누\n",
            "김치찌개  하다 완성 되다 달콤하다 과일 잼\n",
            "떡볶이  계절 든든하다 하다 그릇 갈비탕 버섯\n"
          ],
          "name": "stdout"
        }
      ]
    },
    {
      "cell_type": "code",
      "metadata": {
        "id": "NpwZeCtWyVZM"
      },
      "source": [
        "# 김치>매콤>감칠맛>주꾸미 순"
      ],
      "execution_count": null,
      "outputs": []
    },
    {
      "cell_type": "markdown",
      "metadata": {
        "id": "2PO8XQixzLcd"
      },
      "source": [
        "## epochs=20, acc=0.74\n"
      ]
    },
    {
      "cell_type": "code",
      "metadata": {
        "colab": {
          "base_uri": "https://localhost:8080/"
        },
        "id": "3RZiYKQRalVw",
        "outputId": "f9cbd61a-b294-4f0c-84b2-6ad671cf2129"
      },
      "source": [
        "model = tf.keras.models.load_model('model_3rd_20.h5')\n",
        "model.evaluate(X,y)"
      ],
      "execution_count": null,
      "outputs": [
        {
          "output_type": "stream",
          "text": [
            "WARNING:tensorflow:Model was constructed with shape (None, 15) for input KerasTensor(type_spec=TensorSpec(shape=(None, 15), dtype=tf.float32, name='embedding_input'), name='embedding_input', description=\"created by layer 'embedding_input'\"), but it was called on an input with incompatible shape (None, 124).\n",
            "2474/2474 [==============================] - 23s 9ms/step - loss: 1.2092 - accuracy: 0.7463\n"
          ],
          "name": "stdout"
        },
        {
          "output_type": "execute_result",
          "data": {
            "text/plain": [
              "[1.2091503143310547, 0.7463016510009766]"
            ]
          },
          "metadata": {
            "tags": []
          },
          "execution_count": 61
        }
      ]
    },
    {
      "cell_type": "code",
      "metadata": {
        "colab": {
          "base_uri": "https://localhost:8080/"
        },
        "id": "peXwzMyfbYA2",
        "outputId": "dda04d4d-be1b-441c-cc74-9fc720941206"
      },
      "source": [
        "print(sentence_generation(model, tokenizer, '샐러드', 6))\n",
        "print(sentence_generation(model, tokenizer, '김치찌개', 6))\n",
        "print(sentence_generation(model, tokenizer, '떡볶이', 6))"
      ],
      "execution_count": null,
      "outputs": [
        {
          "output_type": "stream",
          "text": [
            "WARNING:tensorflow:Model was constructed with shape (None, 15) for input KerasTensor(type_spec=TensorSpec(shape=(None, 15), dtype=tf.float32, name='embedding_input'), name='embedding_input', description=\"created by layer 'embedding_input'\"), but it was called on an input with incompatible shape (None, 23).\n"
          ],
          "name": "stdout"
        },
        {
          "output_type": "stream",
          "text": [
            "/usr/local/lib/python3.7/dist-packages/tensorflow/python/keras/engine/sequential.py:455: UserWarning: `model.predict_classes()` is deprecated and will be removed after 2021-01-01. Please use instead:* `np.argmax(model.predict(x), axis=-1)`,   if your model does multi-class classification   (e.g. if it uses a `softmax` last-layer activation).* `(model.predict(x) > 0.5).astype(\"int32\")`,   if your model does binary classification   (e.g. if it uses a `sigmoid` last-layer activation).\n",
            "  warnings.warn('`model.predict_classes()` is deprecated and '\n"
          ],
          "name": "stderr"
        },
        {
          "output_type": "stream",
          "text": [
            "샐러드  토핑 하다 좋다 쫄깃 어묵 조각\n",
            "김치찌개  식감 그대로 담다 차 한잔 제주\n",
            "떡볶이  소고기 더하다 매콤 반찬 제육 볶음\n"
          ],
          "name": "stdout"
        }
      ]
    },
    {
      "cell_type": "markdown",
      "metadata": {
        "id": "DH8dfnNXal3I"
      },
      "source": [
        "## epochs=50, acc=0.82"
      ]
    },
    {
      "cell_type": "code",
      "metadata": {
        "colab": {
          "base_uri": "https://localhost:8080/"
        },
        "id": "QnAQJ0ZszDhl",
        "outputId": "bbf45261-f390-451f-8c78-3bf38349cc02"
      },
      "source": [
        "history=model.fit(X, y, batch_size=32, epochs=30, callbacks=[es, mc])"
      ],
      "execution_count": null,
      "outputs": [
        {
          "output_type": "stream",
          "text": [
            "Epoch 1/30\n",
            "2474/2474 [==============================] - 66s 27ms/step - loss: 1.3544 - accuracy: 0.7119\n",
            "WARNING:tensorflow:Early stopping conditioned on metric `val_loss` which is not available. Available metrics are: loss,accuracy\n",
            "WARNING:tensorflow:Can save best model only with val_acc available, skipping.\n",
            "Epoch 2/30\n",
            "2474/2474 [==============================] - 66s 27ms/step - loss: 1.2727 - accuracy: 0.7258\n",
            "WARNING:tensorflow:Early stopping conditioned on metric `val_loss` which is not available. Available metrics are: loss,accuracy\n",
            "WARNING:tensorflow:Can save best model only with val_acc available, skipping.\n",
            "Epoch 3/30\n",
            "2474/2474 [==============================] - 65s 26ms/step - loss: 1.2080 - accuracy: 0.7376\n",
            "WARNING:tensorflow:Early stopping conditioned on metric `val_loss` which is not available. Available metrics are: loss,accuracy\n",
            "WARNING:tensorflow:Can save best model only with val_acc available, skipping.\n",
            "Epoch 4/30\n",
            "2474/2474 [==============================] - 66s 27ms/step - loss: 1.1515 - accuracy: 0.7470\n",
            "WARNING:tensorflow:Early stopping conditioned on metric `val_loss` which is not available. Available metrics are: loss,accuracy\n",
            "WARNING:tensorflow:Can save best model only with val_acc available, skipping.\n",
            "Epoch 5/30\n",
            "2474/2474 [==============================] - 66s 27ms/step - loss: 1.1014 - accuracy: 0.7562\n",
            "WARNING:tensorflow:Early stopping conditioned on metric `val_loss` which is not available. Available metrics are: loss,accuracy\n",
            "WARNING:tensorflow:Can save best model only with val_acc available, skipping.\n",
            "Epoch 6/30\n",
            "2474/2474 [==============================] - 66s 27ms/step - loss: 1.0533 - accuracy: 0.7633\n",
            "WARNING:tensorflow:Early stopping conditioned on metric `val_loss` which is not available. Available metrics are: loss,accuracy\n",
            "WARNING:tensorflow:Can save best model only with val_acc available, skipping.\n",
            "Epoch 7/30\n",
            "2474/2474 [==============================] - 67s 27ms/step - loss: 1.0145 - accuracy: 0.7705\n",
            "WARNING:tensorflow:Early stopping conditioned on metric `val_loss` which is not available. Available metrics are: loss,accuracy\n",
            "WARNING:tensorflow:Can save best model only with val_acc available, skipping.\n",
            "Epoch 8/30\n",
            "2474/2474 [==============================] - 67s 27ms/step - loss: 0.9761 - accuracy: 0.7763\n",
            "WARNING:tensorflow:Early stopping conditioned on metric `val_loss` which is not available. Available metrics are: loss,accuracy\n",
            "WARNING:tensorflow:Can save best model only with val_acc available, skipping.\n",
            "Epoch 9/30\n",
            "2474/2474 [==============================] - 67s 27ms/step - loss: 0.9421 - accuracy: 0.7824\n",
            "WARNING:tensorflow:Early stopping conditioned on metric `val_loss` which is not available. Available metrics are: loss,accuracy\n",
            "WARNING:tensorflow:Can save best model only with val_acc available, skipping.\n",
            "Epoch 10/30\n",
            "2474/2474 [==============================] - 67s 27ms/step - loss: 0.9130 - accuracy: 0.7870\n",
            "WARNING:tensorflow:Early stopping conditioned on metric `val_loss` which is not available. Available metrics are: loss,accuracy\n",
            "WARNING:tensorflow:Can save best model only with val_acc available, skipping.\n",
            "Epoch 11/30\n",
            "2474/2474 [==============================] - 67s 27ms/step - loss: 0.8859 - accuracy: 0.7919\n",
            "WARNING:tensorflow:Early stopping conditioned on metric `val_loss` which is not available. Available metrics are: loss,accuracy\n",
            "WARNING:tensorflow:Can save best model only with val_acc available, skipping.\n",
            "Epoch 12/30\n",
            "2474/2474 [==============================] - 66s 27ms/step - loss: 0.8639 - accuracy: 0.7939\n",
            "WARNING:tensorflow:Early stopping conditioned on metric `val_loss` which is not available. Available metrics are: loss,accuracy\n",
            "WARNING:tensorflow:Can save best model only with val_acc available, skipping.\n",
            "Epoch 13/30\n",
            "2474/2474 [==============================] - 67s 27ms/step - loss: 0.8409 - accuracy: 0.7976\n",
            "WARNING:tensorflow:Early stopping conditioned on metric `val_loss` which is not available. Available metrics are: loss,accuracy\n",
            "WARNING:tensorflow:Can save best model only with val_acc available, skipping.\n",
            "Epoch 14/30\n",
            "2474/2474 [==============================] - 67s 27ms/step - loss: 0.8218 - accuracy: 0.8010\n",
            "WARNING:tensorflow:Early stopping conditioned on metric `val_loss` which is not available. Available metrics are: loss,accuracy\n",
            "WARNING:tensorflow:Can save best model only with val_acc available, skipping.\n",
            "Epoch 15/30\n",
            "2474/2474 [==============================] - 68s 27ms/step - loss: 0.8015 - accuracy: 0.8034\n",
            "WARNING:tensorflow:Early stopping conditioned on metric `val_loss` which is not available. Available metrics are: loss,accuracy\n",
            "WARNING:tensorflow:Can save best model only with val_acc available, skipping.\n",
            "Epoch 16/30\n",
            "2474/2474 [==============================] - 67s 27ms/step - loss: 0.7853 - accuracy: 0.8068\n",
            "WARNING:tensorflow:Early stopping conditioned on metric `val_loss` which is not available. Available metrics are: loss,accuracy\n",
            "WARNING:tensorflow:Can save best model only with val_acc available, skipping.\n",
            "Epoch 17/30\n",
            "2474/2474 [==============================] - 66s 27ms/step - loss: 0.7697 - accuracy: 0.8093\n",
            "WARNING:tensorflow:Early stopping conditioned on metric `val_loss` which is not available. Available metrics are: loss,accuracy\n",
            "WARNING:tensorflow:Can save best model only with val_acc available, skipping.\n",
            "Epoch 18/30\n",
            "2474/2474 [==============================] - 66s 27ms/step - loss: 0.7566 - accuracy: 0.8100\n",
            "WARNING:tensorflow:Early stopping conditioned on metric `val_loss` which is not available. Available metrics are: loss,accuracy\n",
            "WARNING:tensorflow:Can save best model only with val_acc available, skipping.\n",
            "Epoch 19/30\n",
            "2474/2474 [==============================] - 67s 27ms/step - loss: 0.7435 - accuracy: 0.8112\n",
            "WARNING:tensorflow:Early stopping conditioned on metric `val_loss` which is not available. Available metrics are: loss,accuracy\n",
            "WARNING:tensorflow:Can save best model only with val_acc available, skipping.\n",
            "Epoch 20/30\n",
            "2474/2474 [==============================] - 67s 27ms/step - loss: 0.7320 - accuracy: 0.8130\n",
            "WARNING:tensorflow:Early stopping conditioned on metric `val_loss` which is not available. Available metrics are: loss,accuracy\n",
            "WARNING:tensorflow:Can save best model only with val_acc available, skipping.\n",
            "Epoch 21/30\n",
            "2474/2474 [==============================] - 67s 27ms/step - loss: 0.7224 - accuracy: 0.8138\n",
            "WARNING:tensorflow:Early stopping conditioned on metric `val_loss` which is not available. Available metrics are: loss,accuracy\n",
            "WARNING:tensorflow:Can save best model only with val_acc available, skipping.\n",
            "Epoch 22/30\n",
            "2474/2474 [==============================] - 67s 27ms/step - loss: 0.7120 - accuracy: 0.8157\n",
            "WARNING:tensorflow:Early stopping conditioned on metric `val_loss` which is not available. Available metrics are: loss,accuracy\n",
            "WARNING:tensorflow:Can save best model only with val_acc available, skipping.\n",
            "Epoch 23/30\n",
            "2474/2474 [==============================] - 67s 27ms/step - loss: 0.7043 - accuracy: 0.8152\n",
            "WARNING:tensorflow:Early stopping conditioned on metric `val_loss` which is not available. Available metrics are: loss,accuracy\n",
            "WARNING:tensorflow:Can save best model only with val_acc available, skipping.\n",
            "Epoch 24/30\n",
            "2474/2474 [==============================] - 67s 27ms/step - loss: 0.6958 - accuracy: 0.8158\n",
            "WARNING:tensorflow:Early stopping conditioned on metric `val_loss` which is not available. Available metrics are: loss,accuracy\n",
            "WARNING:tensorflow:Can save best model only with val_acc available, skipping.\n",
            "Epoch 25/30\n",
            "2474/2474 [==============================] - 66s 27ms/step - loss: 0.6883 - accuracy: 0.8175\n",
            "WARNING:tensorflow:Early stopping conditioned on metric `val_loss` which is not available. Available metrics are: loss,accuracy\n",
            "WARNING:tensorflow:Can save best model only with val_acc available, skipping.\n",
            "Epoch 26/30\n",
            "2474/2474 [==============================] - 67s 27ms/step - loss: 0.6833 - accuracy: 0.8187\n",
            "WARNING:tensorflow:Early stopping conditioned on metric `val_loss` which is not available. Available metrics are: loss,accuracy\n",
            "WARNING:tensorflow:Can save best model only with val_acc available, skipping.\n",
            "Epoch 27/30\n",
            "2474/2474 [==============================] - 67s 27ms/step - loss: 0.6745 - accuracy: 0.8184\n",
            "WARNING:tensorflow:Early stopping conditioned on metric `val_loss` which is not available. Available metrics are: loss,accuracy\n",
            "WARNING:tensorflow:Can save best model only with val_acc available, skipping.\n",
            "Epoch 28/30\n",
            "2474/2474 [==============================] - 67s 27ms/step - loss: 0.6700 - accuracy: 0.8190\n",
            "WARNING:tensorflow:Early stopping conditioned on metric `val_loss` which is not available. Available metrics are: loss,accuracy\n",
            "WARNING:tensorflow:Can save best model only with val_acc available, skipping.\n",
            "Epoch 29/30\n",
            "2474/2474 [==============================] - 67s 27ms/step - loss: 0.6644 - accuracy: 0.8188\n",
            "WARNING:tensorflow:Early stopping conditioned on metric `val_loss` which is not available. Available metrics are: loss,accuracy\n",
            "WARNING:tensorflow:Can save best model only with val_acc available, skipping.\n",
            "Epoch 30/30\n",
            "2474/2474 [==============================] - 67s 27ms/step - loss: 0.6594 - accuracy: 0.8204\n",
            "WARNING:tensorflow:Early stopping conditioned on metric `val_loss` which is not available. Available metrics are: loss,accuracy\n",
            "WARNING:tensorflow:Can save best model only with val_acc available, skipping.\n"
          ],
          "name": "stdout"
        }
      ]
    },
    {
      "cell_type": "code",
      "metadata": {
        "colab": {
          "base_uri": "https://localhost:8080/"
        },
        "id": "7_884px0iqVQ",
        "outputId": "5bb56b08-aea0-49a9-8707-40c4192b16b9"
      },
      "source": [
        "model = tf.keras.models.load_model('model_3rd_50.h5')\n",
        "model.evaluate(X,y)"
      ],
      "execution_count": null,
      "outputs": [
        {
          "output_type": "stream",
          "text": [
            "WARNING:tensorflow:Model was constructed with shape (None, 15) for input KerasTensor(type_spec=TensorSpec(shape=(None, 15), dtype=tf.float32, name='embedding_input'), name='embedding_input', description=\"created by layer 'embedding_input'\"), but it was called on an input with incompatible shape (None, 124).\n",
            "2474/2474 [==============================] - 23s 9ms/step - loss: 0.5547 - accuracy: 0.8431\n"
          ],
          "name": "stdout"
        },
        {
          "output_type": "execute_result",
          "data": {
            "text/plain": [
              "[0.5546950697898865, 0.8430839776992798]"
            ]
          },
          "metadata": {
            "tags": []
          },
          "execution_count": 63
        }
      ]
    },
    {
      "cell_type": "code",
      "metadata": {
        "colab": {
          "base_uri": "https://localhost:8080/"
        },
        "id": "hEK9HL9szDe4",
        "outputId": "c7225810-a79e-4099-a526-eec8c18f9359"
      },
      "source": [
        "print(sentence_generation(model, tokenizer, '샐러드', 6))\n",
        "print(sentence_generation(model, tokenizer, '김치찌개', 6))\n",
        "print(sentence_generation(model, tokenizer, '떡볶이', 6))"
      ],
      "execution_count": null,
      "outputs": [
        {
          "output_type": "stream",
          "text": [
            "WARNING:tensorflow:Model was constructed with shape (None, 15) for input KerasTensor(type_spec=TensorSpec(shape=(None, 15), dtype=tf.float32, name='embedding_input'), name='embedding_input', description=\"created by layer 'embedding_input'\"), but it was called on an input with incompatible shape (None, 23).\n"
          ],
          "name": "stdout"
        },
        {
          "output_type": "stream",
          "text": [
            "/usr/local/lib/python3.7/dist-packages/tensorflow/python/keras/engine/sequential.py:455: UserWarning: `model.predict_classes()` is deprecated and will be removed after 2021-01-01. Please use instead:* `np.argmax(model.predict(x), axis=-1)`,   if your model does multi-class classification   (e.g. if it uses a `softmax` last-layer activation).* `(model.predict(x) > 0.5).astype(\"int32\")`,   if your model does binary classification   (e.g. if it uses a `sigmoid` last-layer activation).\n",
            "  warnings.warn('`model.predict_classes()` is deprecated and '\n"
          ],
          "name": "stderr"
        },
        {
          "output_type": "stream",
          "text": [
            "샐러드  토핑 활용 하다 제격 비건 양념\n",
            "김치찌개  깃 고소하다 감칠맛 김치 만두 배\n",
            "떡볶이  이탈리아 향 밉다 스모크 고기 페스\n"
          ],
          "name": "stdout"
        }
      ]
    },
    {
      "cell_type": "code",
      "metadata": {
        "id": "O2R4VHqHHNPl"
      },
      "source": [
        "model.save('model_3rd_50.h5') "
      ],
      "execution_count": null,
      "outputs": []
    },
    {
      "cell_type": "markdown",
      "metadata": {
        "id": "STIfUNYoz1JQ"
      },
      "source": [
        "## epochs=100, acc=0.82"
      ]
    },
    {
      "cell_type": "code",
      "metadata": {
        "colab": {
          "base_uri": "https://localhost:8080/"
        },
        "id": "8wRBImayzylm",
        "outputId": "821e7ff7-906d-4ba4-d970-f2d61fc80cab"
      },
      "source": [
        "history=model.fit(X, y, batch_size=30, epochs=50, callbacks=[es, mc])"
      ],
      "execution_count": null,
      "outputs": [
        {
          "output_type": "stream",
          "text": [
            "Epoch 1/50\n",
            "2639/2639 [==============================] - 71s 27ms/step - loss: 0.6633 - accuracy: 0.8182\n",
            "WARNING:tensorflow:Early stopping conditioned on metric `val_loss` which is not available. Available metrics are: loss,accuracy\n",
            "WARNING:tensorflow:Can save best model only with val_acc available, skipping.\n",
            "Epoch 2/50\n",
            "2639/2639 [==============================] - 68s 26ms/step - loss: 0.6573 - accuracy: 0.8185\n",
            "WARNING:tensorflow:Early stopping conditioned on metric `val_loss` which is not available. Available metrics are: loss,accuracy\n",
            "WARNING:tensorflow:Can save best model only with val_acc available, skipping.\n",
            "Epoch 3/50\n",
            "2639/2639 [==============================] - 68s 26ms/step - loss: 0.6518 - accuracy: 0.8190\n",
            "WARNING:tensorflow:Early stopping conditioned on metric `val_loss` which is not available. Available metrics are: loss,accuracy\n",
            "WARNING:tensorflow:Can save best model only with val_acc available, skipping.\n",
            "Epoch 4/50\n",
            "2639/2639 [==============================] - 68s 26ms/step - loss: 0.6473 - accuracy: 0.8211\n",
            "WARNING:tensorflow:Early stopping conditioned on metric `val_loss` which is not available. Available metrics are: loss,accuracy\n",
            "WARNING:tensorflow:Can save best model only with val_acc available, skipping.\n",
            "Epoch 5/50\n",
            "2639/2639 [==============================] - 68s 26ms/step - loss: 0.6462 - accuracy: 0.8207\n",
            "WARNING:tensorflow:Early stopping conditioned on metric `val_loss` which is not available. Available metrics are: loss,accuracy\n",
            "WARNING:tensorflow:Can save best model only with val_acc available, skipping.\n",
            "Epoch 6/50\n",
            "2639/2639 [==============================] - 70s 27ms/step - loss: 0.6403 - accuracy: 0.8205\n",
            "WARNING:tensorflow:Early stopping conditioned on metric `val_loss` which is not available. Available metrics are: loss,accuracy\n",
            "WARNING:tensorflow:Can save best model only with val_acc available, skipping.\n",
            "Epoch 7/50\n",
            "2639/2639 [==============================] - 69s 26ms/step - loss: 0.6392 - accuracy: 0.8198\n",
            "WARNING:tensorflow:Early stopping conditioned on metric `val_loss` which is not available. Available metrics are: loss,accuracy\n",
            "WARNING:tensorflow:Can save best model only with val_acc available, skipping.\n",
            "Epoch 8/50\n",
            "2639/2639 [==============================] - 70s 26ms/step - loss: 0.6363 - accuracy: 0.8208\n",
            "WARNING:tensorflow:Early stopping conditioned on metric `val_loss` which is not available. Available metrics are: loss,accuracy\n",
            "WARNING:tensorflow:Can save best model only with val_acc available, skipping.\n",
            "Epoch 9/50\n",
            "2639/2639 [==============================] - 71s 27ms/step - loss: 0.6343 - accuracy: 0.8213\n",
            "WARNING:tensorflow:Early stopping conditioned on metric `val_loss` which is not available. Available metrics are: loss,accuracy\n",
            "WARNING:tensorflow:Can save best model only with val_acc available, skipping.\n",
            "Epoch 10/50\n",
            "2639/2639 [==============================] - 71s 27ms/step - loss: 0.6306 - accuracy: 0.8208\n",
            "WARNING:tensorflow:Early stopping conditioned on metric `val_loss` which is not available. Available metrics are: loss,accuracy\n",
            "WARNING:tensorflow:Can save best model only with val_acc available, skipping.\n",
            "Epoch 11/50\n",
            "2639/2639 [==============================] - 71s 27ms/step - loss: 0.6290 - accuracy: 0.8219\n",
            "WARNING:tensorflow:Early stopping conditioned on metric `val_loss` which is not available. Available metrics are: loss,accuracy\n",
            "WARNING:tensorflow:Can save best model only with val_acc available, skipping.\n",
            "Epoch 12/50\n",
            "2639/2639 [==============================] - 71s 27ms/step - loss: 0.6263 - accuracy: 0.8214\n",
            "WARNING:tensorflow:Early stopping conditioned on metric `val_loss` which is not available. Available metrics are: loss,accuracy\n",
            "WARNING:tensorflow:Can save best model only with val_acc available, skipping.\n",
            "Epoch 13/50\n",
            "2639/2639 [==============================] - 74s 28ms/step - loss: 0.6235 - accuracy: 0.8212\n",
            "WARNING:tensorflow:Early stopping conditioned on metric `val_loss` which is not available. Available metrics are: loss,accuracy\n",
            "WARNING:tensorflow:Can save best model only with val_acc available, skipping.\n",
            "Epoch 14/50\n",
            "2639/2639 [==============================] - 72s 27ms/step - loss: 0.6215 - accuracy: 0.8210\n",
            "WARNING:tensorflow:Early stopping conditioned on metric `val_loss` which is not available. Available metrics are: loss,accuracy\n",
            "WARNING:tensorflow:Can save best model only with val_acc available, skipping.\n",
            "Epoch 15/50\n",
            "2639/2639 [==============================] - 72s 27ms/step - loss: 0.6205 - accuracy: 0.8215\n",
            "WARNING:tensorflow:Early stopping conditioned on metric `val_loss` which is not available. Available metrics are: loss,accuracy\n",
            "WARNING:tensorflow:Can save best model only with val_acc available, skipping.\n",
            "Epoch 16/50\n",
            "2639/2639 [==============================] - 74s 28ms/step - loss: 0.6173 - accuracy: 0.8227\n",
            "WARNING:tensorflow:Early stopping conditioned on metric `val_loss` which is not available. Available metrics are: loss,accuracy\n",
            "WARNING:tensorflow:Can save best model only with val_acc available, skipping.\n",
            "Epoch 17/50\n",
            "2639/2639 [==============================] - 71s 27ms/step - loss: 0.6154 - accuracy: 0.8224\n",
            "WARNING:tensorflow:Early stopping conditioned on metric `val_loss` which is not available. Available metrics are: loss,accuracy\n",
            "WARNING:tensorflow:Can save best model only with val_acc available, skipping.\n",
            "Epoch 18/50\n",
            "2639/2639 [==============================] - 70s 26ms/step - loss: 0.6146 - accuracy: 0.8218\n",
            "WARNING:tensorflow:Early stopping conditioned on metric `val_loss` which is not available. Available metrics are: loss,accuracy\n",
            "WARNING:tensorflow:Can save best model only with val_acc available, skipping.\n",
            "Epoch 19/50\n",
            "2639/2639 [==============================] - 70s 26ms/step - loss: 0.6113 - accuracy: 0.8219\n",
            "WARNING:tensorflow:Early stopping conditioned on metric `val_loss` which is not available. Available metrics are: loss,accuracy\n",
            "WARNING:tensorflow:Can save best model only with val_acc available, skipping.\n",
            "Epoch 20/50\n",
            "2639/2639 [==============================] - 72s 27ms/step - loss: 0.6112 - accuracy: 0.8227\n",
            "WARNING:tensorflow:Early stopping conditioned on metric `val_loss` which is not available. Available metrics are: loss,accuracy\n",
            "WARNING:tensorflow:Can save best model only with val_acc available, skipping.\n",
            "Epoch 21/50\n",
            "2639/2639 [==============================] - 73s 28ms/step - loss: 0.6080 - accuracy: 0.8235\n",
            "WARNING:tensorflow:Early stopping conditioned on metric `val_loss` which is not available. Available metrics are: loss,accuracy\n",
            "WARNING:tensorflow:Can save best model only with val_acc available, skipping.\n",
            "Epoch 22/50\n",
            "2639/2639 [==============================] - 72s 27ms/step - loss: 0.6071 - accuracy: 0.8230\n",
            "WARNING:tensorflow:Early stopping conditioned on metric `val_loss` which is not available. Available metrics are: loss,accuracy\n",
            "WARNING:tensorflow:Can save best model only with val_acc available, skipping.\n",
            "Epoch 23/50\n",
            "2639/2639 [==============================] - 72s 27ms/step - loss: 0.6071 - accuracy: 0.8222\n",
            "WARNING:tensorflow:Early stopping conditioned on metric `val_loss` which is not available. Available metrics are: loss,accuracy\n",
            "WARNING:tensorflow:Can save best model only with val_acc available, skipping.\n",
            "Epoch 24/50\n",
            "2639/2639 [==============================] - 73s 28ms/step - loss: 0.6062 - accuracy: 0.8212\n",
            "WARNING:tensorflow:Early stopping conditioned on metric `val_loss` which is not available. Available metrics are: loss,accuracy\n",
            "WARNING:tensorflow:Can save best model only with val_acc available, skipping.\n",
            "Epoch 25/50\n",
            "2639/2639 [==============================] - 74s 28ms/step - loss: 0.6032 - accuracy: 0.8225\n",
            "WARNING:tensorflow:Early stopping conditioned on metric `val_loss` which is not available. Available metrics are: loss,accuracy\n",
            "WARNING:tensorflow:Can save best model only with val_acc available, skipping.\n",
            "Epoch 26/50\n",
            "2639/2639 [==============================] - 74s 28ms/step - loss: 0.6033 - accuracy: 0.8233\n",
            "WARNING:tensorflow:Early stopping conditioned on metric `val_loss` which is not available. Available metrics are: loss,accuracy\n",
            "WARNING:tensorflow:Can save best model only with val_acc available, skipping.\n",
            "Epoch 27/50\n",
            "2639/2639 [==============================] - 73s 28ms/step - loss: 0.6027 - accuracy: 0.8221\n",
            "WARNING:tensorflow:Early stopping conditioned on metric `val_loss` which is not available. Available metrics are: loss,accuracy\n",
            "WARNING:tensorflow:Can save best model only with val_acc available, skipping.\n",
            "Epoch 28/50\n",
            "2639/2639 [==============================] - 75s 29ms/step - loss: 0.6001 - accuracy: 0.8226\n",
            "WARNING:tensorflow:Early stopping conditioned on metric `val_loss` which is not available. Available metrics are: loss,accuracy\n",
            "WARNING:tensorflow:Can save best model only with val_acc available, skipping.\n",
            "Epoch 29/50\n",
            "2639/2639 [==============================] - 74s 28ms/step - loss: 0.6002 - accuracy: 0.8222\n",
            "WARNING:tensorflow:Early stopping conditioned on metric `val_loss` which is not available. Available metrics are: loss,accuracy\n",
            "WARNING:tensorflow:Can save best model only with val_acc available, skipping.\n",
            "Epoch 30/50\n",
            "2639/2639 [==============================] - 71s 27ms/step - loss: 0.5981 - accuracy: 0.8230\n",
            "WARNING:tensorflow:Early stopping conditioned on metric `val_loss` which is not available. Available metrics are: loss,accuracy\n",
            "WARNING:tensorflow:Can save best model only with val_acc available, skipping.\n",
            "Epoch 31/50\n",
            "2639/2639 [==============================] - 72s 27ms/step - loss: 0.5986 - accuracy: 0.8224\n",
            "WARNING:tensorflow:Early stopping conditioned on metric `val_loss` which is not available. Available metrics are: loss,accuracy\n",
            "WARNING:tensorflow:Can save best model only with val_acc available, skipping.\n",
            "Epoch 32/50\n",
            "2639/2639 [==============================] - 77s 29ms/step - loss: 0.5987 - accuracy: 0.8231\n",
            "WARNING:tensorflow:Early stopping conditioned on metric `val_loss` which is not available. Available metrics are: loss,accuracy\n",
            "WARNING:tensorflow:Can save best model only with val_acc available, skipping.\n",
            "Epoch 33/50\n",
            "2639/2639 [==============================] - 79s 30ms/step - loss: 0.5958 - accuracy: 0.8225\n",
            "WARNING:tensorflow:Early stopping conditioned on metric `val_loss` which is not available. Available metrics are: loss,accuracy\n",
            "WARNING:tensorflow:Can save best model only with val_acc available, skipping.\n",
            "Epoch 34/50\n",
            "2639/2639 [==============================] - 77s 29ms/step - loss: 0.5952 - accuracy: 0.8220\n",
            "WARNING:tensorflow:Early stopping conditioned on metric `val_loss` which is not available. Available metrics are: loss,accuracy\n",
            "WARNING:tensorflow:Can save best model only with val_acc available, skipping.\n",
            "Epoch 35/50\n",
            "2639/2639 [==============================] - 73s 28ms/step - loss: 0.5949 - accuracy: 0.8227\n",
            "WARNING:tensorflow:Early stopping conditioned on metric `val_loss` which is not available. Available metrics are: loss,accuracy\n",
            "WARNING:tensorflow:Can save best model only with val_acc available, skipping.\n",
            "Epoch 36/50\n",
            "2639/2639 [==============================] - 73s 28ms/step - loss: 0.5930 - accuracy: 0.8230\n",
            "WARNING:tensorflow:Early stopping conditioned on metric `val_loss` which is not available. Available metrics are: loss,accuracy\n",
            "WARNING:tensorflow:Can save best model only with val_acc available, skipping.\n",
            "Epoch 37/50\n",
            "2639/2639 [==============================] - 75s 28ms/step - loss: 0.5933 - accuracy: 0.8229\n",
            "WARNING:tensorflow:Early stopping conditioned on metric `val_loss` which is not available. Available metrics are: loss,accuracy\n",
            "WARNING:tensorflow:Can save best model only with val_acc available, skipping.\n",
            "Epoch 38/50\n",
            "2639/2639 [==============================] - 72s 27ms/step - loss: 0.5922 - accuracy: 0.8222\n",
            "WARNING:tensorflow:Early stopping conditioned on metric `val_loss` which is not available. Available metrics are: loss,accuracy\n",
            "WARNING:tensorflow:Can save best model only with val_acc available, skipping.\n",
            "Epoch 39/50\n",
            "2639/2639 [==============================] - 72s 27ms/step - loss: 0.5910 - accuracy: 0.8233\n",
            "WARNING:tensorflow:Early stopping conditioned on metric `val_loss` which is not available. Available metrics are: loss,accuracy\n",
            "WARNING:tensorflow:Can save best model only with val_acc available, skipping.\n",
            "Epoch 40/50\n",
            "2639/2639 [==============================] - 73s 28ms/step - loss: 0.5900 - accuracy: 0.8234\n",
            "WARNING:tensorflow:Early stopping conditioned on metric `val_loss` which is not available. Available metrics are: loss,accuracy\n",
            "WARNING:tensorflow:Can save best model only with val_acc available, skipping.\n",
            "Epoch 41/50\n",
            "2639/2639 [==============================] - 73s 28ms/step - loss: 0.5901 - accuracy: 0.8226\n",
            "WARNING:tensorflow:Early stopping conditioned on metric `val_loss` which is not available. Available metrics are: loss,accuracy\n",
            "WARNING:tensorflow:Can save best model only with val_acc available, skipping.\n",
            "Epoch 42/50\n",
            "2639/2639 [==============================] - 73s 28ms/step - loss: 0.5885 - accuracy: 0.8228\n",
            "WARNING:tensorflow:Early stopping conditioned on metric `val_loss` which is not available. Available metrics are: loss,accuracy\n",
            "WARNING:tensorflow:Can save best model only with val_acc available, skipping.\n",
            "Epoch 43/50\n",
            "2639/2639 [==============================] - 72s 27ms/step - loss: 0.5909 - accuracy: 0.8218\n",
            "WARNING:tensorflow:Early stopping conditioned on metric `val_loss` which is not available. Available metrics are: loss,accuracy\n",
            "WARNING:tensorflow:Can save best model only with val_acc available, skipping.\n",
            "Epoch 44/50\n",
            "2639/2639 [==============================] - 73s 28ms/step - loss: 0.5864 - accuracy: 0.8232\n",
            "WARNING:tensorflow:Early stopping conditioned on metric `val_loss` which is not available. Available metrics are: loss,accuracy\n",
            "WARNING:tensorflow:Can save best model only with val_acc available, skipping.\n",
            "Epoch 45/50\n",
            "2639/2639 [==============================] - 73s 28ms/step - loss: 0.5879 - accuracy: 0.8226\n",
            "WARNING:tensorflow:Early stopping conditioned on metric `val_loss` which is not available. Available metrics are: loss,accuracy\n",
            "WARNING:tensorflow:Can save best model only with val_acc available, skipping.\n",
            "Epoch 46/50\n",
            "2639/2639 [==============================] - 73s 28ms/step - loss: 0.5869 - accuracy: 0.8233\n",
            "WARNING:tensorflow:Early stopping conditioned on metric `val_loss` which is not available. Available metrics are: loss,accuracy\n",
            "WARNING:tensorflow:Can save best model only with val_acc available, skipping.\n",
            "Epoch 47/50\n",
            "2639/2639 [==============================] - 73s 28ms/step - loss: 0.5873 - accuracy: 0.8227\n",
            "WARNING:tensorflow:Early stopping conditioned on metric `val_loss` which is not available. Available metrics are: loss,accuracy\n",
            "WARNING:tensorflow:Can save best model only with val_acc available, skipping.\n",
            "Epoch 48/50\n",
            "2639/2639 [==============================] - 74s 28ms/step - loss: 0.5860 - accuracy: 0.8228\n",
            "WARNING:tensorflow:Early stopping conditioned on metric `val_loss` which is not available. Available metrics are: loss,accuracy\n",
            "WARNING:tensorflow:Can save best model only with val_acc available, skipping.\n",
            "Epoch 49/50\n",
            "2639/2639 [==============================] - 73s 28ms/step - loss: 0.5864 - accuracy: 0.8223\n",
            "WARNING:tensorflow:Early stopping conditioned on metric `val_loss` which is not available. Available metrics are: loss,accuracy\n",
            "WARNING:tensorflow:Can save best model only with val_acc available, skipping.\n",
            "Epoch 50/50\n",
            "2639/2639 [==============================] - 75s 28ms/step - loss: 0.5853 - accuracy: 0.8222\n",
            "WARNING:tensorflow:Early stopping conditioned on metric `val_loss` which is not available. Available metrics are: loss,accuracy\n",
            "WARNING:tensorflow:Can save best model only with val_acc available, skipping.\n"
          ],
          "name": "stdout"
        }
      ]
    },
    {
      "cell_type": "code",
      "metadata": {
        "colab": {
          "base_uri": "https://localhost:8080/"
        },
        "id": "wY61VzfcjNRf",
        "outputId": "4bbee3c0-8942-4001-fcbf-68cd12f79c7d"
      },
      "source": [
        "model = tf.keras.models.load_model('model_3rd_100.h5')\n",
        "model.evaluate(X,y)"
      ],
      "execution_count": null,
      "outputs": [
        {
          "output_type": "stream",
          "text": [
            "WARNING:tensorflow:Model was constructed with shape (None, 15) for input KerasTensor(type_spec=TensorSpec(shape=(None, 15), dtype=tf.float32, name='embedding_input'), name='embedding_input', description=\"created by layer 'embedding_input'\"), but it was called on an input with incompatible shape (None, 124).\n",
            "2474/2474 [==============================] - 23s 9ms/step - loss: 0.4961 - accuracy: 0.8456\n"
          ],
          "name": "stdout"
        },
        {
          "output_type": "execute_result",
          "data": {
            "text/plain": [
              "[0.49608492851257324, 0.8455979824066162]"
            ]
          },
          "metadata": {
            "tags": []
          },
          "execution_count": 65
        }
      ]
    },
    {
      "cell_type": "code",
      "metadata": {
        "id": "8eoXVE-YzyjY",
        "colab": {
          "base_uri": "https://localhost:8080/"
        },
        "outputId": "eff33ffc-47ca-498d-a7fd-271098f88127"
      },
      "source": [
        "print(sentence_generation(model, tokenizer, '샐러드', 6))\n",
        "print(sentence_generation(model, tokenizer, '김치찌개', 6))\n",
        "print(sentence_generation(model, tokenizer, '떡볶이', 6))"
      ],
      "execution_count": null,
      "outputs": [
        {
          "output_type": "stream",
          "text": [
            "/usr/local/lib/python3.7/dist-packages/tensorflow/python/keras/engine/sequential.py:455: UserWarning: `model.predict_classes()` is deprecated and will be removed after 2021-01-01. Please use instead:* `np.argmax(model.predict(x), axis=-1)`,   if your model does multi-class classification   (e.g. if it uses a `softmax` last-layer activation).* `(model.predict(x) > 0.5).astype(\"int32\")`,   if your model does binary classification   (e.g. if it uses a `sigmoid` last-layer activation).\n",
            "  warnings.warn('`model.predict_classes()` is deprecated and '\n"
          ],
          "name": "stderr"
        },
        {
          "output_type": "stream",
          "text": [
            "WARNING:tensorflow:Model was constructed with shape (None, 15) for input KerasTensor(type_spec=TensorSpec(shape=(None, 15), dtype=tf.float32, name='embedding_input'), name='embedding_input', description=\"created by layer 'embedding_input'\"), but it was called on an input with incompatible shape (None, 23).\n",
            "샐러드  토핑 활용 하다 제격 비건 양념\n",
            "김치찌개  위 수제 껌 유기농 오미자 머\n",
            "떡볶이  감칠맛 듬뿍 배다 갈비찜 액 티비\n"
          ],
          "name": "stdout"
        }
      ]
    },
    {
      "cell_type": "markdown",
      "metadata": {
        "id": "CeZ4q1otCFB9"
      },
      "source": [
        "# 기본 모델 (불용어 등 제거 X)"
      ]
    },
    {
      "cell_type": "code",
      "metadata": {
        "id": "TmpacrPjCJi-"
      },
      "source": [
        "tokens = []\n",
        "\n",
        "for i in range(len(titles)):\n",
        "  tokens.append(okt.morphs(titles[i]))"
      ],
      "execution_count": null,
      "outputs": []
    },
    {
      "cell_type": "code",
      "metadata": {
        "colab": {
          "base_uri": "https://localhost:8080/"
        },
        "id": "jHwImrbZCOJ8",
        "outputId": "db2a2d96-a18a-4fa3-a77b-529499c1ec30"
      },
      "source": [
        "text = tokens\n",
        "t = Tokenizer()\n",
        "t.fit_on_texts(text)\n",
        "vocab_size = len(text)+1\n",
        "vocab_size"
      ],
      "execution_count": null,
      "outputs": [
        {
          "output_type": "execute_result",
          "data": {
            "text/plain": [
              "12457"
            ]
          },
          "metadata": {
            "tags": []
          },
          "execution_count": 71
        }
      ]
    },
    {
      "cell_type": "code",
      "metadata": {
        "colab": {
          "base_uri": "https://localhost:8080/"
        },
        "id": "-nLQ5PtUCZwA",
        "outputId": "5d3a2165-c864-4e53-c8bf-47da8d2c7def"
      },
      "source": [
        "tokens[0]"
      ],
      "execution_count": null,
      "outputs": [
        {
          "output_type": "execute_result",
          "data": {
            "text/plain": [
              "['합리', '적', '가격', '으로', '만나는', '국내', '산', '애호박', '애호박']"
            ]
          },
          "metadata": {
            "tags": []
          },
          "execution_count": 72
        }
      ]
    },
    {
      "cell_type": "code",
      "metadata": {
        "id": "VUkzaftbCjMs"
      },
      "source": [
        "sequences = []\n",
        "\n",
        "for line in text: \n",
        "    encoded = t.texts_to_sequences([line])[0] \n",
        "    for i in range(1, len(encoded)):\n",
        "        sequence = encoded[:i+1]\n",
        "        sequences.append(sequence)"
      ],
      "execution_count": null,
      "outputs": []
    },
    {
      "cell_type": "code",
      "metadata": {
        "colab": {
          "base_uri": "https://localhost:8080/"
        },
        "id": "DkYYjOPvCuvN",
        "outputId": "45692126-8463-44e4-ec77-daa5c1cc6ecd"
      },
      "source": [
        "max_len=max(len(l) for l in sequences)\n",
        "print('샘플의 최대 길이 : {}'.format(max_len))"
      ],
      "execution_count": null,
      "outputs": [
        {
          "output_type": "stream",
          "text": [
            "샘플의 최대 길이 : 25\n"
          ],
          "name": "stdout"
        }
      ]
    },
    {
      "cell_type": "code",
      "metadata": {
        "id": "cw-59oLJCwlL"
      },
      "source": [
        "sequences = pad_sequences(sequences, maxlen=max_len, padding='pre')\n",
        "sequences = np.array(sequences)\n",
        "X = sequences[:,:-1]\n",
        "y = sequences[:,-1]\n",
        "y = to_categorical(y, num_classes=vocab_size)"
      ],
      "execution_count": null,
      "outputs": []
    },
    {
      "cell_type": "markdown",
      "metadata": {
        "id": "KngUe3UMHeD9"
      },
      "source": [
        "## epochs=3, acc=0.2"
      ]
    },
    {
      "cell_type": "code",
      "metadata": {
        "colab": {
          "base_uri": "https://localhost:8080/"
        },
        "id": "UUW_tlXiC0YS",
        "outputId": "a29e5f8c-6451-49f2-e498-31870b06c88d"
      },
      "source": [
        "model_base = Sequential()\n",
        "model_base.add(Embedding(vocab_size, 128, input_length=max_len-1))\n",
        "# y데이터를 분리하였으므로 이제 X데이터의 길이는 기존 데이터의 길이 - 1\n",
        "model_base.add(LSTM(128))\n",
        "model_base.add(Dense(vocab_size, activation='softmax'))\n",
        "model_base.compile(loss='categorical_crossentropy', optimizer='adam', metrics=['accuracy'])\n",
        "history=model_base.fit(X, y, batch_size=32, epochs=3)"
      ],
      "execution_count": null,
      "outputs": [
        {
          "output_type": "stream",
          "text": [
            "Epoch 1/3\n",
            "3655/3655 [==============================] - 106s 29ms/step - loss: 7.3215 - accuracy: 0.0507\n",
            "Epoch 2/3\n",
            "3655/3655 [==============================] - 104s 29ms/step - loss: 6.1010 - accuracy: 0.1317\n",
            "Epoch 3/3\n",
            "3655/3655 [==============================] - 103s 28ms/step - loss: 5.2852 - accuracy: 0.1928\n"
          ],
          "name": "stdout"
        }
      ]
    },
    {
      "cell_type": "code",
      "metadata": {
        "colab": {
          "base_uri": "https://localhost:8080/"
        },
        "id": "vkNviguwXeqJ",
        "outputId": "25f741d4-2f82-48da-971d-ee07523b550f"
      },
      "source": [
        "print(sentence_generation(model_base, t, '샐러드', 6))\n",
        "print(sentence_generation(model_base, t, '김치찌개', 6))\n",
        "print(sentence_generation(model_base, t, '떡볶이', 6))"
      ],
      "execution_count": null,
      "outputs": [
        {
          "output_type": "stream",
          "text": [
            "WARNING:tensorflow:Model was constructed with shape (None, 24) for input KerasTensor(type_spec=TensorSpec(shape=(None, 24), dtype=tf.float32, name='embedding_3_input'), name='embedding_3_input', description=\"created by layer 'embedding_3_input'\"), but it was called on an input with incompatible shape (None, 23).\n"
          ],
          "name": "stdout"
        },
        {
          "output_type": "stream",
          "text": [
            "/usr/local/lib/python3.7/dist-packages/tensorflow/python/keras/engine/sequential.py:455: UserWarning: `model.predict_classes()` is deprecated and will be removed after 2021-01-01. Please use instead:* `np.argmax(model.predict(x), axis=-1)`,   if your model does multi-class classification   (e.g. if it uses a `softmax` last-layer activation).* `(model.predict(x) > 0.5).astype(\"int32\")`,   if your model does binary classification   (e.g. if it uses a `sigmoid` last-layer activation).\n",
            "  warnings.warn('`model.predict_classes()` is deprecated and '\n"
          ],
          "name": "stderr"
        },
        {
          "output_type": "stream",
          "text": [
            "샐러드  와 함께 즐기는 유기농 귀리 유기농\n",
            "김치찌개  에서 온 아이 를 위 한\n",
            "떡볶이  의 풍 미를 담은 한 끼\n"
          ],
          "name": "stdout"
        }
      ]
    },
    {
      "cell_type": "markdown",
      "metadata": {
        "id": "nq4ltkqFHjOW"
      },
      "source": [
        "## epochs=10, acc=0.62"
      ]
    },
    {
      "cell_type": "code",
      "metadata": {
        "id": "Elgnbo0cEoGc"
      },
      "source": [
        "history=model_base.fit(X, y, batch_size=32, epochs=10)"
      ],
      "execution_count": null,
      "outputs": []
    },
    {
      "cell_type": "code",
      "metadata": {
        "id": "MfUgQ26EYOMT"
      },
      "source": [
        "model_base=keras.models.load_model('model_base_10.h5')"
      ],
      "execution_count": null,
      "outputs": []
    },
    {
      "cell_type": "code",
      "metadata": {
        "colab": {
          "base_uri": "https://localhost:8080/"
        },
        "id": "dROHCwWBHrW8",
        "outputId": "47c58a05-1cf5-4ff8-950d-1ef69ededaa5"
      },
      "source": [
        "print(sentence_generation(model_base, t, '샐러드', 6))\n",
        "print(sentence_generation(model_base, t, '김치찌개', 6))\n",
        "print(sentence_generation(model_base, t, '떡볶이', 6))"
      ],
      "execution_count": null,
      "outputs": [
        {
          "output_type": "stream",
          "text": [
            "WARNING:tensorflow:Model was constructed with shape (None, 24) for input KerasTensor(type_spec=TensorSpec(shape=(None, 24), dtype=tf.float32, name='embedding_input'), name='embedding_input', description=\"created by layer 'embedding_input'\"), but it was called on an input with incompatible shape (None, 23).\n"
          ],
          "name": "stdout"
        },
        {
          "output_type": "stream",
          "text": [
            "/usr/local/lib/python3.7/dist-packages/tensorflow/python/keras/engine/sequential.py:455: UserWarning: `model.predict_classes()` is deprecated and will be removed after 2021-01-01. Please use instead:* `np.argmax(model.predict(x), axis=-1)`,   if your model does multi-class classification   (e.g. if it uses a `softmax` last-layer activation).* `(model.predict(x) > 0.5).astype(\"int32\")`,   if your model does binary classification   (e.g. if it uses a `sigmoid` last-layer activation).\n",
            "  warnings.warn('`model.predict_classes()` is deprecated and '\n"
          ],
          "name": "stderr"
        },
        {
          "output_type": "stream",
          "text": [
            "샐러드  에 구워 먹던 추억 의 맛\n",
            "김치찌개  를 더해 더욱 시원한 알탕 사골\n",
            "떡볶이  의 향 긋 함 을 더한\n"
          ],
          "name": "stdout"
        }
      ]
    },
    {
      "cell_type": "markdown",
      "metadata": {
        "id": "Tdsj0K1HIAKQ"
      },
      "source": [
        "## epochs=20, acc=0.79"
      ]
    },
    {
      "cell_type": "code",
      "metadata": {
        "id": "JFVKjNZIH3Vh"
      },
      "source": [
        "history=model_base.fit(X, y, batch_size=32, epochs=10)"
      ],
      "execution_count": null,
      "outputs": []
    },
    {
      "cell_type": "code",
      "metadata": {
        "id": "2uz7JXM9WQy9"
      },
      "source": [
        "model_base=keras.models.load_model('model_base_20.h5')"
      ],
      "execution_count": null,
      "outputs": []
    },
    {
      "cell_type": "code",
      "metadata": {
        "colab": {
          "base_uri": "https://localhost:8080/"
        },
        "id": "0a8HVUrnW5ZF",
        "outputId": "f275cb9c-e481-4532-f0c4-2b83883e25c3"
      },
      "source": [
        "print(sentence_generation(model_base, t, '샐러드', 6))\n",
        "print(sentence_generation(model_base, t, '김치찌개', 6))\n",
        "print(sentence_generation(model_base, t, '떡볶이', 6))"
      ],
      "execution_count": null,
      "outputs": [
        {
          "output_type": "stream",
          "text": [
            "WARNING:tensorflow:Model was constructed with shape (None, 24) for input KerasTensor(type_spec=TensorSpec(shape=(None, 24), dtype=tf.float32, name='embedding_input'), name='embedding_input', description=\"created by layer 'embedding_input'\"), but it was called on an input with incompatible shape (None, 23).\n"
          ],
          "name": "stdout"
        },
        {
          "output_type": "stream",
          "text": [
            "/usr/local/lib/python3.7/dist-packages/tensorflow/python/keras/engine/sequential.py:455: UserWarning: `model.predict_classes()` is deprecated and will be removed after 2021-01-01. Please use instead:* `np.argmax(model.predict(x), axis=-1)`,   if your model does multi-class classification   (e.g. if it uses a `softmax` last-layer activation).* `(model.predict(x) > 0.5).astype(\"int32\")`,   if your model does binary classification   (e.g. if it uses a `sigmoid` last-layer activation).\n",
            "  warnings.warn('`model.predict_classes()` is deprecated and '\n"
          ],
          "name": "stderr"
        },
        {
          "output_type": "stream",
          "text": [
            "샐러드  나 피자 토핑 으로 톡톡 냉동\n",
            "김치찌개  를 더해 더 오래 쓰는 방법\n",
            "떡볶이  의 풍 미를 두루 담은 간편\n"
          ],
          "name": "stdout"
        }
      ]
    },
    {
      "cell_type": "markdown",
      "metadata": {
        "id": "WZajOTUmPDUz"
      },
      "source": [
        "## epochs=50, acc=0.2"
      ]
    },
    {
      "cell_type": "code",
      "metadata": {
        "id": "R2VP5MomO_gi"
      },
      "source": [
        "history=model_base.fit(X, y, batch_size=32, epochs=30)"
      ],
      "execution_count": null,
      "outputs": []
    },
    {
      "cell_type": "code",
      "metadata": {
        "id": "ncD58RWBWSEi"
      },
      "source": [
        "model_base=keras.models.load_model('model_base_50.h5')"
      ],
      "execution_count": null,
      "outputs": []
    },
    {
      "cell_type": "code",
      "metadata": {
        "colab": {
          "base_uri": "https://localhost:8080/"
        },
        "id": "hcMe--JrZIYd",
        "outputId": "10efa010-26aa-4543-cc2a-31dbced96714"
      },
      "source": [
        "print(sentence_generation(model_base, t, '샐러드', 6))\n",
        "print(sentence_generation(model_base, t, '김치찌개', 6))\n",
        "print(sentence_generation(model_base, t, '떡볶이', 6))"
      ],
      "execution_count": null,
      "outputs": [
        {
          "output_type": "stream",
          "text": [
            "/usr/local/lib/python3.7/dist-packages/tensorflow/python/keras/engine/sequential.py:455: UserWarning: `model.predict_classes()` is deprecated and will be removed after 2021-01-01. Please use instead:* `np.argmax(model.predict(x), axis=-1)`,   if your model does multi-class classification   (e.g. if it uses a `softmax` last-layer activation).* `(model.predict(x) > 0.5).astype(\"int32\")`,   if your model does binary classification   (e.g. if it uses a `sigmoid` last-layer activation).\n",
            "  warnings.warn('`model.predict_classes()` is deprecated and '\n"
          ],
          "name": "stderr"
        },
        {
          "output_type": "stream",
          "text": [
            "샐러드  대신 가볍게 즐기는 한 끼 맛살\n",
            "김치찌개  를 더해 오래 쓰는 방법 시\n",
            "떡볶이  의 깊은 풍 미가 벨 지안\n"
          ],
          "name": "stdout"
        }
      ]
    },
    {
      "cell_type": "markdown",
      "metadata": {
        "id": "6najNC2HrToM"
      },
      "source": [
        "## epochs=100, acc=0.2"
      ]
    },
    {
      "cell_type": "code",
      "metadata": {
        "id": "QVVZB3y5byGg"
      },
      "source": [
        "history=model_base.fit(X, y, batch_size=32, epochs=50)"
      ],
      "execution_count": null,
      "outputs": []
    },
    {
      "cell_type": "code",
      "metadata": {
        "id": "1skrPUmCYfbs"
      },
      "source": [
        "model_base=keras.models.load_model('model_base_100.h5')"
      ],
      "execution_count": null,
      "outputs": []
    },
    {
      "cell_type": "code",
      "metadata": {
        "colab": {
          "base_uri": "https://localhost:8080/"
        },
        "id": "gekxMQoJnAHb",
        "outputId": "cff4caa9-d984-45cc-e641-727804ee3131"
      },
      "source": [
        "print(sentence_generation(model_base, t, '샐러드', 6))\n",
        "print(sentence_generation(model_base, t, '김치찌개', 6))\n",
        "print(sentence_generation(model_base, t, '떡볶이', 6))"
      ],
      "execution_count": null,
      "outputs": [
        {
          "output_type": "stream",
          "text": [
            "WARNING:tensorflow:Model was constructed with shape (None, 24) for input KerasTensor(type_spec=TensorSpec(shape=(None, 24), dtype=tf.float32, name='embedding_input'), name='embedding_input', description=\"created by layer 'embedding_input'\"), but it was called on an input with incompatible shape (None, 23).\n"
          ],
          "name": "stdout"
        },
        {
          "output_type": "stream",
          "text": [
            "/usr/local/lib/python3.7/dist-packages/tensorflow/python/keras/engine/sequential.py:455: UserWarning: `model.predict_classes()` is deprecated and will be removed after 2021-01-01. Please use instead:* `np.argmax(model.predict(x), axis=-1)`,   if your model does multi-class classification   (e.g. if it uses a `softmax` last-layer activation).* `(model.predict(x) > 0.5).astype(\"int32\")`,   if your model does binary classification   (e.g. if it uses a `sigmoid` last-layer activation).\n",
            "  warnings.warn('`model.predict_classes()` is deprecated and '\n"
          ],
          "name": "stderr"
        },
        {
          "output_type": "stream",
          "text": [
            "샐러드  나 피자 토핑 으로 톡톡 냉동\n",
            "김치찌개  를 사용 하는 무 항생제 1등\n",
            "떡볶이  의 깊고 담백한 맛 의 조화\n"
          ],
          "name": "stdout"
        }
      ]
    },
    {
      "cell_type": "markdown",
      "metadata": {
        "id": "qmgnTsptrvAc"
      },
      "source": [
        "# +$a$) 어울리는 형용사 찾기"
      ]
    },
    {
      "cell_type": "code",
      "metadata": {
        "id": "9ptKTyZ_r1Q0"
      },
      "source": [
        "df = df.drop(218).reset_index(drop=True)"
      ],
      "execution_count": null,
      "outputs": []
    },
    {
      "cell_type": "code",
      "metadata": {
        "id": "g2eoLaGAxBMF"
      },
      "source": [
        "title_ls = []\n",
        "for i in df['stem_title'] :\n",
        "  try:\n",
        "    title_ls.append(i[-1])\n",
        "  except:\n",
        "    title_ls.append('')"
      ],
      "execution_count": null,
      "outputs": []
    },
    {
      "cell_type": "code",
      "metadata": {
        "id": "6UxChlySyADo"
      },
      "source": [
        "df['title_ls'] = title_ls"
      ],
      "execution_count": null,
      "outputs": []
    },
    {
      "cell_type": "code",
      "metadata": {
        "id": "m788Lb7Ex_5-"
      },
      "source": [
        "df_adj = df[['title_ls','adj_contents']]\n",
        "df_adj = df_adj.groupby('title_ls').sum().reset_index()"
      ],
      "execution_count": null,
      "outputs": []
    },
    {
      "cell_type": "code",
      "metadata": {
        "colab": {
          "base_uri": "https://localhost:8080/"
        },
        "id": "thnBYHAG1KDa",
        "outputId": "7c83f223-e0f9-46f9-d91b-2edba7b37d56"
      },
      "source": [
        "# 생략 없이 출력\n",
        "pd.set_option('display.max_rows', None)\n",
        "pd.set_option('display.max_columns', None)\n",
        "pd.set_option('display.width', None)\n",
        "pd.set_option('display.max_colwidth', -1)"
      ],
      "execution_count": null,
      "outputs": [
        {
          "output_type": "stream",
          "text": [
            "/usr/local/lib/python3.7/dist-packages/ipykernel_launcher.py:6: FutureWarning: Passing a negative integer is deprecated in version 1.0 and will not be supported in future version. Instead, use None to not limit the column width.\n",
            "  \n"
          ],
          "name": "stderr"
        }
      ]
    },
    {
      "cell_type": "code",
      "metadata": {
        "colab": {
          "base_uri": "https://localhost:8080/",
          "height": 114
        },
        "id": "5Pd50Ou30j_g",
        "outputId": "706c6fd3-7b7e-41a1-9bb4-e64ee4f5681d"
      },
      "source": [
        "df_adj.loc[df_adj['title_ls'].str.contains('김치찌개')]"
      ],
      "execution_count": null,
      "outputs": [
        {
          "output_type": "execute_result",
          "data": {
            "text/html": [
              "<div>\n",
              "<style scoped>\n",
              "    .dataframe tbody tr th:only-of-type {\n",
              "        vertical-align: middle;\n",
              "    }\n",
              "\n",
              "    .dataframe tbody tr th {\n",
              "        vertical-align: top;\n",
              "    }\n",
              "\n",
              "    .dataframe thead th {\n",
              "        text-align: right;\n",
              "    }\n",
              "</style>\n",
              "<table border=\"1\" class=\"dataframe\">\n",
              "  <thead>\n",
              "    <tr style=\"text-align: right;\">\n",
              "      <th></th>\n",
              "      <th>title_ls</th>\n",
              "      <th>adj_contents</th>\n",
              "    </tr>\n",
              "  </thead>\n",
              "  <tbody>\n",
              "    <tr>\n",
              "      <th>257</th>\n",
              "      <td>김치찌개</td>\n",
              "      <td>[간편하다, 있다, 진하다, 깊다, 성하다, 더하다, 칼칼하다, 좋다, 있다, 따끈하다, 든든하다, 개운하다, 좋다, 정갈하다, 만족스럽다, 간편하다, 없다, 있다, 달콤하다, 부드럽다, 있다, 완벽하다, 짭짤하다, 고소하다, 같다, 특별하다, 진하다, 깊다, 있다, 큼직하다, 고소하다, 더하다, 따끈따끈하다, 든든하다, 있다, 맛있다, 쿰쿰하다, 있다, 개운하다, 깔끔하다, 뽀얗다, 넉넉하다, 더하다, 별다르다, 없다, 튼실하다, 색다르다, 얼큰하다, 진하다, 촉촉하다, 부드럽다, 좋다, 성하다, 시원하다, 있다, 있다, 있다, 어렵다, 이다, 깊다, 시큼하다]</td>\n",
              "    </tr>\n",
              "  </tbody>\n",
              "</table>\n",
              "</div>"
            ],
            "text/plain": [
              "    title_ls  \\\n",
              "257  김치찌개      \n",
              "\n",
              "                                                                                                                                                                                                                                                                                                                       adj_contents  \n",
              "257  [간편하다, 있다, 진하다, 깊다, 성하다, 더하다, 칼칼하다, 좋다, 있다, 따끈하다, 든든하다, 개운하다, 좋다, 정갈하다, 만족스럽다, 간편하다, 없다, 있다, 달콤하다, 부드럽다, 있다, 완벽하다, 짭짤하다, 고소하다, 같다, 특별하다, 진하다, 깊다, 있다, 큼직하다, 고소하다, 더하다, 따끈따끈하다, 든든하다, 있다, 맛있다, 쿰쿰하다, 있다, 개운하다, 깔끔하다, 뽀얗다, 넉넉하다, 더하다, 별다르다, 없다, 튼실하다, 색다르다, 얼큰하다, 진하다, 촉촉하다, 부드럽다, 좋다, 성하다, 시원하다, 있다, 있다, 있다, 어렵다, 이다, 깊다, 시큼하다]  "
            ]
          },
          "metadata": {
            "tags": []
          },
          "execution_count": 213
        }
      ]
    },
    {
      "cell_type": "code",
      "metadata": {
        "colab": {
          "base_uri": "https://localhost:8080/",
          "height": 148
        },
        "id": "tJEbuTGR2hN3",
        "outputId": "b067bfb2-c413-4112-b48d-e383f4f28edc"
      },
      "source": [
        "df_adj.loc[df_adj['title_ls'].str.contains('샐러드')]"
      ],
      "execution_count": null,
      "outputs": [
        {
          "output_type": "execute_result",
          "data": {
            "text/html": [
              "<div>\n",
              "<style scoped>\n",
              "    .dataframe tbody tr th:only-of-type {\n",
              "        vertical-align: middle;\n",
              "    }\n",
              "\n",
              "    .dataframe tbody tr th {\n",
              "        vertical-align: top;\n",
              "    }\n",
              "\n",
              "    .dataframe thead th {\n",
              "        text-align: right;\n",
              "    }\n",
              "</style>\n",
              "<table border=\"1\" class=\"dataframe\">\n",
              "  <thead>\n",
              "    <tr style=\"text-align: right;\">\n",
              "      <th></th>\n",
              "      <th>title_ls</th>\n",
              "      <th>adj_contents</th>\n",
              "    </tr>\n",
              "  </thead>\n",
              "  <tbody>\n",
              "    <tr>\n",
              "      <th>1396</th>\n",
              "      <td>샐러드</td>\n",
              "      <td>[짙다, 풍부하다, 간편하다, 있다, 좋아하다, 많다, 그득하다, 있다, 없다, 이다, 고소하다, 넉넉하다, 싱그럽다, 부드럽다, 조화롭다, 성하다, 고소하다, 밉다, 더하다, 건강하다, 번거롭다, 어렵다, 다양하다, 간편하다, 따스하다, 건조하다, 작다, 좋다, 딱딱하다, 편안하다, 신선하다, 좋다, 경쾌하다, 싱그럽다, 별다르다, 가볍다, 간편하다, 좋다, 좋다, 좋다, 유명하다, 특별하다, 어떻다, 딱이다, 달콤하다, 조화롭다, 다양하다, 새롭다, 간편하다, 있다, 성하다, 있다, 충분하다, 있다, 느끼하다, 충분하다, 간편하다, 있다, 부드럽다, 더하다, 더하다, 고소하다, 있다, 신선하다, 담백하다, 꾸준하다, 남다르다, 밉다, 있다, 색다르다, 있다, 좋다, 밉다, 촉촉하다, 부드럽다, 더하다, 색다르다, 꾸준하다, 남다르다, 밉다, 있다, 고소하다, 가득하다, 더하다, 만족스럽다, 꾸준하다, 남다르다, 밉다, 있다, 통통하다, 싱그럽다, 성하다, 더하다, 탱탱하다, 덥다, 간편하다, 든든하다, 있다, 선명하다, 담백하다, ...]</td>\n",
              "    </tr>\n",
              "  </tbody>\n",
              "</table>\n",
              "</div>"
            ],
            "text/plain": [
              "     title_ls  \\\n",
              "1396  샐러드       \n",
              "\n",
              "                                                                                                                                                                                                                                                                                                                                                                                                                                                                                                                                                adj_contents  \n",
              "1396  [짙다, 풍부하다, 간편하다, 있다, 좋아하다, 많다, 그득하다, 있다, 없다, 이다, 고소하다, 넉넉하다, 싱그럽다, 부드럽다, 조화롭다, 성하다, 고소하다, 밉다, 더하다, 건강하다, 번거롭다, 어렵다, 다양하다, 간편하다, 따스하다, 건조하다, 작다, 좋다, 딱딱하다, 편안하다, 신선하다, 좋다, 경쾌하다, 싱그럽다, 별다르다, 가볍다, 간편하다, 좋다, 좋다, 좋다, 유명하다, 특별하다, 어떻다, 딱이다, 달콤하다, 조화롭다, 다양하다, 새롭다, 간편하다, 있다, 성하다, 있다, 충분하다, 있다, 느끼하다, 충분하다, 간편하다, 있다, 부드럽다, 더하다, 더하다, 고소하다, 있다, 신선하다, 담백하다, 꾸준하다, 남다르다, 밉다, 있다, 색다르다, 있다, 좋다, 밉다, 촉촉하다, 부드럽다, 더하다, 색다르다, 꾸준하다, 남다르다, 밉다, 있다, 고소하다, 가득하다, 더하다, 만족스럽다, 꾸준하다, 남다르다, 밉다, 있다, 통통하다, 싱그럽다, 성하다, 더하다, 탱탱하다, 덥다, 간편하다, 든든하다, 있다, 선명하다, 담백하다, ...]  "
            ]
          },
          "metadata": {
            "tags": []
          },
          "execution_count": 214
        }
      ]
    },
    {
      "cell_type": "code",
      "metadata": {
        "colab": {
          "base_uri": "https://localhost:8080/",
          "height": 131
        },
        "id": "2AN0AvYK2jR7",
        "outputId": "03d419b5-3e26-4d64-d199-5ce99dd02bad"
      },
      "source": [
        "df_adj.loc[df_adj['title_ls'].str.contains('떡볶이')]"
      ],
      "execution_count": null,
      "outputs": [
        {
          "output_type": "execute_result",
          "data": {
            "text/html": [
              "<div>\n",
              "<style scoped>\n",
              "    .dataframe tbody tr th:only-of-type {\n",
              "        vertical-align: middle;\n",
              "    }\n",
              "\n",
              "    .dataframe tbody tr th {\n",
              "        vertical-align: top;\n",
              "    }\n",
              "\n",
              "    .dataframe thead th {\n",
              "        text-align: right;\n",
              "    }\n",
              "</style>\n",
              "<table border=\"1\" class=\"dataframe\">\n",
              "  <thead>\n",
              "    <tr style=\"text-align: right;\">\n",
              "      <th></th>\n",
              "      <th>title_ls</th>\n",
              "      <th>adj_contents</th>\n",
              "    </tr>\n",
              "  </thead>\n",
              "  <tbody>\n",
              "    <tr>\n",
              "      <th>599</th>\n",
              "      <td>떡볶이</td>\n",
              "      <td>[충실하다, 많다, 있다, 많다, 유명하다, 있다, 깔끔하다, 좋아하다, 든든하다, 이다, 있다, 깊다, 근사하다, 있다, 더하다, 성하다, 깔끔하다, 딱이다, 다양하다, 좋다, 고소하다, 풍부하다, 있다, 같다, 있다, 있다, 동일하다, 얇다, 칼칼하다, 맵다, 맵다, 있다, 더하다, 있다, 같다, 간편하다, 있다, 덥다, 달콤하다, 말랑하다, 편리하다, 있다, 간편하다, 독특하다, 구수하다, 좋아하다, 달콤하다, 더하다, 새롭다, 넉넉하다, 좋다, 밉다, 어렵다, 간단하다, 있다, 적절하다, 간편하다, 가득하다, 즐겁다, 달콤하다, 더하다, 아기자기하다, 특별하다, 간편하다, 새롭다, 유명하다, 맛있다, 없다, 없다, 없다, 달콤하다, 맛있다, 맵다, 없다, 이다, 있다, 깔끔하다, 알차다, 넉넉하다, 다양하다, 있다, 달콤하다, 이다, 더하다, 맛있다, 좋다, 별다르다, 없다, 간편하다, 새롭다, 편하다, 있다, 있다, 있다, 손쉽다, 있다, 이다, 아니다, 조용하다, 있다, ...]</td>\n",
              "    </tr>\n",
              "  </tbody>\n",
              "</table>\n",
              "</div>"
            ],
            "text/plain": [
              "    title_ls  \\\n",
              "599  떡볶이       \n",
              "\n",
              "                                                                                                                                                                                                                                                                                                                                                                                                                                                                                                                 adj_contents  \n",
              "599  [충실하다, 많다, 있다, 많다, 유명하다, 있다, 깔끔하다, 좋아하다, 든든하다, 이다, 있다, 깊다, 근사하다, 있다, 더하다, 성하다, 깔끔하다, 딱이다, 다양하다, 좋다, 고소하다, 풍부하다, 있다, 같다, 있다, 있다, 동일하다, 얇다, 칼칼하다, 맵다, 맵다, 있다, 더하다, 있다, 같다, 간편하다, 있다, 덥다, 달콤하다, 말랑하다, 편리하다, 있다, 간편하다, 독특하다, 구수하다, 좋아하다, 달콤하다, 더하다, 새롭다, 넉넉하다, 좋다, 밉다, 어렵다, 간단하다, 있다, 적절하다, 간편하다, 가득하다, 즐겁다, 달콤하다, 더하다, 아기자기하다, 특별하다, 간편하다, 새롭다, 유명하다, 맛있다, 없다, 없다, 없다, 달콤하다, 맛있다, 맵다, 없다, 이다, 있다, 깔끔하다, 알차다, 넉넉하다, 다양하다, 있다, 달콤하다, 이다, 더하다, 맛있다, 좋다, 별다르다, 없다, 간편하다, 새롭다, 편하다, 있다, 있다, 있다, 손쉽다, 있다, 이다, 아니다, 조용하다, 있다, ...]  "
            ]
          },
          "metadata": {
            "tags": []
          },
          "execution_count": 215
        }
      ]
    },
    {
      "cell_type": "markdown",
      "metadata": {
        "id": "7vxNzo4SgZbN"
      },
      "source": [
        "# +$a$) 컨텐츠 카피로 베스트셀러 상품 예측"
      ]
    },
    {
      "cell_type": "code",
      "metadata": {
        "colab": {
          "base_uri": "https://localhost:8080/",
          "height": 383
        },
        "id": "fO87ktfbgt7O",
        "outputId": "778d1c5c-0c12-4d53-f49e-dfec82b494e1"
      },
      "source": [
        "#비율확인\n",
        "import seaborn as sns\n",
        "\n",
        "sns.countplot(df['label'])\n",
        "plt.xlabel('label')\n",
        "print(df['label'].value_counts(normalize=True))"
      ],
      "execution_count": null,
      "outputs": [
        {
          "output_type": "stream",
          "text": [
            "/usr/local/lib/python3.7/dist-packages/seaborn/_decorators.py:43: FutureWarning: Pass the following variable as a keyword arg: x. From version 0.12, the only valid positional argument will be `data`, and passing other arguments without an explicit keyword will result in an error or misinterpretation.\n",
            "  FutureWarning\n"
          ],
          "name": "stderr"
        },
        {
          "output_type": "stream",
          "text": [
            "0.0    0.961542\n",
            "1.0    0.038458\n",
            "Name: label, dtype: float64\n"
          ],
          "name": "stdout"
        },
        {
          "output_type": "display_data",
          "data": {
            "image/png": "[encoded data removed]",
            "text/plain": [
              "<Figure size 432x288 with 1 Axes>"
            ]
          },
          "metadata": {
            "tags": [],
            "image/png": {
              "width": 400,
              "height": 261
            },
            "needs_background": "light"
          }
        }
      ]
    },
    {
      "cell_type": "code",
      "metadata": {
        "colab": {
          "base_uri": "https://localhost:8080/"
        },
        "id": "aC9yiyeLgyFl",
        "outputId": "fc0cf6d3-1036-4d17-c4d5-7e9b337dfb10"
      },
      "source": [
        "# 타겟값 지정\n",
        "X = df['stem_contents']\n",
        "Y = df['label']\n",
        "\n",
        "# 데이터셋 분리\n",
        "from sklearn.model_selection import train_test_split\n",
        "X_train, X_test, y_train, y_test = train_test_split(X, Y, test_size=0.2, random_state=42, shuffle=True, stratify=Y)\n",
        "X_train.shape, y_train.shape, X_test.shape, y_test.shape"
      ],
      "execution_count": null,
      "outputs": [
        {
          "output_type": "execute_result",
          "data": {
            "text/plain": [
              "((9964,), (9964,), (2491,), (2491,))"
            ]
          },
          "metadata": {
            "tags": []
          },
          "execution_count": 218
        }
      ]
    },
    {
      "cell_type": "code",
      "metadata": {
        "id": "SyILMxv_g0T-"
      },
      "source": [
        "tokenizer = Tokenizer()\n",
        "tokenizer.fit_on_texts(X_train)"
      ],
      "execution_count": null,
      "outputs": []
    },
    {
      "cell_type": "code",
      "metadata": {
        "colab": {
          "base_uri": "https://localhost:8080/"
        },
        "id": "fOs4jR52hVph",
        "outputId": "0ebe2ed0-f007-433d-d22e-c3ee550466db"
      },
      "source": [
        "threshold = 3\n",
        "total_cnt = len(tokenizer.word_index) # 단어의 수\n",
        "rare_cnt = 0 # 등장 빈도수가 threshold보다 작은 단어의 개수를 카운트\n",
        "total_freq = 0 # 훈련 데이터의 전체 단어 빈도수 총 합\n",
        "rare_freq = 0 # 등장 빈도수가 threshold보다 작은 단어의 등장 빈도수의 총 합\n",
        "\n",
        "# 단어와 빈도수의 쌍(pair)을 key와 value로 받는다.\n",
        "for key, value in tokenizer.word_counts.items():\n",
        "    total_freq = total_freq + value\n",
        "\n",
        "    # 단어의 등장 빈도수가 threshold보다 작으면\n",
        "    if(value < threshold):\n",
        "        rare_cnt = rare_cnt + 1\n",
        "        rare_freq = rare_freq + value\n",
        "\n",
        "print('단어 집합(vocabulary)의 크기 :',total_cnt)\n",
        "print('등장 빈도가 %s번 이하인 희귀 단어의 수: %s'%(threshold - 1, rare_cnt))\n",
        "print(\"단어 집합에서 희귀 단어의 비율:\", (rare_cnt / total_cnt)*100)\n",
        "print(\"전체 등장 빈도에서 희귀 단어 등장 빈도 비율:\", (rare_freq / total_freq)*100)"
      ],
      "execution_count": null,
      "outputs": [
        {
          "output_type": "stream",
          "text": [
            "단어 집합(vocabulary)의 크기 : 16963\n",
            "등장 빈도가 2번 이하인 희귀 단어의 수: 7310\n",
            "단어 집합에서 희귀 단어의 비율: 43.093792371632375\n",
            "전체 등장 빈도에서 희귀 단어 등장 빈도 비율: 1.7504032719474067\n"
          ],
          "name": "stdout"
        }
      ]
    },
    {
      "cell_type": "code",
      "metadata": {
        "colab": {
          "base_uri": "https://localhost:8080/"
        },
        "id": "_EUzkgjnhWCL",
        "outputId": "9d98d8db-2228-4384-88c2-70278274ce81"
      },
      "source": [
        "# 전체 단어 개수 중 빈도수 3이하인 단어는 제거.\n",
        "# 0번 패딩 토큰을 고려하여 + 1\n",
        "vocab_size = total_cnt - rare_cnt + 1\n",
        "print('단어 집합의 크기 :',vocab_size)"
      ],
      "execution_count": null,
      "outputs": [
        {
          "output_type": "stream",
          "text": [
            "단어 집합의 크기 : 9654\n"
          ],
          "name": "stdout"
        }
      ]
    },
    {
      "cell_type": "code",
      "metadata": {
        "id": "bQLDSaXYhW1u"
      },
      "source": [
        "tokenizer = Tokenizer(vocab_size) \n",
        "tokenizer.fit_on_texts(X_train)\n",
        "X_train = tokenizer.texts_to_sequences(X_train)\n",
        "X_test = tokenizer.texts_to_sequences(X_test)"
      ],
      "execution_count": null,
      "outputs": []
    },
    {
      "cell_type": "code",
      "metadata": {
        "id": "TzHHSVXbhZYr"
      },
      "source": [
        "y_train = np.array(y_train)\n",
        "y_test = np.array(y_test)"
      ],
      "execution_count": null,
      "outputs": []
    },
    {
      "cell_type": "code",
      "metadata": {
        "id": "dZpOf-H5hdMY"
      },
      "source": [
        "drop_train = [index for index, sentence in enumerate(X_train) if len(sentence) < 1]"
      ],
      "execution_count": null,
      "outputs": []
    },
    {
      "cell_type": "code",
      "metadata": {
        "colab": {
          "base_uri": "https://localhost:8080/"
        },
        "id": "S11R7efdhdtD",
        "outputId": "3e9ccab1-d2c0-435c-e877-6e4cffcaf6e2"
      },
      "source": [
        "# 빈 샘플들을 제거\n",
        "X_train = np.delete(X_train, drop_train, axis=0)\n",
        "y_train = np.delete(y_train, drop_train, axis=0)\n",
        "print(len(X_train))\n",
        "print(len(y_train))"
      ],
      "execution_count": null,
      "outputs": [
        {
          "output_type": "stream",
          "text": [
            "9948\n",
            "9948\n"
          ],
          "name": "stdout"
        },
        {
          "output_type": "stream",
          "text": [
            "/usr/local/lib/python3.7/dist-packages/numpy/core/_asarray.py:83: VisibleDeprecationWarning: Creating an ndarray from ragged nested sequences (which is a list-or-tuple of lists-or-tuples-or ndarrays with different lengths or shapes) is deprecated. If you meant to do this, you must specify 'dtype=object' when creating the ndarray\n",
            "  return array(a, dtype, copy=False, order=order)\n"
          ],
          "name": "stderr"
        }
      ]
    },
    {
      "cell_type": "code",
      "metadata": {
        "colab": {
          "base_uri": "https://localhost:8080/",
          "height": 421
        },
        "id": "sn4A7PuShf9A",
        "outputId": "a51e4acb-50fe-49bf-d7e5-64c8d54a1a0f"
      },
      "source": [
        "print('리뷰의 최대 길이 :',max(len(l) for l in X_train))\n",
        "print('리뷰의 평균 길이 :',sum(map(len, X_train))/len(X_train))\n",
        "plt.figure(figsize=(8,6))\n",
        "plt.hist([len(s) for s in X_train], bins=50, color='mediumpurple')\n",
        "plt.xlabel('length of samples')\n",
        "plt.ylabel('number of samples')\n",
        "\n",
        "plt.axvline(x=sum(map(len, X_train))/len(X_train), color='w', linestyle='--', linewidth=3)\n",
        "plt.show()"
      ],
      "execution_count": null,
      "outputs": [
        {
          "output_type": "stream",
          "text": [
            "리뷰의 최대 길이 : 124\n",
            "리뷰의 평균 길이 : 53.51166063530358\n"
          ],
          "name": "stdout"
        },
        {
          "output_type": "display_data",
          "data": {
            "image/png": "[encoded data removed]",
            "text/plain": [
              "<Figure size 576x432 with 1 Axes>"
            ]
          },
          "metadata": {
            "tags": [],
            "image/png": {
              "width": 499,
              "height": 370
            },
            "needs_background": "light"
          }
        }
      ]
    },
    {
      "cell_type": "code",
      "metadata": {
        "id": "vom_01Yqhf0Q"
      },
      "source": [
        "X_train = pad_sequences(X_train, maxlen = 80)\n",
        "X_test = pad_sequences(X_test, maxlen = 80)"
      ],
      "execution_count": null,
      "outputs": []
    },
    {
      "cell_type": "code",
      "metadata": {
        "id": "3_5vNviHhrRH"
      },
      "source": [
        "model_pred = Sequential([\n",
        "  Embedding(vocab_size, 128),\n",
        "  LSTM(128),\n",
        "  Dense(1, activation='sigmoid')\n",
        "])\n",
        "\n",
        "model_pred.compile(loss='binary_crossentropy',\n",
        "              optimizer='adam', \n",
        "              metrics=['accuracy',\n",
        "                       tf.keras.metrics.Precision(name='precision'),\n",
        "                       tf.keras.metrics.Recall(name='recall')])"
      ],
      "execution_count": null,
      "outputs": []
    },
    {
      "cell_type": "code",
      "metadata": {
        "colab": {
          "base_uri": "https://localhost:8080/"
        },
        "id": "Vwh1H3H3huHx",
        "outputId": "e4de48a7-cfbf-4083-fd1c-1870c759eb1c"
      },
      "source": [
        "model_pred.fit(X_train,y_train,batch_size=64,epochs=10,\n",
        "          validation_split=0.2,callbacks=[es, mc])"
      ],
      "execution_count": null,
      "outputs": [
        {
          "output_type": "stream",
          "text": [
            "Epoch 1/10\n",
            "125/125 [==============================] - 7s 36ms/step - loss: 0.2009 - accuracy: 0.9563 - precision: 0.0000e+00 - recall: 0.0000e+00 - val_loss: 0.1578 - val_accuracy: 0.9628 - val_precision: 0.0000e+00 - val_recall: 0.0000e+00\n",
            "WARNING:tensorflow:Can save best model only with val_acc available, skipping.\n",
            "Epoch 2/10\n",
            "125/125 [==============================] - 4s 31ms/step - loss: 0.1544 - accuracy: 0.9612 - precision: 0.0000e+00 - recall: 0.0000e+00 - val_loss: 0.1604 - val_accuracy: 0.9628 - val_precision: 0.0000e+00 - val_recall: 0.0000e+00\n",
            "WARNING:tensorflow:Can save best model only with val_acc available, skipping.\n",
            "Epoch 3/10\n",
            "125/125 [==============================] - 4s 31ms/step - loss: 0.1106 - accuracy: 0.9644 - precision: 0.6857 - recall: 0.1553 - val_loss: 0.1698 - val_accuracy: 0.9603 - val_precision: 0.1429 - val_recall: 0.0135\n",
            "WARNING:tensorflow:Can save best model only with val_acc available, skipping.\n",
            "Epoch 4/10\n",
            "125/125 [==============================] - 4s 31ms/step - loss: 0.0713 - accuracy: 0.9769 - precision: 0.8238 - recall: 0.5146 - val_loss: 0.2113 - val_accuracy: 0.9618 - val_precision: 0.2500 - val_recall: 0.0135\n",
            "WARNING:tensorflow:Can save best model only with val_acc available, skipping.\n",
            "Epoch 5/10\n",
            "125/125 [==============================] - 4s 31ms/step - loss: 0.0515 - accuracy: 0.9829 - precision: 0.8474 - recall: 0.6828 - val_loss: 0.1942 - val_accuracy: 0.9578 - val_precision: 0.1875 - val_recall: 0.0405\n",
            "WARNING:tensorflow:Can save best model only with val_acc available, skipping.\n",
            "Epoch 00005: early stopping\n"
          ],
          "name": "stdout"
        },
        {
          "output_type": "execute_result",
          "data": {
            "text/plain": [
              "<tensorflow.python.keras.callbacks.History at 0x7f5e902f8310>"
            ]
          },
          "metadata": {
            "tags": []
          },
          "execution_count": 229
        }
      ]
    },
    {
      "cell_type": "code",
      "metadata": {
        "colab": {
          "base_uri": "https://localhost:8080/"
        },
        "id": "aExU53iVh2h7",
        "outputId": "b02dba4c-d200-4f40-cdbc-fb92b3e990e3"
      },
      "source": [
        "model_pred.evaluate(X_test, y_test)"
      ],
      "execution_count": null,
      "outputs": [
        {
          "output_type": "stream",
          "text": [
            "78/78 [==============================] - 1s 7ms/step - loss: 0.2008 - accuracy: 0.9566 - precision: 0.2500 - recall: 0.0625\n"
          ],
          "name": "stdout"
        },
        {
          "output_type": "execute_result",
          "data": {
            "text/plain": [
              "[0.20079612731933594, 0.9566439390182495, 0.25, 0.0625]"
            ]
          },
          "metadata": {
            "tags": []
          },
          "execution_count": 241
        }
      ]
    },
    {
      "cell_type": "code",
      "metadata": {
        "id": "zMBc9Qbsh5V1"
      },
      "source": [
        "def predict(new_sentence):\n",
        "  new_sentence = okt.morphs(new_sentence, stem=True) # 토큰화\n",
        "  new_sentence = [word for word in new_sentence if not word in stopwords] # 불용어 제거\n",
        "  encoded = tokenizer.texts_to_sequences([new_sentence]) # 정수 인코딩\n",
        "  pad_new = pad_sequences(encoded, maxlen = 80) # 패딩\n",
        "  score = float(model_pred.predict(pad_new)) # 예측\n",
        "  if(score > 0.5):\n",
        "    print(\"{:.2f}% 확률로 Best seller 입니다.\\n\".format(score * 100))\n",
        "  else:\n",
        "    print(\"{:.2f}% 확률로 \u0010Best seller가 아닙니다.\\n\".format((1 - score) * 100))"
      ],
      "execution_count": null,
      "outputs": []
    },
    {
      "cell_type": "code",
      "metadata": {
        "colab": {
          "base_uri": "https://localhost:8080/"
        },
        "id": "tertQnOt2aId",
        "outputId": "29d85356-9e8b-46f1-aee3-c5670faf1076"
      },
      "source": [
        "df.iloc[500]"
      ],
      "execution_count": null,
      "outputs": [
        {
          "output_type": "execute_result",
          "data": {
            "text/plain": [
              "title             간편하게 즐기는 샐러드용 채소  그린샐러드 파프리카&적채                                                                                                                                                                                                                                                                               \n",
              "contents         그린샐러드 파프리카&적채로 신선한 샐러드용 채소를 즐겨 보세요. 프릴라이즈(양상추), 로메인, 적근대, 라디치오를 먹기 좋은 크기로 썰어 담고, 파프리카와 적채를 채썰어 토핑했어요. 아삭하게 씹히는 프릴라이즈와 경쾌한 식감의 파프리카를 비롯해 다채로운 채소들이 만나 더욱 싱그러운 맛을 전한답니다. 별다른 손질 없이 가볍게 씻어 주기만 하면 되니 소스나 드레싱을 곁들여 샐러드, 샌드위치 등에 간편하게 활용하기 좋을 거예요. 한 번에 즐기기 좋은 양과 두세 번에 나누어 먹기 좋은 양, 두 가지 용량으로 준비했으니 필요에 맞게 선택해 보세요.\n",
              "label            0                                                                                                                                                                                                                                                                                                              \n",
              "stem_title       [간편하다, 즐기다, 샐러드, 용, 채소, 그린, 파프리카, 적채]                                                                                                                                                                                                                                                                          \n",
              "stem_contents    [그린, 샐러드, 파프리카, 적채, 신선하다, 용, 채소, 즐기다, 보다, 프릴, 라이즈, 양상추, 로메, 근대, 디, 치다, 먹기, 좋다, 크기, 썰다, 담다, 채, 토핑했어, 삭, 씹히다, 경쾌하다, 식감, 비롯, 하다, 만나다, 더욱, 싱그럽다, 맛, 별다르다, 손질, 가볍다, 씻다, 주기, 되다, 소스, 드레싱, 곁들이다, 샌드위치, 간편하다, 활용, 거, 양, 두다, 나누다, 용량, 준비, 필요, 맞다, 선택]                                                                   \n",
              "adj_title        [간편하다]                                                                                                                                                                                                                                                                                                         \n",
              "adj_contents     [신선하다, 좋다, 경쾌하다, 싱그럽다, 별다르다, 가볍다, 간편하다, 좋다, 좋다, 좋다]                                                                                                                                                                                                                                                            \n",
              "title_ls         적채                                                                                                                                                                                                                                                                                                             \n",
              "Name: 500, dtype: object"
            ]
          },
          "metadata": {
            "tags": []
          },
          "execution_count": 231
        }
      ]
    },
    {
      "cell_type": "code",
      "metadata": {
        "colab": {
          "base_uri": "https://localhost:8080/"
        },
        "id": "rF2-oK2M0tB1",
        "outputId": "47fa8a35-39fa-48b1-a7ea-df7be5c2d02e"
      },
      "source": [
        "predict(df.iloc[500].contents)"
      ],
      "execution_count": null,
      "outputs": [
        {
          "output_type": "stream",
          "text": [
            "99.26% 확률로 \u0010Best seller가 아닙니다.\n",
            "\n"
          ],
          "name": "stdout"
        }
      ]
    },
    {
      "cell_type": "code",
      "metadata": {
        "colab": {
          "base_uri": "https://localhost:8080/"
        },
        "id": "X3B7rhGL29UH",
        "outputId": "11522852-bd24-4ea7-fd0b-796a882ba2cf"
      },
      "source": [
        "df.iloc[127]"
      ],
      "execution_count": null,
      "outputs": [
        {
          "output_type": "execute_result",
          "data": {
            "text/plain": [
              "title             든든하고 푸짐한 한 그릇  갈비탕                                                                                                                                                                                                                                                          \n",
              "contents         따뜻하게 속을 데우는 요리로 갈비탕을 빼놓으면 서운해요. 뼈에 붙은 갈비를 살살 발라 국물과 함께 먹으면 몸과 마음이 모두 든든해지죠. 갈비탕으로 소문난 브랜드인 강남면옥 또한 푸짐한 갈비탕을 들고 컬리를 찾았습니다. 살이 실하게 붙은 호주산 소갈비를 골라 깨끗하게 손질하고, 삶은 후 오래 뜸을 들여 육질이 부드러워요. 갈비 삶은 물로 육수를 만들어 국물맛 또한 깊지요. 잘 데운 후 밥과 함께 뜨끈한 한 상을 차려보세요. 기호에 따라 후추, 당면 등을 더해서 드셔도 좋습니다. \n",
              "label            1                                                                                                                                                                                                                                                                            \n",
              "stem_title       [든든하다, 푸다, 짐, 하다, 그릇, 갈비탕]                                                                                                                                                                                                                                                   \n",
              "stem_contents    [따뜻하다, 데우다, 요리, 갈비탕, 빼놓다, 서운하다, 뼈, 붙다, 갈비, 살살, 발라, 국물, 먹다, 몸, 마음, 모두, 든든하다, 소문나다, 브랜드, 강남, 면옥, 또한, 푸다, 짐, 들다, 컬리, 찾다, 살이, 실하다, 호주, 산, 소갈비, 고르다, 깨끗하다, 손질, 삶다, 후, 뜸, 들이다, 육질, 부드럽다, 물, 육수, 만들다, 맛, 깊다, 자다, 밥, 뜨끈하다, 하다, 상, 차려, 보다, 기호, 따르다, 후추, 당면, 더하다, 좋다]                  \n",
              "adj_title        [든든하다]                                                                                                                                                                                                                                                                       \n",
              "adj_contents     [따뜻하다, 서운하다, 든든하다, 실하다, 깨끗하다, 부드럽다, 깊다, 뜨끈하다, 더하다, 좋다]                                                                                                                                                                                                                       \n",
              "title_ls         갈비탕                                                                                                                                                                                                                                                                          \n",
              "Name: 127, dtype: object"
            ]
          },
          "metadata": {
            "tags": []
          },
          "execution_count": 268
        }
      ]
    },
    {
      "cell_type": "code",
      "metadata": {
        "colab": {
          "base_uri": "https://localhost:8080/"
        },
        "id": "-0NaTrkS2lMC",
        "outputId": "a4bbd4a5-b47f-42e4-b7ef-bc5bb93c8595"
      },
      "source": [
        "predict(df.iloc[127].contents)"
      ],
      "execution_count": null,
      "outputs": [
        {
          "output_type": "stream",
          "text": [
            "86.78% 확률로 Best seller 입니다.\n",
            "\n"
          ],
          "name": "stdout"
        }
      ]
    },
    {
      "cell_type": "code",
      "metadata": {
        "colab": {
          "base_uri": "https://localhost:8080/"
        },
        "id": "wkh-a-_Y4Wt5",
        "outputId": "06a32a0e-8899-46aa-d64d-62837cd57c48"
      },
      "source": [
        "new_sentence=sentence_generation(model, tokenizer, '갈비탕', 54)\n",
        "print(new_sentence)"
      ],
      "execution_count": null,
      "outputs": [
        {
          "output_type": "stream",
          "text": [
            "/usr/local/lib/python3.7/dist-packages/tensorflow/python/keras/engine/sequential.py:455: UserWarning: `model.predict_classes()` is deprecated and will be removed after 2021-01-01. Please use instead:* `np.argmax(model.predict(x), axis=-1)`,   if your model does multi-class classification   (e.g. if it uses a `softmax` last-layer activation).* `(model.predict(x) > 0.5).astype(\"int32\")`,   if your model does binary classification   (e.g. if it uses a `sigmoid` last-layer activation).\n",
            "  warnings.warn('`model.predict_classes()` is deprecated and '\n"
          ],
          "name": "stderr"
        },
        {
          "output_type": "stream",
          "text": [
            "갈비탕  따끈하다 식기 와인 갈비 영양소 색 마음 새 알맞다 크리미 일상 컬리 고요 자극 울다 알맞다 소개 맛있다 소개 편하다 성하다 분해 더불다 알맞다 여러 갈다 선택 부위 튀김 컬리 국내 기분 기와 쿠션 소개 국내 함 모양 본연 적다 식 그대로 추억 엑스트라 액 안심 담기다 고소하다 고소하다 본연 갈다 지방 높다 우유\n"
          ],
          "name": "stdout"
        }
      ]
    },
    {
      "cell_type": "code",
      "metadata": {
        "colab": {
          "base_uri": "https://localhost:8080/"
        },
        "id": "pGunheo64Aqj",
        "outputId": "e81fe4d4-7815-4808-d6ca-0c7416e0d3f8"
      },
      "source": [
        "predict(new_sentence)"
      ],
      "execution_count": null,
      "outputs": [
        {
          "output_type": "stream",
          "text": [
            "76.02% 확률로 \u0010Best seller가 아닙니다.\n",
            "\n"
          ],
          "name": "stdout"
        }
      ]
    },
    {
      "cell_type": "markdown",
      "metadata": {
        "id": "ByyViU9ZAQ4Y"
      },
      "source": [
        "# 7. 개선점\n",
        "1. 컨텐츠 카피 데이터 입력 시 램 용량이 초과 되어 제대로 활용할 수 없었던 점\n",
        "\n",
        "  👉🏻 활용방안 찾기\n",
        "\n",
        "2. 베스트셀러 데이터가 너무 적은 불균형한 데이터로 수집한 점\n",
        "\n",
        "  👉🏻 더 많은 데이터 수집\n",
        "\n",
        "3. 모델 출력물이 자연스럽지 못한 점\n",
        "\n",
        "  👉🏻 불용어나 품사에 있어 적정한 변형점을 찾고, 모델 성능을 높일 수 있는 방안에 대한 고민"
      ]
    },
    {
      "cell_type": "code",
      "metadata": {
        "id": "TrcM34ayARMY"
      },
      "source": [
        ""
      ],
      "execution_count": null,
      "outputs": []
    }
  ]
}